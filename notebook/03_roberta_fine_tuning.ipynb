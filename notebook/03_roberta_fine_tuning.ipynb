{
  "cells": [
    {
      "cell_type": "markdown",
      "source": [
        "⚠️ Este notebook asume que el dataset ya fue descargado y ubicado en la carpeta `data/Anxiety/` siguiendo las instrucciones del README principal."
      ],
      "metadata": {
        "id": "2SsFA6kzPPPe"
      },
      "id": "2SsFA6kzPPPe"
    },
    {
      "cell_type": "markdown",
      "id": "d0e4c917-165d-43b9-924e-47782adbd6c7",
      "metadata": {
        "id": "d0e4c917-165d-43b9-924e-47782adbd6c7"
      },
      "source": [
        "## Configuración"
      ]
    },
    {
      "cell_type": "markdown",
      "id": "bc05ee00-b4ec-4ae5-8b49-bf2531f3d666",
      "metadata": {
        "id": "bc05ee00-b4ec-4ae5-8b49-bf2531f3d666"
      },
      "source": [
        "Si está ejecutando este notebook en Google Colab, ejecute la siguiente celda para instalar las bibliotecas que necesitamos:"
      ]
    },
    {
      "cell_type": "code",
      "execution_count": 1,
      "id": "cc194002-5d32-4b46-a8c8-471d3a8af1ef",
      "metadata": {
        "colab": {
          "base_uri": "https://localhost:8080/"
        },
        "id": "cc194002-5d32-4b46-a8c8-471d3a8af1ef",
        "outputId": "8e1e9986-8f25-4006-ad9d-a1ce2826f5b3"
      },
      "outputs": [
        {
          "output_type": "stream",
          "name": "stdout",
          "text": [
            "Collecting datasets\n",
            "  Downloading datasets-3.5.1-py3-none-any.whl.metadata (19 kB)\n",
            "Collecting emoji\n",
            "  Downloading emoji-2.14.1-py3-none-any.whl.metadata (5.7 kB)\n",
            "Requirement already satisfied: filelock in /usr/local/lib/python3.11/dist-packages (from datasets) (3.18.0)\n",
            "Requirement already satisfied: numpy>=1.17 in /usr/local/lib/python3.11/dist-packages (from datasets) (2.0.2)\n",
            "Requirement already satisfied: pyarrow>=15.0.0 in /usr/local/lib/python3.11/dist-packages (from datasets) (18.1.0)\n",
            "Collecting dill<0.3.9,>=0.3.0 (from datasets)\n",
            "  Downloading dill-0.3.8-py3-none-any.whl.metadata (10 kB)\n",
            "Requirement already satisfied: pandas in /usr/local/lib/python3.11/dist-packages (from datasets) (2.2.2)\n",
            "Requirement already satisfied: requests>=2.32.2 in /usr/local/lib/python3.11/dist-packages (from datasets) (2.32.3)\n",
            "Requirement already satisfied: tqdm>=4.66.3 in /usr/local/lib/python3.11/dist-packages (from datasets) (4.67.1)\n",
            "Collecting xxhash (from datasets)\n",
            "  Downloading xxhash-3.5.0-cp311-cp311-manylinux_2_17_x86_64.manylinux2014_x86_64.whl.metadata (12 kB)\n",
            "Collecting multiprocess<0.70.17 (from datasets)\n",
            "  Downloading multiprocess-0.70.16-py311-none-any.whl.metadata (7.2 kB)\n",
            "Collecting fsspec<=2025.3.0,>=2023.1.0 (from fsspec[http]<=2025.3.0,>=2023.1.0->datasets)\n",
            "  Downloading fsspec-2025.3.0-py3-none-any.whl.metadata (11 kB)\n",
            "Requirement already satisfied: aiohttp in /usr/local/lib/python3.11/dist-packages (from datasets) (3.11.15)\n",
            "Requirement already satisfied: huggingface-hub>=0.24.0 in /usr/local/lib/python3.11/dist-packages (from datasets) (0.30.2)\n",
            "Requirement already satisfied: packaging in /usr/local/lib/python3.11/dist-packages (from datasets) (24.2)\n",
            "Requirement already satisfied: pyyaml>=5.1 in /usr/local/lib/python3.11/dist-packages (from datasets) (6.0.2)\n",
            "Requirement already satisfied: aiohappyeyeballs>=2.3.0 in /usr/local/lib/python3.11/dist-packages (from aiohttp->datasets) (2.6.1)\n",
            "Requirement already satisfied: aiosignal>=1.1.2 in /usr/local/lib/python3.11/dist-packages (from aiohttp->datasets) (1.3.2)\n",
            "Requirement already satisfied: attrs>=17.3.0 in /usr/local/lib/python3.11/dist-packages (from aiohttp->datasets) (25.3.0)\n",
            "Requirement already satisfied: frozenlist>=1.1.1 in /usr/local/lib/python3.11/dist-packages (from aiohttp->datasets) (1.6.0)\n",
            "Requirement already satisfied: multidict<7.0,>=4.5 in /usr/local/lib/python3.11/dist-packages (from aiohttp->datasets) (6.4.3)\n",
            "Requirement already satisfied: propcache>=0.2.0 in /usr/local/lib/python3.11/dist-packages (from aiohttp->datasets) (0.3.1)\n",
            "Requirement already satisfied: yarl<2.0,>=1.17.0 in /usr/local/lib/python3.11/dist-packages (from aiohttp->datasets) (1.20.0)\n",
            "Requirement already satisfied: typing-extensions>=3.7.4.3 in /usr/local/lib/python3.11/dist-packages (from huggingface-hub>=0.24.0->datasets) (4.13.2)\n",
            "Requirement already satisfied: charset-normalizer<4,>=2 in /usr/local/lib/python3.11/dist-packages (from requests>=2.32.2->datasets) (3.4.1)\n",
            "Requirement already satisfied: idna<4,>=2.5 in /usr/local/lib/python3.11/dist-packages (from requests>=2.32.2->datasets) (3.10)\n",
            "Requirement already satisfied: urllib3<3,>=1.21.1 in /usr/local/lib/python3.11/dist-packages (from requests>=2.32.2->datasets) (2.4.0)\n",
            "Requirement already satisfied: certifi>=2017.4.17 in /usr/local/lib/python3.11/dist-packages (from requests>=2.32.2->datasets) (2025.4.26)\n",
            "Requirement already satisfied: python-dateutil>=2.8.2 in /usr/local/lib/python3.11/dist-packages (from pandas->datasets) (2.9.0.post0)\n",
            "Requirement already satisfied: pytz>=2020.1 in /usr/local/lib/python3.11/dist-packages (from pandas->datasets) (2025.2)\n",
            "Requirement already satisfied: tzdata>=2022.7 in /usr/local/lib/python3.11/dist-packages (from pandas->datasets) (2025.2)\n",
            "Requirement already satisfied: six>=1.5 in /usr/local/lib/python3.11/dist-packages (from python-dateutil>=2.8.2->pandas->datasets) (1.17.0)\n",
            "Downloading datasets-3.5.1-py3-none-any.whl (491 kB)\n",
            "\u001b[2K   \u001b[90m━━━━━━━━━━━━━━━━━━━━━━━━━━━━━━━━━━━━━━━━\u001b[0m \u001b[32m491.4/491.4 kB\u001b[0m \u001b[31m11.2 MB/s\u001b[0m eta \u001b[36m0:00:00\u001b[0m\n",
            "\u001b[?25hDownloading emoji-2.14.1-py3-none-any.whl (590 kB)\n",
            "\u001b[2K   \u001b[90m━━━━━━━━━━━━━━━━━━━━━━━━━━━━━━━━━━━━━━━━\u001b[0m \u001b[32m590.6/590.6 kB\u001b[0m \u001b[31m12.7 MB/s\u001b[0m eta \u001b[36m0:00:00\u001b[0m\n",
            "\u001b[?25hDownloading dill-0.3.8-py3-none-any.whl (116 kB)\n",
            "\u001b[2K   \u001b[90m━━━━━━━━━━━━━━━━━━━━━━━━━━━━━━━━━━━━━━━━\u001b[0m \u001b[32m116.3/116.3 kB\u001b[0m \u001b[31m8.5 MB/s\u001b[0m eta \u001b[36m0:00:00\u001b[0m\n",
            "\u001b[?25hDownloading fsspec-2025.3.0-py3-none-any.whl (193 kB)\n",
            "\u001b[2K   \u001b[90m━━━━━━━━━━━━━━━━━━━━━━━━━━━━━━━━━━━━━━━━\u001b[0m \u001b[32m193.6/193.6 kB\u001b[0m \u001b[31m14.7 MB/s\u001b[0m eta \u001b[36m0:00:00\u001b[0m\n",
            "\u001b[?25hDownloading multiprocess-0.70.16-py311-none-any.whl (143 kB)\n",
            "\u001b[2K   \u001b[90m━━━━━━━━━━━━━━━━━━━━━━━━━━━━━━━━━━━━━━━━\u001b[0m \u001b[32m143.5/143.5 kB\u001b[0m \u001b[31m6.4 MB/s\u001b[0m eta \u001b[36m0:00:00\u001b[0m\n",
            "\u001b[?25hDownloading xxhash-3.5.0-cp311-cp311-manylinux_2_17_x86_64.manylinux2014_x86_64.whl (194 kB)\n",
            "\u001b[2K   \u001b[90m━━━━━━━━━━━━━━━━━━━━━━━━━━━━━━━━━━━━━━━━\u001b[0m \u001b[32m194.8/194.8 kB\u001b[0m \u001b[31m11.5 MB/s\u001b[0m eta \u001b[36m0:00:00\u001b[0m\n",
            "\u001b[?25hInstalling collected packages: xxhash, fsspec, emoji, dill, multiprocess, datasets\n",
            "  Attempting uninstall: fsspec\n",
            "    Found existing installation: fsspec 2025.3.2\n",
            "    Uninstalling fsspec-2025.3.2:\n",
            "      Successfully uninstalled fsspec-2025.3.2\n",
            "\u001b[31mERROR: pip's dependency resolver does not currently take into account all the packages that are installed. This behaviour is the source of the following dependency conflicts.\n",
            "gcsfs 2025.3.2 requires fsspec==2025.3.2, but you have fsspec 2025.3.0 which is incompatible.\n",
            "torch 2.6.0+cu124 requires nvidia-cublas-cu12==12.4.5.8; platform_system == \"Linux\" and platform_machine == \"x86_64\", but you have nvidia-cublas-cu12 12.5.3.2 which is incompatible.\n",
            "torch 2.6.0+cu124 requires nvidia-cuda-cupti-cu12==12.4.127; platform_system == \"Linux\" and platform_machine == \"x86_64\", but you have nvidia-cuda-cupti-cu12 12.5.82 which is incompatible.\n",
            "torch 2.6.0+cu124 requires nvidia-cuda-nvrtc-cu12==12.4.127; platform_system == \"Linux\" and platform_machine == \"x86_64\", but you have nvidia-cuda-nvrtc-cu12 12.5.82 which is incompatible.\n",
            "torch 2.6.0+cu124 requires nvidia-cuda-runtime-cu12==12.4.127; platform_system == \"Linux\" and platform_machine == \"x86_64\", but you have nvidia-cuda-runtime-cu12 12.5.82 which is incompatible.\n",
            "torch 2.6.0+cu124 requires nvidia-cudnn-cu12==9.1.0.70; platform_system == \"Linux\" and platform_machine == \"x86_64\", but you have nvidia-cudnn-cu12 9.3.0.75 which is incompatible.\n",
            "torch 2.6.0+cu124 requires nvidia-cufft-cu12==11.2.1.3; platform_system == \"Linux\" and platform_machine == \"x86_64\", but you have nvidia-cufft-cu12 11.2.3.61 which is incompatible.\n",
            "torch 2.6.0+cu124 requires nvidia-curand-cu12==10.3.5.147; platform_system == \"Linux\" and platform_machine == \"x86_64\", but you have nvidia-curand-cu12 10.3.6.82 which is incompatible.\n",
            "torch 2.6.0+cu124 requires nvidia-cusolver-cu12==11.6.1.9; platform_system == \"Linux\" and platform_machine == \"x86_64\", but you have nvidia-cusolver-cu12 11.6.3.83 which is incompatible.\n",
            "torch 2.6.0+cu124 requires nvidia-cusparse-cu12==12.3.1.170; platform_system == \"Linux\" and platform_machine == \"x86_64\", but you have nvidia-cusparse-cu12 12.5.1.3 which is incompatible.\n",
            "torch 2.6.0+cu124 requires nvidia-nvjitlink-cu12==12.4.127; platform_system == \"Linux\" and platform_machine == \"x86_64\", but you have nvidia-nvjitlink-cu12 12.5.82 which is incompatible.\u001b[0m\u001b[31m\n",
            "\u001b[0mSuccessfully installed datasets-3.5.1 dill-0.3.8 emoji-2.14.1 fsspec-2025.3.0 multiprocess-0.70.16 xxhash-3.5.0\n",
            "Collecting evaluate\n",
            "  Downloading evaluate-0.4.3-py3-none-any.whl.metadata (9.2 kB)\n",
            "Requirement already satisfied: datasets>=2.0.0 in /usr/local/lib/python3.11/dist-packages (from evaluate) (3.5.1)\n",
            "Requirement already satisfied: numpy>=1.17 in /usr/local/lib/python3.11/dist-packages (from evaluate) (2.0.2)\n",
            "Requirement already satisfied: dill in /usr/local/lib/python3.11/dist-packages (from evaluate) (0.3.8)\n",
            "Requirement already satisfied: pandas in /usr/local/lib/python3.11/dist-packages (from evaluate) (2.2.2)\n",
            "Requirement already satisfied: requests>=2.19.0 in /usr/local/lib/python3.11/dist-packages (from evaluate) (2.32.3)\n",
            "Requirement already satisfied: tqdm>=4.62.1 in /usr/local/lib/python3.11/dist-packages (from evaluate) (4.67.1)\n",
            "Requirement already satisfied: xxhash in /usr/local/lib/python3.11/dist-packages (from evaluate) (3.5.0)\n",
            "Requirement already satisfied: multiprocess in /usr/local/lib/python3.11/dist-packages (from evaluate) (0.70.16)\n",
            "Requirement already satisfied: fsspec>=2021.05.0 in /usr/local/lib/python3.11/dist-packages (from fsspec[http]>=2021.05.0->evaluate) (2025.3.0)\n",
            "Requirement already satisfied: huggingface-hub>=0.7.0 in /usr/local/lib/python3.11/dist-packages (from evaluate) (0.30.2)\n",
            "Requirement already satisfied: packaging in /usr/local/lib/python3.11/dist-packages (from evaluate) (24.2)\n",
            "Requirement already satisfied: filelock in /usr/local/lib/python3.11/dist-packages (from datasets>=2.0.0->evaluate) (3.18.0)\n",
            "Requirement already satisfied: pyarrow>=15.0.0 in /usr/local/lib/python3.11/dist-packages (from datasets>=2.0.0->evaluate) (18.1.0)\n",
            "Requirement already satisfied: aiohttp in /usr/local/lib/python3.11/dist-packages (from datasets>=2.0.0->evaluate) (3.11.15)\n",
            "Requirement already satisfied: pyyaml>=5.1 in /usr/local/lib/python3.11/dist-packages (from datasets>=2.0.0->evaluate) (6.0.2)\n",
            "Requirement already satisfied: typing-extensions>=3.7.4.3 in /usr/local/lib/python3.11/dist-packages (from huggingface-hub>=0.7.0->evaluate) (4.13.2)\n",
            "Requirement already satisfied: charset-normalizer<4,>=2 in /usr/local/lib/python3.11/dist-packages (from requests>=2.19.0->evaluate) (3.4.1)\n",
            "Requirement already satisfied: idna<4,>=2.5 in /usr/local/lib/python3.11/dist-packages (from requests>=2.19.0->evaluate) (3.10)\n",
            "Requirement already satisfied: urllib3<3,>=1.21.1 in /usr/local/lib/python3.11/dist-packages (from requests>=2.19.0->evaluate) (2.4.0)\n",
            "Requirement already satisfied: certifi>=2017.4.17 in /usr/local/lib/python3.11/dist-packages (from requests>=2.19.0->evaluate) (2025.4.26)\n",
            "Requirement already satisfied: python-dateutil>=2.8.2 in /usr/local/lib/python3.11/dist-packages (from pandas->evaluate) (2.9.0.post0)\n",
            "Requirement already satisfied: pytz>=2020.1 in /usr/local/lib/python3.11/dist-packages (from pandas->evaluate) (2025.2)\n",
            "Requirement already satisfied: tzdata>=2022.7 in /usr/local/lib/python3.11/dist-packages (from pandas->evaluate) (2025.2)\n",
            "Requirement already satisfied: aiohappyeyeballs>=2.3.0 in /usr/local/lib/python3.11/dist-packages (from aiohttp->datasets>=2.0.0->evaluate) (2.6.1)\n",
            "Requirement already satisfied: aiosignal>=1.1.2 in /usr/local/lib/python3.11/dist-packages (from aiohttp->datasets>=2.0.0->evaluate) (1.3.2)\n",
            "Requirement already satisfied: attrs>=17.3.0 in /usr/local/lib/python3.11/dist-packages (from aiohttp->datasets>=2.0.0->evaluate) (25.3.0)\n",
            "Requirement already satisfied: frozenlist>=1.1.1 in /usr/local/lib/python3.11/dist-packages (from aiohttp->datasets>=2.0.0->evaluate) (1.6.0)\n",
            "Requirement already satisfied: multidict<7.0,>=4.5 in /usr/local/lib/python3.11/dist-packages (from aiohttp->datasets>=2.0.0->evaluate) (6.4.3)\n",
            "Requirement already satisfied: propcache>=0.2.0 in /usr/local/lib/python3.11/dist-packages (from aiohttp->datasets>=2.0.0->evaluate) (0.3.1)\n",
            "Requirement already satisfied: yarl<2.0,>=1.17.0 in /usr/local/lib/python3.11/dist-packages (from aiohttp->datasets>=2.0.0->evaluate) (1.20.0)\n",
            "Requirement already satisfied: six>=1.5 in /usr/local/lib/python3.11/dist-packages (from python-dateutil>=2.8.2->pandas->evaluate) (1.17.0)\n",
            "Downloading evaluate-0.4.3-py3-none-any.whl (84 kB)\n",
            "\u001b[2K   \u001b[90m━━━━━━━━━━━━━━━━━━━━━━━━━━━━━━━━━━━━━━━━\u001b[0m \u001b[32m84.0/84.0 kB\u001b[0m \u001b[31m2.2 MB/s\u001b[0m eta \u001b[36m0:00:00\u001b[0m\n",
            "\u001b[?25hInstalling collected packages: evaluate\n",
            "Successfully installed evaluate-0.4.3\n",
            "Collecting transformers==4.28.0\n",
            "  Downloading transformers-4.28.0-py3-none-any.whl.metadata (109 kB)\n",
            "\u001b[2K     \u001b[90m━━━━━━━━━━━━━━━━━━━━━━━━━━━━━━━━━━━━━━━\u001b[0m \u001b[32m110.0/110.0 kB\u001b[0m \u001b[31m4.7 MB/s\u001b[0m eta \u001b[36m0:00:00\u001b[0m\n",
            "\u001b[?25hRequirement already satisfied: filelock in /usr/local/lib/python3.11/dist-packages (from transformers==4.28.0) (3.18.0)\n",
            "Requirement already satisfied: huggingface-hub<1.0,>=0.11.0 in /usr/local/lib/python3.11/dist-packages (from transformers==4.28.0) (0.30.2)\n",
            "Requirement already satisfied: numpy>=1.17 in /usr/local/lib/python3.11/dist-packages (from transformers==4.28.0) (2.0.2)\n",
            "Requirement already satisfied: packaging>=20.0 in /usr/local/lib/python3.11/dist-packages (from transformers==4.28.0) (24.2)\n",
            "Requirement already satisfied: pyyaml>=5.1 in /usr/local/lib/python3.11/dist-packages (from transformers==4.28.0) (6.0.2)\n",
            "Requirement already satisfied: regex!=2019.12.17 in /usr/local/lib/python3.11/dist-packages (from transformers==4.28.0) (2024.11.6)\n",
            "Requirement already satisfied: requests in /usr/local/lib/python3.11/dist-packages (from transformers==4.28.0) (2.32.3)\n",
            "Collecting tokenizers!=0.11.3,<0.14,>=0.11.1 (from transformers==4.28.0)\n",
            "  Downloading tokenizers-0.13.3-cp311-cp311-manylinux_2_17_x86_64.manylinux2014_x86_64.whl.metadata (6.7 kB)\n",
            "Requirement already satisfied: tqdm>=4.27 in /usr/local/lib/python3.11/dist-packages (from transformers==4.28.0) (4.67.1)\n",
            "Requirement already satisfied: fsspec>=2023.5.0 in /usr/local/lib/python3.11/dist-packages (from huggingface-hub<1.0,>=0.11.0->transformers==4.28.0) (2025.3.0)\n",
            "Requirement already satisfied: typing-extensions>=3.7.4.3 in /usr/local/lib/python3.11/dist-packages (from huggingface-hub<1.0,>=0.11.0->transformers==4.28.0) (4.13.2)\n",
            "Requirement already satisfied: charset-normalizer<4,>=2 in /usr/local/lib/python3.11/dist-packages (from requests->transformers==4.28.0) (3.4.1)\n",
            "Requirement already satisfied: idna<4,>=2.5 in /usr/local/lib/python3.11/dist-packages (from requests->transformers==4.28.0) (3.10)\n",
            "Requirement already satisfied: urllib3<3,>=1.21.1 in /usr/local/lib/python3.11/dist-packages (from requests->transformers==4.28.0) (2.4.0)\n",
            "Requirement already satisfied: certifi>=2017.4.17 in /usr/local/lib/python3.11/dist-packages (from requests->transformers==4.28.0) (2025.4.26)\n",
            "Downloading transformers-4.28.0-py3-none-any.whl (7.0 MB)\n",
            "\u001b[2K   \u001b[90m━━━━━━━━━━━━━━━━━━━━━━━━━━━━━━━━━━━━━━━━\u001b[0m \u001b[32m7.0/7.0 MB\u001b[0m \u001b[31m62.4 MB/s\u001b[0m eta \u001b[36m0:00:00\u001b[0m\n",
            "\u001b[?25hDownloading tokenizers-0.13.3-cp311-cp311-manylinux_2_17_x86_64.manylinux2014_x86_64.whl (7.8 MB)\n",
            "\u001b[2K   \u001b[90m━━━━━━━━━━━━━━━━━━━━━━━━━━━━━━━━━━━━━━━━\u001b[0m \u001b[32m7.8/7.8 MB\u001b[0m \u001b[31m74.2 MB/s\u001b[0m eta \u001b[36m0:00:00\u001b[0m\n",
            "\u001b[?25hInstalling collected packages: tokenizers, transformers\n",
            "  Attempting uninstall: tokenizers\n",
            "    Found existing installation: tokenizers 0.21.1\n",
            "    Uninstalling tokenizers-0.21.1:\n",
            "      Successfully uninstalled tokenizers-0.21.1\n",
            "  Attempting uninstall: transformers\n",
            "    Found existing installation: transformers 4.51.3\n",
            "    Uninstalling transformers-4.51.3:\n",
            "      Successfully uninstalled transformers-4.51.3\n",
            "\u001b[31mERROR: pip's dependency resolver does not currently take into account all the packages that are installed. This behaviour is the source of the following dependency conflicts.\n",
            "sentence-transformers 3.4.1 requires transformers<5.0.0,>=4.41.0, but you have transformers 4.28.0 which is incompatible.\u001b[0m\u001b[31m\n",
            "\u001b[0mSuccessfully installed tokenizers-0.13.3 transformers-4.28.0\n"
          ]
        }
      ],
      "source": [
        "!pip install datasets emoji\n",
        "!pip install evaluate\n",
        "!pip install transformers==4.28.0"
      ]
    },
    {
      "cell_type": "code",
      "source": [
        "# Clonar repositorio desde GitHub (solo si no existe la carpeta local)\n",
        "REPO_URL = \"https://github.com/manununhez/mentalrisk-nlp-ucom.git\"\n",
        "REPO_NAME = \"mentalrisk-nlp-ucom\"\n",
        "\n",
        "import os\n",
        "\n",
        "if not os.path.exists(REPO_NAME):\n",
        "    # Clonado rápido (solo última versión, sin historial completo)\n",
        "    !git clone --depth 1 {REPO_URL}\n",
        "\n",
        "# Cambiar al directorio del repositorio\n",
        "%cd {REPO_NAME}\n"
      ],
      "metadata": {
        "colab": {
          "base_uri": "https://localhost:8080/"
        },
        "id": "rwygEmF0PhNG",
        "outputId": "08b8072e-a29a-4b7a-f437-42338910a91c"
      },
      "id": "rwygEmF0PhNG",
      "execution_count": 2,
      "outputs": [
        {
          "output_type": "stream",
          "name": "stdout",
          "text": [
            "Cloning into 'mentalrisk-nlp-ucom'...\n",
            "remote: Enumerating objects: 19, done.\u001b[K\n",
            "remote: Counting objects: 100% (19/19), done.\u001b[K\n",
            "remote: Compressing objects: 100% (18/18), done.\u001b[K\n",
            "remote: Total 19 (delta 0), reused 16 (delta 0), pack-reused 0 (from 0)\u001b[K\n",
            "Receiving objects: 100% (19/19), 402.99 KiB | 1.63 MiB/s, done.\n",
            "/content/mentalrisk-nlp-ucom\n"
          ]
        }
      ]
    },
    {
      "cell_type": "markdown",
      "id": "TxVRUnmHyMYZ",
      "metadata": {
        "id": "TxVRUnmHyMYZ"
      },
      "source": [
        "# Parte 1: Preprocesamiento"
      ]
    },
    {
      "cell_type": "markdown",
      "id": "749879c3-fd1d-4f52-ac2b-d967a6c64c60",
      "metadata": {
        "id": "749879c3-fd1d-4f52-ac2b-d967a6c64c60"
      },
      "source": [
        "## Cargar y explorar los datos"
      ]
    },
    {
      "cell_type": "code",
      "execution_count": 4,
      "id": "wuzFWhSx3zNQ",
      "metadata": {
        "id": "wuzFWhSx3zNQ",
        "colab": {
          "base_uri": "https://localhost:8080/"
        },
        "outputId": "11f16984-6efb-400d-ba1d-0a362642b3a4"
      },
      "outputs": [
        {
          "output_type": "stream",
          "name": "stdout",
          "text": [
            "Mounted at /content/drive\n"
          ]
        }
      ],
      "source": [
        "from google.colab import drive\n",
        "drive.mount('/content/drive', force_remount=True)"
      ]
    },
    {
      "cell_type": "code",
      "source": [
        "# Importar librerías\n",
        "\n",
        "import os, json, re, html, unicodedata, pathlib, warnings, itertools, pprint, joblib\n",
        "import pandas as pd\n",
        "import numpy as np\n",
        "#from emoji import demojize                 # ←  convierte 🙂 → :slightly_smiling_face:\n",
        "warnings.filterwarnings(\"ignore\")\n",
        "\n",
        "import sys\n",
        "sys.path.append(\"utils\")  # Asegura que Python pueda encontrar el módulo\n",
        "\n",
        "from text_cleaning import clean_text\n",
        "from data_loader import build_df_from_folder"
      ],
      "metadata": {
        "id": "2J9PjiL3RhSr"
      },
      "id": "2J9PjiL3RhSr",
      "execution_count": 6,
      "outputs": []
    },
    {
      "cell_type": "code",
      "source": [
        "from reproducibility import set_seed\n",
        "\n",
        "# Fijar semilla en toda la sesión\n",
        "set_seed(42)"
      ],
      "metadata": {
        "id": "KNTCQ1mQkdiM"
      },
      "id": "KNTCQ1mQkdiM",
      "execution_count": 7,
      "outputs": []
    },
    {
      "cell_type": "code",
      "source": [
        "# Unir todos los sub-corpora\n",
        "\n",
        "SUBSETS = {\n",
        "    \"Anxiety\": {\n",
        "        \"json_dir\": \"/content/drive/MyDrive/data/Anxiety/data\",\n",
        "        \"csv_path\": \"/content/drive/MyDrive/data/Anxiety/gold/gold_label.csv\",\n",
        "    },\n",
        "    # descomenta / añade si tienes Depresión y TCA\n",
        "    # \"Depression\": { … },\n",
        "    # \"TCA\":        { … },\n",
        "}\n",
        "\n",
        "df_all_processed = pd.concat([build_df_from_folder(v[\"json_dir\"], v[\"csv_path\"]) for v in SUBSETS.values()], ignore_index=True)"
      ],
      "metadata": {
        "id": "fwEGViJfpf6x"
      },
      "execution_count": 8,
      "outputs": [],
      "id": "fwEGViJfpf6x"
    },
    {
      "cell_type": "code",
      "source": [
        "# Verificar el contenido del df_all_processed\n",
        "\n",
        "print(df_all_processed.head())\n",
        "print(df_all_processed.info())\n",
        "print(df_all_processed.describe())"
      ],
      "metadata": {
        "colab": {
          "base_uri": "https://localhost:8080/"
        },
        "id": "aZ3_UHAgp_Ou",
        "outputId": "a269705a-5075-4937-aec1-94e4374ef0a9"
      },
      "execution_count": 9,
      "outputs": [
        {
          "output_type": "stream",
          "name": "stdout",
          "text": [
            "         user  label                                      message_clean\n",
            "0    subject1      1  buenos días a tod mention no sé si esta será l...\n",
            "1   subject10      0  ola soi nuebo como estn a ustds los entimdm ke...\n",
            "2  subject100      1  de donde son yo de perú supongo q tb sigue en ...\n",
            "3  subject101      1  es lo que necesitas aaah pues perdón por no ha...\n",
            "4  subject102      1  ya perdí una xd siete seguidas no está mal el ...\n",
            "<class 'pandas.core.frame.DataFrame'>\n",
            "RangeIndex: 500 entries, 0 to 499\n",
            "Data columns (total 3 columns):\n",
            " #   Column         Non-Null Count  Dtype \n",
            "---  ------         --------------  ----- \n",
            " 0   user           500 non-null    object\n",
            " 1   label          500 non-null    int64 \n",
            " 2   message_clean  500 non-null    object\n",
            "dtypes: int64(1), object(2)\n",
            "memory usage: 11.8+ KB\n",
            "None\n",
            "           label\n",
            "count  500.00000\n",
            "mean     0.88600\n",
            "std      0.31813\n",
            "min      0.00000\n",
            "25%      1.00000\n",
            "50%      1.00000\n",
            "75%      1.00000\n",
            "max      1.00000\n"
          ]
        }
      ],
      "id": "aZ3_UHAgp_Ou"
    },
    {
      "cell_type": "code",
      "source": [
        "# Guardamos a disco\n",
        "\n",
        "csv_backup_name = 'MentalRiskES_finetuning_userlevel_clean_processed.csv'\n",
        "df_all_processed.to_csv(csv_backup_name, index=False)\n",
        "print(f\"CSV guardado → {csv_backup_name}\")"
      ],
      "metadata": {
        "colab": {
          "base_uri": "https://localhost:8080/"
        },
        "id": "fzEHGg7MpmgF",
        "outputId": "c5025a16-7700-420a-ed0d-dedcad347ef7"
      },
      "execution_count": 10,
      "outputs": [
        {
          "output_type": "stream",
          "name": "stdout",
          "text": [
            "CSV guardado → MentalRiskES_finetuning_userlevel_clean_processed.csv\n"
          ]
        }
      ],
      "id": "fzEHGg7MpmgF"
    },
    {
      "cell_type": "code",
      "source": [
        "# Inicializar lista para guardar resultados de cada configuración\n",
        "resultados_modelo = []"
      ],
      "metadata": {
        "id": "EJ8OIwkO-tBx"
      },
      "id": "EJ8OIwkO-tBx",
      "execution_count": 11,
      "outputs": []
    },
    {
      "cell_type": "markdown",
      "id": "vAqgJAdd3Up9",
      "metadata": {
        "id": "vAqgJAdd3Up9"
      },
      "source": [
        "## Distribución de clases"
      ]
    },
    {
      "cell_type": "code",
      "execution_count": 12,
      "id": "jiX0wQ3o3Eyr",
      "metadata": {
        "id": "jiX0wQ3o3Eyr",
        "colab": {
          "base_uri": "https://localhost:8080/",
          "height": 565
        },
        "outputId": "7edcd41b-296e-46d6-bf34-9c3770cb9c54"
      },
      "outputs": [
        {
          "output_type": "display_data",
          "data": {
            "text/plain": [
              "<Figure size 800x600 with 1 Axes>"
            ],
            "image/png": "[encoded data removed]"
          },
          "metadata": {}
        }
      ],
      "source": [
        "import seaborn as sns\n",
        "import matplotlib.pyplot as plt\n",
        "\n",
        "plt.figure(figsize=(8, 6))  # Ajusta el tamaño de la figura si es necesario\n",
        "sns.countplot(x=\"label\", data=df_all_processed)\n",
        "plt.title(\"Distribución final de etiquetas\")\n",
        "plt.xlabel(\"Etiqueta\")\n",
        "plt.ylabel(\"Cantidad\")\n",
        "plt.show()"
      ]
    },
    {
      "cell_type": "markdown",
      "id": "AsSznn2N3_9l",
      "metadata": {
        "id": "AsSznn2N3_9l"
      },
      "source": [
        "La clase `0` (Control) representa solo ~10% de los ejemplos, lo que confirma el fuerte desbalance. Esto justifica aplicar técnicas de balanceo como `class_weight` y threshold tuning más adelante.\n"
      ]
    },
    {
      "cell_type": "markdown",
      "id": "8_XWK3jO8ca9",
      "metadata": {
        "id": "8_XWK3jO8ca9"
      },
      "source": [
        "## Separar en train/test"
      ]
    },
    {
      "cell_type": "code",
      "source": [
        "df_user_level = pd.read_csv(csv_backup_name)"
      ],
      "metadata": {
        "id": "xfN1ufjkSxK6"
      },
      "id": "xfN1ufjkSxK6",
      "execution_count": 13,
      "outputs": []
    },
    {
      "cell_type": "code",
      "execution_count": 14,
      "id": "qg8RuMT-SsWo",
      "metadata": {
        "id": "qg8RuMT-SsWo",
        "colab": {
          "base_uri": "https://localhost:8080/"
        },
        "outputId": "5ab0676c-0182-4286-8117-887cc240253f"
      },
      "outputs": [
        {
          "output_type": "stream",
          "name": "stdout",
          "text": [
            "Train size: 350, Test size: 150\n"
          ]
        }
      ],
      "source": [
        "from sklearn.model_selection import train_test_split\n",
        "\n",
        "# Primero divide la lista de usuarios únicos respetando el balance (stratify).\n",
        "# Luego filtra las filas completas para esos usuarios.\n",
        "# Clasificamos por usuario (no por mensaje aislado), y asi aseguramos que las evaluaciones no contaminen los datos con ejemplos del mismo usuario en ambos conjuntos.\n",
        "\n",
        "train_users, test_users = train_test_split(\n",
        "    df_user_level['user'], test_size=0.3, random_state=42,\n",
        "    stratify=df_user_level['label']\n",
        ")\n",
        "\n",
        "train_df = df_user_level[df_user_level['user'].isin(train_users)].reset_index(drop=True)\n",
        "test_df = df_user_level[df_user_level['user'].isin(test_users)].reset_index(drop=True)\n",
        "\n",
        "print(f\"Train size: {train_df.shape[0]}, Test size: {test_df.shape[0]}\")"
      ]
    },
    {
      "cell_type": "markdown",
      "id": "3uYTTEox8lOS",
      "metadata": {
        "id": "3uYTTEox8lOS"
      },
      "source": [
        "## Crear DatasetDict para Huggingface"
      ]
    },
    {
      "cell_type": "code",
      "execution_count": 15,
      "id": "3vogNIH2SuvF",
      "metadata": {
        "id": "3vogNIH2SuvF",
        "colab": {
          "base_uri": "https://localhost:8080/"
        },
        "outputId": "153eba95-89ba-47fe-fb2d-ef9e34b0766d"
      },
      "outputs": [
        {
          "output_type": "stream",
          "name": "stdout",
          "text": [
            "DatasetDict({\n",
            "    train: Dataset({\n",
            "        features: ['text', 'label'],\n",
            "        num_rows: 350\n",
            "    })\n",
            "    test: Dataset({\n",
            "        features: ['text', 'label'],\n",
            "        num_rows: 150\n",
            "    })\n",
            "})\n"
          ]
        }
      ],
      "source": [
        "from datasets import Dataset, DatasetDict\n",
        "\n",
        "dataset_train = Dataset.from_pandas(train_df[[\"message_clean\", \"label\"]].rename(columns={\"message_clean\": \"text\"}))\n",
        "dataset_test = Dataset.from_pandas(test_df[[\"message_clean\", \"label\"]].rename(columns={\"message_clean\": \"text\"}))\n",
        "\n",
        "dataset_dict = DatasetDict({\n",
        "    \"train\": dataset_train,\n",
        "    \"test\": dataset_test\n",
        "})\n",
        "\n",
        "print(dataset_dict)"
      ]
    },
    {
      "cell_type": "code",
      "execution_count": 16,
      "id": "375c2cd6-7118-400f-a8a1-f3bbd1ff6f81",
      "metadata": {
        "id": "375c2cd6-7118-400f-a8a1-f3bbd1ff6f81"
      },
      "outputs": [],
      "source": [
        "import random\n",
        "import pandas as pd\n",
        "from datasets import ClassLabel\n",
        "from IPython.display import display, HTML\n",
        "\n",
        "def show_random_elements(dataset, num_examples=10):\n",
        "    \"Taken from https://github.com/huggingface/notebooks/blob/master/examples/text_classification.ipynb\"\n",
        "\n",
        "    assert num_examples <= len(dataset), \"Can't pick more elements than there are in the dataset.\"\n",
        "    picks = []\n",
        "    for _ in range(num_examples):\n",
        "        pick = random.randint(0, len(dataset)-1)\n",
        "        while pick in picks:\n",
        "            pick = random.randint(0, len(dataset)-1)\n",
        "        picks.append(pick)\n",
        "\n",
        "    df = pd.DataFrame(dataset[picks])\n",
        "    for column, typ in dataset.features.items():\n",
        "        if isinstance(typ, ClassLabel):\n",
        "            df[column] = df[column].transform(lambda i: typ.names[i])\n",
        "    display(HTML(df.to_html()))"
      ]
    },
    {
      "cell_type": "code",
      "execution_count": 17,
      "id": "f5cfb477-a6cc-41bf-becc-b7bbfcaf6aea",
      "metadata": {
        "id": "f5cfb477-a6cc-41bf-becc-b7bbfcaf6aea",
        "colab": {
          "base_uri": "https://localhost:8080/",
          "height": 1000
        },
        "outputId": "3d928c9c-3b8c-4185-bde1-eac29544347a"
      },
      "outputs": [
        {
          "output_type": "display_data",
          "data": {
            "text/plain": [
              "<IPython.core.display.HTML object>"
            ],
            "text/html": [
              "<table border=\"1\" class=\"dataframe\">\n",
              "  <thead>\n",
              "    <tr style=\"text-align: right;\">\n",
              "      <th></th>\n",
              "      <th>text</th>\n",
              "      <th>label</th>\n",
              "    </tr>\n",
              "  </thead>\n",
              "  <tbody>\n",
              "    <tr>\n",
              "      <th>0</th>\n",
              "      <td>a mí me pasa en especial como si tuviese lag en la vista o algo así jajaja entonces andamos algo igual yo tengo astigmatismo xd y el ojo que ve mal anda como voy desorbitado yo debería usar lentes de hecho los tengo pero se rompieron xd no es que haya mucho tengo num voy en preparatoria me gusta la fotografía y la bicicleta aquí en méxico la educación va de preescolar a partir de los num años de edad después primaria a partir de los num o num años dura num años siguiendo por la secundaria que son num años y después por preparatoria otros tres años es el bachillerato justo antes de entrar a la universidad no lo sé muy seguido me siento atrapado en ocasiones muy paranoico que hacen quisiera saber más de ustedes es reconfortante leerlo por lo general me he guardado todo esto para mí no es que a los demás mucho les importe yo o que tenga que estar contándolo pero este grupo es para eso reconforta a mí también me ayuda mucho el ejercicio antes salía mucho en bici y parecía tener todo bajo control igual con el gimnasio me mantenía bien no he tenido tiempo en estos días o simplemente no he querido ir noto como me regresa la ansiedad y como ya sin control yo aún estoy intentando saber como pero hoy salí en bicicleta en montaña realmente me sentí mejor hey hola a todos estuve un par de semanas sin teléfono cómo les va</td>\n",
              "      <td>1</td>\n",
              "    </tr>\n",
              "    <tr>\n",
              "      <th>1</th>\n",
              "      <td>creo q os van a dar un toke a la peña con el tema de la hora golfa se os está yendo de las manos en este grupo cuando sacáis mismo tema q os interesa a unos pocos el protocolo es que lo hagáis por privado estropeais la función para lo q esta destinado el grupo y mañana habrá num mensajes os lo dice una q lleva años aquí q descanséis e iros por lo privado es un consejo buenas noches empieza por un cuarto durante num días y así ve subiendo dosis te lo digo por esperiencia hola tengo una duda le estáis medicando porque debe tener principio de artrosis o tiene artrosis o no pero debe si el veterinario la hace una radiografía sale o una eco pero q una medicación le produzca aún alucinaciones y despierta chillando y ahora por último dices q ladeaba un poco el cuello no se quien te lo está viendo la artrosis produce dolor pero no mata al animal pero un medicamento q le produce eso yo a mi perro no se lo daba para la artrosis pastillas para el dolor y darle algo para los huesos yo tu consultaría a otro veterinario te lo dice una q su vecina es veterinaria saludos b tardes como esta la peña para este fin de semana una buena idea es salir playa sierra no pensar siempre en lo mismo e intentar desconectar un poco a mi me pasa muy a menudo si son jodidos pero se te pasa no le heches cuenta aunq es difícil son sintomas muy normales de la ansiedad tu ve pidiéndole pruebas poco a poco y te vas quedando tranqui nunca dejaremos de pensar jajaja y siempre nos quedamos con el y si esto y si lo otro jajaja exagerale al medico con los si tomas q tienes y más es q no es normal q tenga el animal esos efecto de la medicación pobrecito mi yorki es epiléptica eso es por lo menos yo le exagero un montón y me hace caso es decir q estas divina de la muerte totalmente tenemos ese punto defecto la controlaras además tienes q mandar alguna fotito del nene o nena q medicación le estás dando y quien ha dicho lo contrario a mi me reajusto mi cabeza es decir me fue genial num semanas jodidas al principio para adaptarme a él pero el resultado mereció la pena los efectos secundario no es muy diferente a por lo q estas pasando ahora si después tienes resultados buenos y a todo el mundo no le da b días vamos a levantarnos y salir disfrutemos del domingo q te sea leve wapo acostumbrarte a ella como hacemos todo el mundo psicólogo y quizás algo de medicación háblalo con tu médico de cabecera te llevas todo el día y tienes un nivel muy alto de ansiedad si puedes y salir y no darle tantas vueltas a las cosas y escucharte tanto es malo te llevas todo el día en alerta y tu cuerpo lo resiente tu y nadie más q tu te puedes ayudar y si no eres capaz ve al medico q te mande pruebas q no tendrás nada seguro y q te mande un ansiolítico o antidepre pero estas muy acelerada tooooo el dia ahora está cerra en banda y tiene miedo lo entiendo porq hemos pasado por ahi lo sabemos porq todos los q estamos en este grupo hemos pasado por lo mismo q tu por eso te decimos q tienes q poner algo de tu parte y la otra parte igual necesitas medicación porq esa persona está viendo lo positivo si lo ingresan es porq le hará falta y sabe q cuando salga estará mejor de lo q entro y tu perro q tal b tardes chic mention q tal vais ya veo por ahí videochat es normal es todo por la ansiedad yo la tengo súper controlada pero las taquicardias me joden por lo menos un par de veces por el día y por la noche cuando estoy más relajada pues peor b días y feliz domingo vamos a salir y tomar el sol q es muy bueno y sobretodo dejar la ansiedad en casa y vivir a mi el cardiologo me mandó el propranolon para las taquicardias tuve una época de fuertes taquicardias y cuando se me fue disminuyendo la ansiedad dejé de tomarlo el propranolon no se te acelera el corazón ni de coña si un ecocariograma y después un holter num horas mi taquicardia era por ansiedad mi ritmo cardiaco normal entre num o num pero con ansiedad hasta num aunq ya pocas veces llego a ese pico intento controlar la ansiedad ese momento para q no se me pone el corazón como una moto num mg del tirón te deja sopa yo me tomaría num y según me vea me tomaría otro num y te dan num mg del tirón yo tomo alprazolam me tomo num y si me veo muy ataca num tiene un amplio margen de cantidad para tomar pues yo soy de las q me dan taquicardia y me vacune y muy bien es más el susto q lo q es en sí yo tengo tres joper pues yo nada de nada num moderna y la tercera pfizer tenía un acojone increible yo a las tres jaja soy muyyy cagona pero en la primera hasta me maree del estado de nervios q llevaba pero no de la vacuna si no del miedo q llevaba jjjjj yo es q parecía q me iban a matar jjj y empecé a darle vueltas al coco y me mareaba pero era puro nervio jjj el ser administrador no significa q tenga q hablar en el grupo carmen por eso este grupo ahí varios administradores el grupo se divide en dos partes los q estamos controlando la ansiedad y los q entran nuevos como vemos los nuevos son más activos y los q vamos controlando la situación nos vamos retirando un poco yo doy fe de ello y me alegro laura si tu lo conseguiste los demás puede cara lanzando un beso cara lanzando un beso cara lanzando un beso hay gente q aparte del grupo tenemos vida entramos de vez en cuando pero estos grupos son de paso y no eternos todo el mundo lo tenemos pero tenemos q aprender a controlar nuestras ansiedad q cada uno se nos manifiesta de forma distinta eso nos pasa a muchos pero tu ya sabes donde está tu fallo cuestión q lo vayas corrigiendo y reflexiones antes de tomar decisiones q después sean erroneas lo se pero lo has conseguido y es lo importante yo te conoci muy mal y ahora el cambio es enorme tu esfuerzo ha merecido la pena ahora pon de tu parte poco a poco y por la en práctica es difícil pero no imposible yo decía lo mismo q tu pero me enfrente a mis putos miedos y hoy en día hago una vida medio normal aquí en este grupo se dan alternativas y como lo hemos conseguido lis más viejos pero el trabajo lo tienes q hacer tu a mi también y cuando voy a entrar en un ataque de pánico me siento e intento q no me domine y le venzo ese es el lema totalmente de acuerdo belen yo también me asustó por mucho q controle la situación y sabes lo q pienso q di me tengo q morir en ese momento pues al carajo no q no voy es a salir corriendo para irme a mi casa q es mi zona de confort si no no vivo todo es es producto de un nivel de ansiedad muy alto conforme lo bajes se va quitando has probado en esos momentos poner tu mente en blanco es decir no pensar en nada y centrarte en un punto en concreto cuando le plantes cara y le pierdas el miedo se ira no es fácil pero no imposible yo fijo mi mirada en un punto y dejo de pensar en lo q me esta sucediendo en ese momento y mis ojos están clavados en ese punto un punto puede ser un cuadro un objeto y ponerle todos tus sentidos en ese punto y dejar esa mente en blanco eso desgraciadamente lo tendrémos siempre pero ya tenemos la experiencia de como convatirla pero eso te hace tener un nivel de alerta muy grande y nuestro cerebro tiene una capacidad q no podemos rebasar bueno os dejo q descanséis y ha relajarse toca pues solo tienes q pensar q duran muy poco y q no te va a pasar adsolutamente nada es nuestra mente q nos juega malas pasada te lo dice una q sufría de ataques de pánico a diario y le gane ya no los tengo me enfrente a ellos y se fueron mucho a mi hace un par de días me iba a dar uno y me empeze asustar y del tirón fije si me tengo q morir me voy a morir y no lo puedo evitar y le heche cara y se largo y no medio la guerra no podemos hacer desgraciadamente nada yo apago la tele exámenes marca tu propio ritmo y no te exigas mucho a tu ritmo q seguro q lo sacas y lo de no hacer hobbies ya sabes q con la ansiedad nos ponemos muy apáticos y tenemos q hacer un esfuerzo por buscar algo q nos motive es normal lorera estas a dosis mínima y quizás estés teniendo un día malo como todo el mundo yo me esperaría un poco e igual mañana estás mejor estar en dosis mínima de un antidepre es un logro alcalzado increíble pero si ves q no puedes pues a médico y subir dosis eso es lo principal tu lo has dicho y estando recién operada y pega esos saltos haber si se le va ha soltar cualquier punto yo no le daría la pelota hasta que pasara unos pocos dias b días q tal chicos as hacia tiempo q no entraba aunq suelo leeros por sanlucar hace un días de sol radiante con q saldré ha dar una vuelta por la playa y disfrutar del sol ya que hemos tenido días de agua con q hoy toca salir disfrutad de los momentos e intentar desconectar relajarnos vivir y disfrutar y no pensar en la ansiedad nuestra mente es jodida y no hace ver muchas veces lo q no hay bíceps flexionado tono de piel claro medio bíceps flexionado tono de piel claro medio bíceps flexionado tono de piel claro medio bíceps flexionado tono de piel claro medio bíceps flexionado tono de piel claro medio hay q arriesgar en la vida para avanzar y salir de la zona de confort q no es bueno además hay q salir y vivir y conseguir tus metas para ir avanzando como persona hola q te pasa hola estoy asustada tengo taquicardias y no se como pararla si hago eso carlos me asustó mas no puedo escuchar is latidos porq me aceleró mas lo único q tengo de la ansiedad son las putas taquicardias y eso no se controla tan facil eso intento la ansiedad y pensamientos he aprendido a base de años a controlarla pero las taquicardias joder no estoy con la respiración pero es lo único q es difícil para mi controlar ya voy estando mejor tu y yo hemos hablado hace ya tiempo verdad patricia jolín pues hace tiempo me alegro y espero q estés bien o m yo después de tantos años lo controlo todo ataque de pánico pensamientos pero cuando me dan las putas taquicardias ya me centro en el corazón y sale corriendo yo también entro muy poco aveces para ayudar alguien q este mal en un momento pero entrado muy poco ultimamente a medida q te vayas dando cuenta q puedes controlarla irás mejorando e irás mejor veras yo y cuando estoy más tranquila especialmente por la noche es cuando me dan es jodida porque te asustas mucho ya q suele entrar de repente café fuera no es muy bueno para el estómago y más con reflujo y tu ansiedad yo tengo reflujo gastroesofagico casi diario y estando inclusive de pie todo eso provocado por la ansiedad duermo por las noches semincorporada pero todo es por la ansiedad según como la tenga ese día así me pega el estómago yo tomo almax protectores etc lo q me lo quita es bajando ansiedad una pregunta cuando pillamos la omicron da vértigos los demás síntomas los se pero cerrar ojos para dormir y q me de mareo como el q esta de resaca y tengo q despertarme es decir cierro ojo y me da vértigo no se sie ha pasado algun mention porque es menos adictivo q el alprazolam si es lo mismo uno el original y el otro el genérico no suerte verlo así la gran mayoría de los aquí en este grupo nos aterroriza por eso tenemos ansiedad jajaja si bastante por lo menos a mi la calor me agobia mucho no la llevo bien me agota y me canso más con la calor suelo marearme más b noches estoy nerviosa y con presión en el pecho parece q tengo un peso oprimiendolo cojo aire y parece q no lo lleno del todo me he tomado num de alprazolam gracias pero aveces esto cansa tantos años y soy de las q controlo pero aveces me puede el miedo no puedo evitarlo gracias pero cuando se nos junta la hipocondría se hace el coctel molotov ojalá tuviera yo ese problema es decir si solo por quitarme a una persona tóxica de mi lado desapareciera la ansiedad no dudaría ni un segundo en sacarla de mi vida yo tomo alprazolam num es poca cantidad pero como es tu primera vez es normal q te sientas así yo lo tomo casi todos los días no tengo hora fija depende como me encuentre ese día yo me la pongo debajo de la lengua para q haga efecto más rápido y también tengo taquicardias por lo demás sigo obligándome a salir para q no me limite la puñetera ansiedad las mías son de num y las parto por la mitad pero vamos q se deshacen en la boca métela debajo de la lengua y es mucho más rápida esa pastilla es la q meten debajo de la lengua cuando llegas aún centro de salud eso sí puede ser verás esa pastilla las ahí de dos formas de actuar las q tengo yo q es de efecto rápido para un ataq de pánico taqui etc es decir algo rápido y debajo de la lengua del tirón se deshace y la retard que son tragadas y se va disolviendo poco a poco durante todo el día sinceramente para mi me gusta más la mía es más rápida y me saca del apuro en el momento pero claro cada persona es un mundo</td>\n",
              "      <td>1</td>\n",
              "    </tr>\n",
              "    <tr>\n",
              "      <th>2</th>\n",
              "      <td>cada uno que se gestione su salud cómo pueda quiera pues depende de las crisis cuantas pastillas a diario no es mucho pero es mejor que si ese antidepresivo no te funciono prueben con otro ellos son los que saben mari jose perdona pero por lo que leo te estás medicando raquel hay muchos antidepresivos inténtalo con otros perdona mention eres psicólogo cómo que en cierta parte o tienes el título o no lo tienes si pero o tienes un título o no lo tienes nadie es abogado en cierta parte ni médico en cierta parte te lo pregunto porque si ofreces tus servicios deberás avalarte de un título y si eres psicólogo ofrecer tus servicios por num la hora y media me parece competencia desleal para con tus colegas yo solo espero que si a alguien en este grupo le da por contratarte espero que puedas proporcionarle tu número de colegiado así como todo aquello que considere necesario para demostrar tu titulación y experiencia entre hace más de un año cuando padecía un trastorno de ansiedad muy severo num meses es mucho o no depende de lo cronificado que lo tengas no hay que tener prisa esto es cuestión de tiempo y paciencia yo llevo num meses y cuando mejor estoy es de hace dos o tres meses a ahora sí que ofreció servicios violeta pues ayer ofreció sus servicios hora y media de consulta num bueno ayer yo le pregunté y me aseguro que era psicólogo y que no tenía problema en dar su número de colegiado lo cual me extraño en alguien que se define como coach energético estoy de acuerdo el problema es que desde que ha entrado no para de hablar de que la gallina es azul y da bastante pereza lo mismo pasaría con alguien que hablase todo el rato de dios o de cualquier cosa que no tenga un fundamento detrás en mi caso trabajar de algo que me apasiona y me hace ganar un buen sueldo me ha ayudado muchísimo con la ansiedad no de secundaria y bachillerato soy profesora de filosofía y de psicología en o bachillerato la verdad es que sí me siento muy afortunada a quien se quiera relajar le recomiendo este juego la banda sonora es brutal recomiendo jugar con cascos vas escuchando el ruido de la lluvia los pájaros y la bso que está muy bien los gráficos también son muy buenos se trata de un zorro que está buscando a su familia y la historia se entrelaza con la de un hombre joseph que intenta reconciliarse con su pasado y reencontrarse con su padre en alaska a medida que va avanzando el juego con el zorro vamos explorando la relación del hijo con su padre además tenemos la voz en off del niño que nos va narrando sus vivencias no voy a verlo es más bien de resolver los puzzles para que la historia avance el devour mola mucho también pero mola para jugar con gente si queréis jugar algún día decidme yo me pego unos sustos brutales en el devour podemos entrar todos como personajes a la vez en el juego e ir ayudándonos para ir haciendo las cosas yo ahora me voy a la piscina pero si alguien quiere jugar una al volver que me escriba aunque sea un among us cara llorando de risa te lo digo por privado hace varios días pregunté por aquí quién tenía miedo a volar y salió bastante gente tengo hasta ganas de volar después de leerlo háztelo cara sonriendo ligeramente sí hay un epígrafe dedicado a eso ah vale no lo tengo he tenido stadia pero uso más steam que tal la tarde gente yo agotada la piscina cansa muchísimo jajajajaja uf molaría llevarlo así dónde me recomendáis salir a cenar hoy lo pagamos a medias hay café descafeinado muy rico yo llevo num años viviendo en madrid y cada día me gusta más pues a mí el de nescafé me gusta lo mismo digo el peor sitio para comer yo estoy viendo ad astra está muy bien curarse de la ansiedad es un término erróneo la ansiedad te va a acompañar toda tu vida porque eres humano por otro lado lo que te pasa es muy común que pase al principio cuando empezamos a sentirnos mejor y a salir del bucle de ansiedad extrema tendemos a querer controlarlo todo y a obsesionarnos controlar los pensamientos intrusivos no significa que no vayas a tener más ansiedad sin ansiedad nos moriríamos calamares no estaban muy allá así que voy a salir ahora a comer a ver si hoy encuentro algo mejor nos hemos decantado por un japonés el primer ramen que abrió en madrid mention siempre suelo comer sushi pero hoy he innovado aunque con las gyozas no perdono y ahora algo dulce ya para lo que queda de verano a algunos nos cuesta mucho hacer amigos madrid andalucía y norte de españa para mí son mis imprescindibles en madrid en invierno también frío depende de la época en españa hay de todo en todas partes mejor granada a sevilla yo he viajado sola también una de las cosas que más miedo me daba era esa pues a mí tener puesta la vacuna me ha dado mucha tranquilidad y me pusieron astrazeneca y a las pocas semanas fue cuando la prohibieron y aquí estoy perfecta la sertralina va genial para el toc bueno como ya se ha ido creo que este out of context se puede borrar yo cuando peor estaba de la ansiedad empecé a pintar y me ayudó mucho hace unos meses pregunté quien tenía miedo a volar y salieron muchos casos yo me he leído un libro que se llama feliz vuelo y hoy he volado y genial ha sido el vuelo que más he disfrutado os recomiendo jugar a videojuegos aunque no os guste al principio le cogeréis el truco yo deje el deporte por la ansiedad estaba constantemente pensando que me explotaba el corazón y caminaba incluso con la mano en el pecho mil veces al médico pruebas nada ahora por suerte estoy muy bien por suerte y por lucha y esfuerzo si vuelvo a ser la que era entreno muy fuerte y casi todos los días pues primero de todo terapia dejar de buscar en internet cosas luego con medicación del psiquiatra y con esfuerzo en crear una rutina mentalmente sana depende de la persona a mi me parece normal jugar a videojuegos como el animal crossing o el minecraft funciona y mucho hay que sacarlos de la caja yo estoy empezando a tomarlo de momento no noto mucha cosa porque he empezado en pequeñas dosis de momento no he notado gran cosa se va tomando de manera gradual la primera semana mg hasta que des con tu dosis dormir ansiedad dolor náuseas yo tomé durante un año</td>\n",
              "      <td>1</td>\n",
              "    </tr>\n",
              "  </tbody>\n",
              "</table>"
            ]
          },
          "metadata": {}
        }
      ],
      "source": [
        "show_random_elements(dataset_dict['test'], num_examples=3)"
      ]
    },
    {
      "cell_type": "markdown",
      "id": "tek1BspeygSL",
      "metadata": {
        "id": "tek1BspeygSL"
      },
      "source": [
        "# Parte 2: Ajuste fino del modelo preentrenado\n"
      ]
    },
    {
      "cell_type": "markdown",
      "id": "Dp1EiI6t4UWj",
      "metadata": {
        "id": "Dp1EiI6t4UWj"
      },
      "source": [
        "Entrenamiento con roberta-base-bne"
      ]
    },
    {
      "cell_type": "markdown",
      "id": "adfe2083-e959-446a-a831-90139c8ebbe4",
      "metadata": {
        "id": "adfe2083-e959-446a-a831-90139c8ebbe4"
      },
      "source": [
        "## Cargar el tokenizador y modelo"
      ]
    },
    {
      "cell_type": "code",
      "execution_count": 18,
      "id": "8aa254bb-162f-44e4-9b40-595a90ad220c",
      "metadata": {
        "id": "8aa254bb-162f-44e4-9b40-595a90ad220c",
        "colab": {
          "base_uri": "https://localhost:8080/",
          "height": 177,
          "referenced_widgets": [
            "cb40697a407247c8a0755eb1a8c8f804",
            "8557363a261d4935bb7474540c5ca804",
            "5d35e7e90158463d8f56f5e8628cdee3",
            "6a359e0baa214631922c49297c35163e",
            "2c53835bbde94402811cf5ec2f983f89",
            "078dd6c62775416a88254646974e0bd4",
            "414de25c945a4b06a59b7c5444aa1e9c",
            "e491cd1aab5548aa9a96f204a5dd124f",
            "2907514c6e9742419ed73dee2087381e",
            "b4ff7fb5bc714299a49cf785318f32ea",
            "3d75f31dbc9943b88dc849c02898b79c",
            "c11b3de003d0436dbc70c18389e0ac3a",
            "425a48254cb347bd865ca00dbac7d6ca",
            "4adab72499cd4719b95a2cb3f177b73a",
            "591c889595b54ce4a55ef0ddc9a0bb11",
            "7d41480632f94a60b183e7a448241366",
            "634b182dbfff459191de8a13cb98a3a0",
            "442cb06c33cb425b89f99e0f615b736b",
            "abc5e59b4e384310aa233f889cb44d21",
            "d84f0c1e5e2e409f8f9618efd9671540",
            "0e1c4c859e1d4af682665384713dc5db",
            "8d834c116a624a8eb16a5889eee78399",
            "516dd864d5a2429a98f4b9848fd15336",
            "394c6f6ca308476ebae9cb209a115a8e",
            "dfdff3326fef47faae51e73ca15ff48a",
            "4863d8ef60db4027bd6abf5b4ff36e0d",
            "1bdc2f3be5db4339a495f7b11bf51fcd",
            "4e2da504561b4b67a1a06b3dc475059d",
            "21c7b52da1a642a7a5583c8cc550a8be",
            "86d9eae9a5bd4d758294629aab0c0f05",
            "f403fe79eb0149dc96ac99e9108e8d8a",
            "9be46e9f68f94f298c58c95acd2d20cf",
            "0cf693b18ce04f87b44447ebbcd3d4c0",
            "c060862894754b6fa83fd7131cb4505e",
            "f2c156e5c1b843c8ac147cc3b0919317",
            "b397fae00bbb48bd93d47fda4245e3f6",
            "0166262a7e574139a50e294072547cc8",
            "e441acc1b92f4fc09da37af9b219968a",
            "bbcb1624a2434d24a2a6ba3fa3b3e3cd",
            "a2db590977ad4539bbdca98348c1f37f",
            "59c04d820dfd42beb2ff70ad9ca9e868",
            "5e36e0d0f5714366a2ce606971282b81",
            "afe7105686bc408581d0d6de5a7c9b26",
            "5e3f12bf55884738920dce63561b8688",
            "e869d40faeb94367a86f3b24f330ee2e",
            "d6fdaf50d9a74c009d7b82e5ceac528f",
            "a6269288fc3e4cab9d033527ce58c0dd",
            "30e4e1d0f01445398163885e9bed3855",
            "ab1c2d70ccbe40698b11a410c7024d38",
            "e04e5dcfd1fd4a328ad86c7ac3f3ee49",
            "7ebc4edf970e4035aad5bb65aba1796a",
            "111db38e298d402c997eb21f5e6765d2",
            "64b726ccc7dd420fa89841c6baf74284",
            "e3d610b1237345afba9fd1ec33a978ee",
            "5e588dd46084421ea7488d6d89493714"
          ]
        },
        "outputId": "c2b7bee0-ddf1-4038-d42d-4fba0e493ef9"
      },
      "outputs": [
        {
          "output_type": "display_data",
          "data": {
            "text/plain": [
              "tokenizer_config.json:   0%|          | 0.00/1.39k [00:00<?, ?B/s]"
            ],
            "application/vnd.jupyter.widget-view+json": {
              "version_major": 2,
              "version_minor": 0,
              "model_id": "cb40697a407247c8a0755eb1a8c8f804"
            }
          },
          "metadata": {}
        },
        {
          "output_type": "display_data",
          "data": {
            "text/plain": [
              "vocab.json:   0%|          | 0.00/851k [00:00<?, ?B/s]"
            ],
            "application/vnd.jupyter.widget-view+json": {
              "version_major": 2,
              "version_minor": 0,
              "model_id": "c11b3de003d0436dbc70c18389e0ac3a"
            }
          },
          "metadata": {}
        },
        {
          "output_type": "display_data",
          "data": {
            "text/plain": [
              "merges.txt:   0%|          | 0.00/509k [00:00<?, ?B/s]"
            ],
            "application/vnd.jupyter.widget-view+json": {
              "version_major": 2,
              "version_minor": 0,
              "model_id": "516dd864d5a2429a98f4b9848fd15336"
            }
          },
          "metadata": {}
        },
        {
          "output_type": "display_data",
          "data": {
            "text/plain": [
              "tokenizer.json:   0%|          | 0.00/2.21M [00:00<?, ?B/s]"
            ],
            "application/vnd.jupyter.widget-view+json": {
              "version_major": 2,
              "version_minor": 0,
              "model_id": "c060862894754b6fa83fd7131cb4505e"
            }
          },
          "metadata": {}
        },
        {
          "output_type": "display_data",
          "data": {
            "text/plain": [
              "special_tokens_map.json:   0%|          | 0.00/957 [00:00<?, ?B/s]"
            ],
            "application/vnd.jupyter.widget-view+json": {
              "version_major": 2,
              "version_minor": 0,
              "model_id": "e869d40faeb94367a86f3b24f330ee2e"
            }
          },
          "metadata": {}
        }
      ],
      "source": [
        "from transformers import AutoTokenizer\n",
        "\n",
        "model_checkpoint = \"PlanTL-GOB-ES/roberta-base-bne\"\n",
        "\n",
        "tokenizer = AutoTokenizer.from_pretrained(model_checkpoint)"
      ]
    },
    {
      "cell_type": "markdown",
      "id": "iEJI-psB206P",
      "metadata": {
        "id": "iEJI-psB206P"
      },
      "source": [
        "## Tokenización"
      ]
    },
    {
      "cell_type": "code",
      "execution_count": 24,
      "id": "55cfde4b-6b30-4942-b664-fdb86af23ac8",
      "metadata": {
        "id": "55cfde4b-6b30-4942-b664-fdb86af23ac8",
        "colab": {
          "base_uri": "https://localhost:8080/"
        },
        "outputId": "7d8907b8-8d02-4390-cbf5-caa043597d58"
      },
      "outputs": [
        {
          "output_type": "execute_result",
          "data": {
            "text/plain": [
              "50262"
            ]
          },
          "metadata": {},
          "execution_count": 24
        }
      ],
      "source": [
        "tokenizer.vocab_size"
      ]
    },
    {
      "cell_type": "code",
      "execution_count": 25,
      "id": "f5ab78b5-f8d7-4701-98d5-42a7bb9cc677",
      "metadata": {
        "id": "f5ab78b5-f8d7-4701-98d5-42a7bb9cc677"
      },
      "outputs": [],
      "source": [
        "def tokenize(example):\n",
        "    return tokenizer(\n",
        "        example[\"text\"],\n",
        "        padding=\"max_length\",    # Que todos los textos tengan la misma longitud\n",
        "        truncation=True,         # Cortar si excede el máximo\n",
        "        max_length=512           # 512 porque RoBERTa-BNE permite el máximo estándar de entrada y nuestros textos por usuario pueden ser largos.\n",
        "    )"
      ]
    },
    {
      "cell_type": "markdown",
      "source": [
        "## Análisis de longitud de entrada en RoBERTa\n",
        "Evaluamos la distribución de longitud en tokens para el conjunto de usuarios."
      ],
      "metadata": {
        "id": "ME-UwzdxjzIz"
      },
      "id": "ME-UwzdxjzIz"
    },
    {
      "cell_type": "code",
      "source": [
        "token_lengths = df_user_level[\"message_clean\"].apply(lambda x: len(tokenizer.tokenize(x)))\n",
        "\n",
        "print(\"Promedio de tokens por usuario:\", token_lengths.mean())\n",
        "print(\"Mediana:\", token_lengths.median())\n",
        "print(\"Máximo:\", token_lengths.max())\n",
        "\n",
        "# Distribución visual\n",
        "plt.hist(token_lengths, bins=30, color=\"#008080\", edgecolor=\"black\")\n",
        "plt.axvline(512, color=\"red\", linestyle=\"--\", label=\"Límite RoBERTa (512)\")\n",
        "plt.title(\"Distribución de longitudes de entrada (tokens)\")\n",
        "plt.xlabel(\"Cantidad de tokens por usuario\")\n",
        "plt.ylabel(\"Frecuencia\")\n",
        "plt.legend()\n",
        "plt.grid()\n",
        "plt.show()"
      ],
      "metadata": {
        "colab": {
          "base_uri": "https://localhost:8080/",
          "height": 526
        },
        "id": "1UJEnckEcdwd",
        "outputId": "4d55083b-d723-422f-f422-15f34182a711"
      },
      "id": "1UJEnckEcdwd",
      "execution_count": 26,
      "outputs": [
        {
          "output_type": "stream",
          "name": "stdout",
          "text": [
            "Promedio de tokens por usuario: 626.302\n",
            "Mediana: 475.5\n",
            "Máximo: 3740\n"
          ]
        },
        {
          "output_type": "display_data",
          "data": {
            "text/plain": [
              "<Figure size 640x480 with 1 Axes>"
            ],
            "image/png": "[encoded data removed]"
          },
          "metadata": {}
        }
      ]
    },
    {
      "cell_type": "markdown",
      "source": [
        "> ⚠️ **Observación sobre truncamiento de entradas en RoBERTa**\n",
        ">\n",
        "> El modelo `PlanTL-GOB-ES/roberta-base-bne` tiene una longitud máxima de entrada de 512 tokens. Dado que en este trabajo cada usuario es representado por la concatenación de todos sus mensajes, muchas de las entradas superan este límite.\n",
        ">\n",
        "> Como puede observarse en la gráfica, el promedio de tokens por usuario es de **626**, con una mediana de **475.5** y un máximo de **3740**. Esto implica que una proporción significativa de ejemplos será truncada automáticamente por el modelo durante el entrenamiento y la inferencia.\n",
        ">\n",
        "> No se aplica ninguna estrategia de tratamiento especial para mitigar este truncamiento (como sliding window, selección de fragmentos representativos, o agregación posterior). Esta omisión constituye una **limitación** del presente experimento, y se plantea como una posible línea de mejora en futuros trabajos."
      ],
      "metadata": {
        "id": "wwRzj5YFkG3z"
      },
      "id": "wwRzj5YFkG3z"
    },
    {
      "cell_type": "markdown",
      "id": "R7m8TOqw91Wf",
      "metadata": {
        "id": "R7m8TOqw91Wf"
      },
      "source": [
        "## Aplicar tokenización al DatasetDict preparado"
      ]
    },
    {
      "cell_type": "code",
      "execution_count": 27,
      "id": "48c07922-100f-40b5-8b45-87448bde2f0f",
      "metadata": {
        "id": "48c07922-100f-40b5-8b45-87448bde2f0f",
        "colab": {
          "base_uri": "https://localhost:8080/",
          "height": 260,
          "referenced_widgets": [
            "da0dead4c4974670aec35c38090d9797",
            "14e99f6952074153a150f4bc8e0fb111",
            "565b389b489445c9b90ea136af070510",
            "4329f58cfc28486db6ffd922534642bd",
            "e58abf7f7de5443ca478eec9ce3e5e0d",
            "93027bf3636f433590f7825f6e3769e4",
            "4d1a2695a9e54f698509729f9827c0fa",
            "68231e3253674ca4b5285289ce1755ef",
            "7f2b53b735fd4ab38fb4b12c3fe09a46",
            "51c3339f67854d2cb435fbe0b23e06d4",
            "ca64db14abb54393b20260d196d23183",
            "fa00e4358799452eb67075f31caa90f2",
            "49b1b6cc51c94ef2bd1001a2be64ae27",
            "ca38ddf6a3fe4a20b528d53e624fe555",
            "b1bc4d48b0ff4f4fabc291e30480b07b",
            "fe8c2d75bace4eeb9e70c4eea2eaa743",
            "ffd60bc272754a46a6b9ac8736c01e75",
            "71697003cd4b491daae849c0196547e8",
            "7220e0d3f3824c5cbaea5306a49ce683",
            "6b4e5233294541e9814a439bbfc15bb0",
            "ec673658f3a04875843b2a379db688ac",
            "774531cc7dc7478e98d1327cc2817085"
          ]
        },
        "outputId": "fd1bf641-7735-4c2e-b926-dbd8a689b80e"
      },
      "outputs": [
        {
          "output_type": "display_data",
          "data": {
            "text/plain": [
              "Map:   0%|          | 0/350 [00:00<?, ? examples/s]"
            ],
            "application/vnd.jupyter.widget-view+json": {
              "version_major": 2,
              "version_minor": 0,
              "model_id": "da0dead4c4974670aec35c38090d9797"
            }
          },
          "metadata": {}
        },
        {
          "output_type": "display_data",
          "data": {
            "text/plain": [
              "Map:   0%|          | 0/150 [00:00<?, ? examples/s]"
            ],
            "application/vnd.jupyter.widget-view+json": {
              "version_major": 2,
              "version_minor": 0,
              "model_id": "fa00e4358799452eb67075f31caa90f2"
            }
          },
          "metadata": {}
        },
        {
          "output_type": "execute_result",
          "data": {
            "text/plain": [
              "DatasetDict({\n",
              "    train: Dataset({\n",
              "        features: ['label', 'input_ids', 'attention_mask'],\n",
              "        num_rows: 350\n",
              "    })\n",
              "    test: Dataset({\n",
              "        features: ['label', 'input_ids', 'attention_mask'],\n",
              "        num_rows: 150\n",
              "    })\n",
              "})"
            ]
          },
          "metadata": {},
          "execution_count": 27
        }
      ],
      "source": [
        "tokenized_datasets = dataset_dict.map(tokenize,\n",
        "                                      batched=True,\n",
        "                                      remove_columns=[\"text\"]  # Eliminamos 'text' original porque ya está tokenizado\n",
        ")\n",
        "\n",
        "\n",
        "tokenized_datasets"
      ]
    },
    {
      "cell_type": "markdown",
      "id": "631e602b-deb5-4d3b-b01a-c5934a37f573",
      "metadata": {
        "id": "631e602b-deb5-4d3b-b01a-c5934a37f573"
      },
      "source": [
        "## Cargar el modelo de BETO preentrenado para clasificación binaria"
      ]
    },
    {
      "cell_type": "code",
      "execution_count": 28,
      "id": "ff98a5b1-6415-4d7e-ba47-7d89ce7ebfe4",
      "metadata": {
        "id": "ff98a5b1-6415-4d7e-ba47-7d89ce7ebfe4",
        "colab": {
          "base_uri": "https://localhost:8080/",
          "height": 190,
          "referenced_widgets": [
            "2a833f9efddb42b9a69f62a1e9904c59",
            "c4eae0c9585e4c828f0351dfa4c60269",
            "4c92d7025de04617b94c1700cd0b24b4",
            "113255d8dbba425b8dd213104d3a76ab",
            "3fcca3beaf8d4c0c8729cbf42ae90d28",
            "7b74469180bc4f9192ae471ca9edfeaa",
            "b5c981328bff470f820dbbf179c547f4",
            "30f78638117d46c9a63fe9a32344f08c",
            "14f001e06af446b2904e7dd7b60bb3f4",
            "3f63a6cdd6024515b1bebd6000f7a6ca",
            "db4cb63e4fce4b2c911ba04a3a24e228",
            "fac33218610e4724a0f88b9136929a1e",
            "4bb18fc71f62406191d6f8191f9c1e2e",
            "4cabc58f27504986bdc792b15343acee",
            "a1a304e052e04419980bfd0d0448cfed",
            "9fed5036252649be8cf2a3a523da409e",
            "45ff262735944e3cb34d9e7c28b78f4f",
            "8fd7885984534c159c76bf56b9ddf833",
            "d9421efe3408474b9f65193f298952b2",
            "b0a98ecf58db4bc6b59311fa5801d4e5",
            "3f73fd0cc48c42f798fd9bb6c707ca12",
            "86a91c234c264697a7d947e590936ce6"
          ]
        },
        "outputId": "dbe43794-e3ff-46d6-8450-209898bcf2b6"
      },
      "outputs": [
        {
          "output_type": "display_data",
          "data": {
            "text/plain": [
              "config.json:   0%|          | 0.00/613 [00:00<?, ?B/s]"
            ],
            "application/vnd.jupyter.widget-view+json": {
              "version_major": 2,
              "version_minor": 0,
              "model_id": "2a833f9efddb42b9a69f62a1e9904c59"
            }
          },
          "metadata": {}
        },
        {
          "output_type": "display_data",
          "data": {
            "text/plain": [
              "pytorch_model.bin:   0%|          | 0.00/499M [00:00<?, ?B/s]"
            ],
            "application/vnd.jupyter.widget-view+json": {
              "version_major": 2,
              "version_minor": 0,
              "model_id": "fac33218610e4724a0f88b9136929a1e"
            }
          },
          "metadata": {}
        },
        {
          "output_type": "stream",
          "name": "stderr",
          "text": [
            "Some weights of the model checkpoint at PlanTL-GOB-ES/roberta-base-bne were not used when initializing RobertaForSequenceClassification: ['lm_head.decoder.weight', 'lm_head.bias', 'lm_head.dense.weight', 'lm_head.decoder.bias', 'lm_head.layer_norm.weight', 'lm_head.dense.bias', 'lm_head.layer_norm.bias']\n",
            "- This IS expected if you are initializing RobertaForSequenceClassification from the checkpoint of a model trained on another task or with another architecture (e.g. initializing a BertForSequenceClassification model from a BertForPreTraining model).\n",
            "- This IS NOT expected if you are initializing RobertaForSequenceClassification from the checkpoint of a model that you expect to be exactly identical (initializing a BertForSequenceClassification model from a BertForSequenceClassification model).\n",
            "Some weights of RobertaForSequenceClassification were not initialized from the model checkpoint at PlanTL-GOB-ES/roberta-base-bne and are newly initialized: ['classifier.out_proj.bias', 'classifier.out_proj.weight', 'classifier.dense.weight', 'classifier.dense.bias']\n",
            "You should probably TRAIN this model on a down-stream task to be able to use it for predictions and inference.\n"
          ]
        }
      ],
      "source": [
        "from transformers import AutoModelForSequenceClassification\n",
        "\n",
        "num_labels = 2 # 0 (control), 1 (ansiedad)\n",
        "\n",
        "model = AutoModelForSequenceClassification.from_pretrained(model_checkpoint, num_labels=num_labels)"
      ]
    },
    {
      "cell_type": "markdown",
      "id": "7c58d614-c1bf-45f0-8a45-858edac56d4c",
      "metadata": {
        "id": "7c58d614-c1bf-45f0-8a45-858edac56d4c"
      },
      "source": [
        "## Definir las métricas de evaluación"
      ]
    },
    {
      "cell_type": "code",
      "execution_count": 29,
      "id": "c4ebab1c-893c-4eb9-8f51-9e55c6596463",
      "metadata": {
        "id": "c4ebab1c-893c-4eb9-8f51-9e55c6596463"
      },
      "outputs": [],
      "source": [
        "import numpy as np\n",
        "from sklearn.metrics import accuracy_score, precision_recall_fscore_support\n",
        "\n",
        "def compute_metrics(pred):\n",
        "    labels = pred.label_ids\n",
        "    preds = np.argmax(pred.predictions, axis=1)\n",
        "\n",
        "    precision, recall, f1, _ = precision_recall_fscore_support(labels, preds, average=\"binary\")\n",
        "    acc = accuracy_score(labels, preds)\n",
        "\n",
        "    return {\n",
        "        'accuracy': acc,\n",
        "        'precision': precision,\n",
        "        'recall': recall,\n",
        "        'f1': f1\n",
        "    }"
      ]
    },
    {
      "cell_type": "markdown",
      "id": "9b77a005-0f56-42cb-a1e3-c231fd851305",
      "metadata": {
        "id": "9b77a005-0f56-42cb-a1e3-c231fd851305"
      },
      "source": [
        "## Definir TrainingArguments y preparar el Trainer"
      ]
    },
    {
      "cell_type": "code",
      "execution_count": 30,
      "id": "75fc4131-7a48-42bb-b9a7-f8df40a05aaf",
      "metadata": {
        "id": "75fc4131-7a48-42bb-b9a7-f8df40a05aaf"
      },
      "outputs": [],
      "source": [
        "from transformers import TrainingArguments\n",
        "\n",
        "model_name = model_checkpoint.split(\"/\")[-1]\n",
        "\n",
        "batch_size = 16\n",
        "num_train_epochs=4\n",
        "\n",
        "test_dataset = tokenized_datasets[\"test\"]\n",
        "train_dataset = tokenized_datasets[\"train\"]\n",
        "\n",
        "logging_steps = len(train_dataset) // (2 * batch_size * num_train_epochs)\n",
        "\n",
        "training_args = TrainingArguments(\n",
        "    output_dir=\"./resultados-beto-anxiety\",\n",
        "    evaluation_strategy=\"epoch\",      # Evaluar al final de cada epoch\n",
        "    save_strategy=\"epoch\",             # Guardar el modelo al final de cada epoch\n",
        "    num_train_epochs=num_train_epochs, # Entre 3 y 5, elegimos 4 como punto medio\n",
        "    learning_rate=5e-5,                # Tasa de aprendizaje inicial\n",
        "    per_device_train_batch_size=batch_size,    # Batch size de entrenamiento\n",
        "    per_device_eval_batch_size=batch_size,     # Batch size para evaluación\n",
        "    weight_decay=0.01,                 # Regularización para evitar overfitting\n",
        "    seed=42, # Argumentos para entrenamiento reproducible\n",
        "    load_best_model_at_end=True,       # Cargar el mejor modelo en validación\n",
        "    metric_for_best_model=\"f1\",        # Seleccionar el modelo según mejor F1 (lo configuramos ahora)\n",
        "    greater_is_better=True,            # Porque mayor F1 es mejor\n",
        "    logging_dir=\"./logs\",              # Carpeta de logs\n",
        "    logging_steps=logging_steps,       # Cada X steps se guarda log\n",
        "    # save_total_limit=2,                 # Guardar solo los 2 mejores checkpoints\n",
        "    report_to=\"none\"  # Para evitar errores si no usás wandb\n",
        ")"
      ]
    },
    {
      "cell_type": "markdown",
      "id": "2dV0Yovo2AFP",
      "metadata": {
        "id": "2dV0Yovo2AFP"
      },
      "source": [
        "## Entrenamiento (fine-tuning)"
      ]
    },
    {
      "cell_type": "markdown",
      "source": [
        "####  Liberar memoria previa (entre reentrenamientos) Opcional"
      ],
      "metadata": {
        "id": "fR7D7S8C1ITh"
      },
      "id": "fR7D7S8C1ITh"
    },
    {
      "cell_type": "code",
      "source": [
        "import gc\n",
        "gc.collect()\n",
        "\n",
        "import torch\n",
        "torch.cuda.empty_cache()"
      ],
      "metadata": {
        "id": "tTtC7oq81FJa"
      },
      "id": "tTtC7oq81FJa",
      "execution_count": 31,
      "outputs": []
    },
    {
      "cell_type": "code",
      "execution_count": 32,
      "id": "d2fdc4a2-4653-49fe-b7aa-660c5d72077d",
      "metadata": {
        "id": "d2fdc4a2-4653-49fe-b7aa-660c5d72077d"
      },
      "outputs": [],
      "source": [
        "from transformers import Trainer\n",
        "\n",
        "trainer = Trainer(\n",
        "    model=model,\n",
        "    args=training_args,\n",
        "    train_dataset=train_dataset,\n",
        "    eval_dataset=test_dataset,\n",
        "    tokenizer=tokenizer,\n",
        "    compute_metrics=compute_metrics,\n",
        ")"
      ]
    },
    {
      "cell_type": "code",
      "execution_count": 33,
      "id": "9c8a17d4-7939-4ac8-9ab6-ed5be0a00ba6",
      "metadata": {
        "id": "9c8a17d4-7939-4ac8-9ab6-ed5be0a00ba6",
        "colab": {
          "base_uri": "https://localhost:8080/",
          "height": 274
        },
        "outputId": "da15b4a4-e7cc-4477-a4e0-44cd9a49fae9"
      },
      "outputs": [
        {
          "output_type": "stream",
          "name": "stderr",
          "text": [
            "You're using a RobertaTokenizerFast tokenizer. Please note that with a fast tokenizer, using the `__call__` method is faster than using a method to encode the text followed by a call to the `pad` method to get a padded encoding.\n"
          ]
        },
        {
          "output_type": "display_data",
          "data": {
            "text/plain": [
              "<IPython.core.display.HTML object>"
            ],
            "text/html": [
              "\n",
              "    <div>\n",
              "      \n",
              "      <progress value='88' max='88' style='width:300px; height:20px; vertical-align: middle;'></progress>\n",
              "      [88/88 04:38, Epoch 4/4]\n",
              "    </div>\n",
              "    <table border=\"1\" class=\"dataframe\">\n",
              "  <thead>\n",
              " <tr style=\"text-align: left;\">\n",
              "      <th>Epoch</th>\n",
              "      <th>Training Loss</th>\n",
              "      <th>Validation Loss</th>\n",
              "      <th>Accuracy</th>\n",
              "      <th>Precision</th>\n",
              "      <th>Recall</th>\n",
              "      <th>F1</th>\n",
              "    </tr>\n",
              "  </thead>\n",
              "  <tbody>\n",
              "    <tr>\n",
              "      <td>1</td>\n",
              "      <td>0.407800</td>\n",
              "      <td>0.249342</td>\n",
              "      <td>0.886667</td>\n",
              "      <td>0.886667</td>\n",
              "      <td>1.000000</td>\n",
              "      <td>0.939929</td>\n",
              "    </tr>\n",
              "    <tr>\n",
              "      <td>2</td>\n",
              "      <td>0.473100</td>\n",
              "      <td>0.363709</td>\n",
              "      <td>0.886667</td>\n",
              "      <td>0.891892</td>\n",
              "      <td>0.992481</td>\n",
              "      <td>0.939502</td>\n",
              "    </tr>\n",
              "    <tr>\n",
              "      <td>3</td>\n",
              "      <td>0.168500</td>\n",
              "      <td>0.361708</td>\n",
              "      <td>0.893333</td>\n",
              "      <td>0.897959</td>\n",
              "      <td>0.992481</td>\n",
              "      <td>0.942857</td>\n",
              "    </tr>\n",
              "    <tr>\n",
              "      <td>4</td>\n",
              "      <td>0.116200</td>\n",
              "      <td>0.316084</td>\n",
              "      <td>0.893333</td>\n",
              "      <td>0.914894</td>\n",
              "      <td>0.969925</td>\n",
              "      <td>0.941606</td>\n",
              "    </tr>\n",
              "  </tbody>\n",
              "</table><p>"
            ]
          },
          "metadata": {}
        },
        {
          "output_type": "execute_result",
          "data": {
            "text/plain": [
              "TrainOutput(global_step=88, training_loss=0.21797112887725234, metrics={'train_runtime': 280.9247, 'train_samples_per_second': 4.984, 'train_steps_per_second': 0.313, 'total_flos': 368355477504000.0, 'train_loss': 0.21797112887725234, 'epoch': 4.0})"
            ]
          },
          "metadata": {},
          "execution_count": 33
        }
      ],
      "source": [
        "trainer.train()"
      ]
    },
    {
      "cell_type": "markdown",
      "id": "bs31S_6a5Bs7",
      "metadata": {
        "id": "bs31S_6a5Bs7"
      },
      "source": [
        "El modelo `roberta-base-bne` fue entrenado correctamente. En las siguientes secciones se analizará su rendimiento base y se aplicarán técnicas de mejora (pesos balanceados, ajuste de threshold).\n"
      ]
    },
    {
      "cell_type": "markdown",
      "id": "hiSe032T2KN-",
      "metadata": {
        "id": "hiSe032T2KN-"
      },
      "source": [
        "## Parte 3: Evaluación del modelo"
      ]
    },
    {
      "cell_type": "markdown",
      "id": "E0UJsfim6146",
      "metadata": {
        "id": "E0UJsfim6146"
      },
      "source": [
        "### Evaluación Base"
      ]
    },
    {
      "cell_type": "code",
      "execution_count": 34,
      "id": "Didzx9kgVGtG",
      "metadata": {
        "id": "Didzx9kgVGtG",
        "colab": {
          "base_uri": "https://localhost:8080/",
          "height": 198
        },
        "outputId": "718c5197-c8a7-461b-8d89-baf0f986c2c8"
      },
      "outputs": [
        {
          "output_type": "display_data",
          "data": {
            "text/plain": [
              "<IPython.core.display.HTML object>"
            ],
            "text/html": [
              "\n",
              "    <div>\n",
              "      \n",
              "      <progress value='10' max='10' style='width:300px; height:20px; vertical-align: middle;'></progress>\n",
              "      [10/10 00:04]\n",
              "    </div>\n",
              "    "
            ]
          },
          "metadata": {}
        },
        {
          "output_type": "execute_result",
          "data": {
            "text/plain": [
              "{'eval_loss': 0.3617081344127655,\n",
              " 'eval_accuracy': 0.8933333333333333,\n",
              " 'eval_precision': 0.8979591836734694,\n",
              " 'eval_recall': 0.9924812030075187,\n",
              " 'eval_f1': 0.9428571428571428,\n",
              " 'eval_runtime': 4.8182,\n",
              " 'eval_samples_per_second': 31.132,\n",
              " 'eval_steps_per_second': 2.075,\n",
              " 'epoch': 4.0}"
            ]
          },
          "metadata": {},
          "execution_count": 34
        }
      ],
      "source": [
        "# O sobre el conjunto de prueba\n",
        "trainer.evaluate(test_dataset)"
      ]
    },
    {
      "cell_type": "code",
      "execution_count": 35,
      "id": "Sbe4UI7AMHRU",
      "metadata": {
        "id": "Sbe4UI7AMHRU",
        "colab": {
          "base_uri": "https://localhost:8080/"
        },
        "outputId": "32d0e2f0-9617-4508-f015-c487cdda2edf"
      },
      "outputs": [
        {
          "output_type": "execute_result",
          "data": {
            "text/plain": [
              "('./beto-mentalrisk-anxiety/tokenizer_config.json',\n",
              " './beto-mentalrisk-anxiety/special_tokens_map.json',\n",
              " './beto-mentalrisk-anxiety/vocab.json',\n",
              " './beto-mentalrisk-anxiety/merges.txt',\n",
              " './beto-mentalrisk-anxiety/added_tokens.json',\n",
              " './beto-mentalrisk-anxiety/tokenizer.json')"
            ]
          },
          "metadata": {},
          "execution_count": 35
        }
      ],
      "source": [
        "model.save_pretrained(\"./beto-mentalrisk-anxiety\")\n",
        "tokenizer.save_pretrained(\"./beto-mentalrisk-anxiety\")"
      ]
    },
    {
      "cell_type": "code",
      "execution_count": 36,
      "id": "30O9jb1dPpy7",
      "metadata": {
        "id": "30O9jb1dPpy7",
        "colab": {
          "base_uri": "https://localhost:8080/",
          "height": 17
        },
        "outputId": "9e18f2f4-e3fe-400d-a9bb-3933cd9258a8"
      },
      "outputs": [
        {
          "output_type": "display_data",
          "data": {
            "text/plain": [
              "<IPython.core.display.HTML object>"
            ],
            "text/html": []
          },
          "metadata": {}
        }
      ],
      "source": [
        "from sklearn.metrics import confusion_matrix, classification_report\n",
        "import matplotlib.pyplot as plt\n",
        "import seaborn as sns\n",
        "import numpy as np\n",
        "\n",
        "# Realizar predicciones sobre el conjunto de test\n",
        "predictions = trainer.predict(test_dataset)\n",
        "\n",
        "# Obtener las etiquetas predichas\n",
        "y_pred = np.argmax(predictions.predictions, axis=1)\n",
        "y_true = predictions.label_ids"
      ]
    },
    {
      "cell_type": "code",
      "execution_count": 37,
      "id": "Z-dOvdC27NBL",
      "metadata": {
        "id": "Z-dOvdC27NBL",
        "colab": {
          "base_uri": "https://localhost:8080/",
          "height": 506
        },
        "outputId": "9ce074b1-de64-4a5a-8a91-2a9875579076"
      },
      "outputs": [
        {
          "output_type": "execute_result",
          "data": {
            "text/plain": [
              "Text(0.5, 1.0, 'Matriz de Confusión - RoBERTa sin ajuste')"
            ]
          },
          "metadata": {},
          "execution_count": 37
        },
        {
          "output_type": "display_data",
          "data": {
            "text/plain": [
              "<Figure size 600x500 with 2 Axes>"
            ],
            "image/png": "[encoded data removed]"
          },
          "metadata": {}
        }
      ],
      "source": [
        "# Matriz de confusión\n",
        "cm = confusion_matrix(y_true, y_pred)\n",
        "labels = [\"Control\", \"Ansiedad\"]\n",
        "plt.figure(figsize=(6, 5))\n",
        "sns.heatmap(cm, annot=True, fmt='d', cmap=\"Blues\", xticklabels=labels, yticklabels=labels)\n",
        "plt.xlabel('Predicción')\n",
        "plt.title(\"Matriz de Confusión - RoBERTa sin ajuste\")"
      ]
    },
    {
      "cell_type": "code",
      "execution_count": 38,
      "id": "tlVPTg3i7Pom",
      "metadata": {
        "id": "tlVPTg3i7Pom",
        "colab": {
          "base_uri": "https://localhost:8080/"
        },
        "outputId": "fd8fd5ae-37a7-44c0-ef14-6652e481c056"
      },
      "outputs": [
        {
          "output_type": "stream",
          "name": "stdout",
          "text": [
            "              precision    recall  f1-score   support\n",
            "\n",
            "     Control       0.67      0.12      0.20        17\n",
            "    Ansiedad       0.90      0.99      0.94       133\n",
            "\n",
            "    accuracy                           0.89       150\n",
            "   macro avg       0.78      0.56      0.57       150\n",
            "weighted avg       0.87      0.89      0.86       150\n",
            "\n"
          ]
        }
      ],
      "source": [
        "# Reporte de clasificación\n",
        "print(classification_report(y_true, y_pred, target_names=labels))"
      ]
    },
    {
      "cell_type": "code",
      "source": [
        "from sklearn.metrics import classification_report\n",
        "\n",
        "# Generar reporte\n",
        "report = classification_report(y_true, y_pred, output_dict=True, zero_division=0)\n",
        "\n",
        "# Guardar la configuración actual y sus métricas\n",
        "resultados_modelo.append({\n",
        "    \"Modelo\": \"RoBERTa\",\n",
        "    \"class_weight\": False,\n",
        "    \"Threshold\": 0.0,\n",
        "    \"F1-Control\": report[\"0\"][\"f1-score\"],\n",
        "    \"F1-Ansiedad\": report[\"1\"][\"f1-score\"],\n",
        "    \"Accuracy\": report[\"accuracy\"]\n",
        "})"
      ],
      "metadata": {
        "id": "0xI8vMTY-y5c"
      },
      "id": "0xI8vMTY-y5c",
      "execution_count": 39,
      "outputs": []
    },
    {
      "cell_type": "markdown",
      "source": [
        "###  Evaluación con ajuste de threshold\n",
        "\n",
        " La idea es mejorar el balance entre sensibilidad (recall) y precisión, especialmente en la clase Control, aplicando un threshold ajustado al modelo entrenado con class_weight.\n",
        "\n",
        " El ajuste de threshold permite mejorar significativamente el F1-score de la clase `Control`, sin afectar drásticamente el desempeño en la clase `Ansiedad`.\n",
        "\n",
        "Este paso es esencial cuando el modelo tiene una tendencia a sobrepredecir la clase positiva debido al desbalance original del dataset."
      ],
      "metadata": {
        "id": "IkLak6yT3wCJ"
      },
      "id": "IkLak6yT3wCJ"
    },
    {
      "cell_type": "code",
      "execution_count": 40,
      "metadata": {
        "id": "_8UzvK5pwqqn"
      },
      "outputs": [],
      "source": [
        "from scipy.special import softmax\n",
        "\n",
        "logits = predictions.predictions\n",
        "\n",
        "# Probabilidades de clase 1 (Ansiedad)\n",
        "probs = softmax(logits, axis=1)[:, 1]"
      ],
      "id": "_8UzvK5pwqqn"
    },
    {
      "cell_type": "code",
      "execution_count": 41,
      "metadata": {
        "id": "bUzZOsZwwqqo",
        "colab": {
          "base_uri": "https://localhost:8080/"
        },
        "outputId": "ceedb296-ec65-4a65-f8b5-c1374c52cde1"
      },
      "outputs": [
        {
          "output_type": "stream",
          "name": "stdout",
          "text": [
            "Threshold\tF1-Control\tF1-Ansiedad\tAccuracy\n",
            "0.30\t\t0.105\t\t0.940\t\t0.887\n",
            "0.35\t\t0.105\t\t0.940\t\t0.887\n",
            "0.40\t\t0.105\t\t0.940\t\t0.887\n",
            "0.45\t\t0.105\t\t0.940\t\t0.887\n",
            "0.50\t\t0.200\t\t0.943\t\t0.893\n",
            "0.55\t\t0.200\t\t0.943\t\t0.893\n",
            "0.60\t\t0.200\t\t0.943\t\t0.893\n",
            "0.65\t\t0.200\t\t0.943\t\t0.893\n",
            "0.70\t\t0.200\t\t0.943\t\t0.893\n",
            "0.75\t\t0.190\t\t0.939\t\t0.887\n",
            "0.80\t\t0.273\t\t0.942\t\t0.893\n"
          ]
        }
      ],
      "source": [
        "import numpy as np\n",
        "from sklearn.metrics import classification_report\n",
        "\n",
        "thresholds = np.arange(0.3, 0.85, 0.05)\n",
        "print(\"Threshold\\tF1-Control\\tF1-Ansiedad\\tAccuracy\")\n",
        "\n",
        "for t in thresholds:\n",
        "    preds = (probs >= t).astype(int)\n",
        "    report = classification_report(y_true, preds, output_dict=True, zero_division=0)\n",
        "    f1_0 = report[\"0\"][\"f1-score\"]\n",
        "    f1_1 = report[\"1\"][\"f1-score\"]\n",
        "    acc = report[\"accuracy\"]\n",
        "    print(f\"{t:.2f}\\t\\t{f1_0:.3f}\\t\\t{f1_1:.3f}\\t\\t{acc:.3f}\")"
      ],
      "id": "bUzZOsZwwqqo"
    },
    {
      "cell_type": "code",
      "source": [
        "# Elegimos el threshold óptimo (ej. 0.80)\n",
        "threshold = 0.80\n",
        "y_pred_final = (probs >= threshold).astype(int)\n",
        "\n",
        "# Reporte final\n",
        "print(classification_report(y_true, y_pred_final, target_names=labels))"
      ],
      "metadata": {
        "id": "twaAgVD538d4",
        "colab": {
          "base_uri": "https://localhost:8080/"
        },
        "outputId": "18c5011b-5379-433b-a1a6-3859c20d8664"
      },
      "id": "twaAgVD538d4",
      "execution_count": 42,
      "outputs": [
        {
          "output_type": "stream",
          "name": "stdout",
          "text": [
            "              precision    recall  f1-score   support\n",
            "\n",
            "     Control       0.60      0.18      0.27        17\n",
            "    Ansiedad       0.90      0.98      0.94       133\n",
            "\n",
            "    accuracy                           0.89       150\n",
            "   macro avg       0.75      0.58      0.61       150\n",
            "weighted avg       0.87      0.89      0.87       150\n",
            "\n"
          ]
        }
      ]
    },
    {
      "cell_type": "code",
      "source": [
        "# Generar reporte\n",
        "report = classification_report(y_true, y_pred, output_dict=True, zero_division=0)\n",
        "\n",
        "# Guardar la configuración actual y sus métricas\n",
        "resultados_modelo.append({\n",
        "    \"Modelo\": \"RoBERTa\",\n",
        "    \"class_weight\": False,\n",
        "    \"Threshold\": threshold,\n",
        "    \"F1-Control\": report[\"0\"][\"f1-score\"],\n",
        "    \"F1-Ansiedad\": report[\"1\"][\"f1-score\"],\n",
        "    \"Accuracy\": report[\"accuracy\"]\n",
        "})"
      ],
      "metadata": {
        "id": "_9MbFkBz_Ijp"
      },
      "id": "_9MbFkBz_Ijp",
      "execution_count": 43,
      "outputs": []
    },
    {
      "cell_type": "markdown",
      "id": "GAdhUnx97pzV",
      "metadata": {
        "id": "GAdhUnx97pzV"
      },
      "source": [
        "Se observa que el modelo tiene un muy buen desempeño para la clase mayoritaria (Ansiedad), pero bajo F1-score para la clase `Control` (≈ 0.20).\n",
        "\n",
        "👉 Esto motiva aplicar estrategias para mejorar el rendimiento en la clase minoritaria:\n",
        "- Ponderación de clases (`class_weight`)\n",
        "- Ajuste de threshold manual\n"
      ]
    },
    {
      "cell_type": "markdown",
      "id": "gOWFXupE7XdH",
      "metadata": {
        "id": "gOWFXupE7XdH"
      },
      "source": [
        "¿Por qué aplicar balanceo y ajuste de threshold?\n",
        "\n",
        "El modelo `roberta-base-bne` fue entrenado sobre un dataset con un **fuerte desbalance**: más del 85% de los usuarios están etiquetados como `Ansiedad` (clase 1), mientras que la clase `Control` (0) está poco representada.\n",
        "\n",
        "Este desbalance puede provocar que:\n",
        "- El modelo **priorice la clase 1** y no aprenda correctamente los patrones de la clase minoritaria.\n",
        "- Se obtenga una **accuracy artificialmente alta**, mientras que el **F1-score de la clase 0 sea muy bajo** (incluso cercano a 0.00).\n",
        "\n",
        "Por lo tanto, primero evaluaremos el modelo **sin ninguna estrategia de compensación** como línea base. Luego, en las siguientes secciones, se aplicarán:\n",
        "- `class_weight`: para darle más importancia a la clase 0 durante el entrenamiento.\n",
        "- Ajuste de `threshold`: para controlar cuán fácilmente el modelo predice clase 1.\n",
        "\n",
        "Este enfoque permite medir el impacto real de cada técnica sobre el rendimiento del modelo, en especial sobre la clase minoritaria."
      ]
    },
    {
      "cell_type": "markdown",
      "id": "hzYsAaXGed1q",
      "metadata": {
        "id": "hzYsAaXGed1q"
      },
      "source": [
        "### Entrenamiento con class_weight\n",
        "\n",
        "La idea es incorporar un peso mayor a la clase minoritaria (Control) durante el entrenamiento, para forzar al modelo a prestarle más atención a sus patrones.\n",
        "\n",
        "Con esta estrategia, el modelo penaliza más los errores en la clase 0, lo que debería mejorar su rendimiento (recall y F1-score) para detectar usuarios sin ansiedad.\n",
        "En la siguiente sección, se aplicará ajuste de threshold para mejorar aún más la precisión.\n"
      ]
    },
    {
      "cell_type": "code",
      "execution_count": 44,
      "id": "DDL-f_QJyRSV",
      "metadata": {
        "id": "DDL-f_QJyRSV",
        "colab": {
          "base_uri": "https://localhost:8080/"
        },
        "outputId": "3387003f-1024-47c0-dee1-8dec3d81edf9"
      },
      "outputs": [
        {
          "output_type": "stream",
          "name": "stdout",
          "text": [
            "Pesos de clase: tensor([4.3750, 0.5645])\n"
          ]
        }
      ],
      "source": [
        "from sklearn.utils.class_weight import compute_class_weight\n",
        "import numpy as np\n",
        "import torch\n",
        "\n",
        "# Obtener etiquetas de entrenamiento\n",
        "y_train = train_df[\"label\"].values\n",
        "\n",
        "# Calcular pesos balanceados\n",
        "class_weights = compute_class_weight(class_weight='balanced', classes=np.unique(y_train), y=y_train)\n",
        "class_weights = torch.tensor(class_weights, dtype=torch.float)\n",
        "\n",
        "print(\"Pesos de clase:\", class_weights)"
      ]
    },
    {
      "cell_type": "markdown",
      "id": "a_aavSoAyV1T",
      "metadata": {
        "id": "a_aavSoAyV1T"
      },
      "source": [
        "#### Trainer personalizada con CrossEntropyLoss ponderada\n"
      ]
    },
    {
      "cell_type": "code",
      "execution_count": 45,
      "id": "Tq9xdS7MyZwh",
      "metadata": {
        "id": "Tq9xdS7MyZwh"
      },
      "outputs": [],
      "source": [
        "from transformers import Trainer\n",
        "import torch.nn as nn\n",
        "\n",
        "class WeightedTrainer(Trainer):\n",
        "    def compute_loss(self, model, inputs, return_outputs=False):\n",
        "        labels = inputs.get(\"labels\")\n",
        "        outputs = model(**inputs)\n",
        "        logits = outputs.get(\"logits\")\n",
        "\n",
        "        loss_fct = nn.CrossEntropyLoss(weight=class_weights.to(model.device))\n",
        "        loss = loss_fct(logits, labels)\n",
        "\n",
        "        return (loss, outputs) if return_outputs else loss"
      ]
    },
    {
      "cell_type": "markdown",
      "id": "9ll2SOpgyeKj",
      "metadata": {
        "id": "9ll2SOpgyeKj"
      },
      "source": [
        "#### Reentrenar modelo"
      ]
    },
    {
      "cell_type": "code",
      "execution_count": 46,
      "id": "3qi0Q-YPyijj",
      "metadata": {
        "id": "3qi0Q-YPyijj"
      },
      "outputs": [],
      "source": [
        "trainer_w = WeightedTrainer(\n",
        "    model=model,\n",
        "    args=training_args,\n",
        "    train_dataset=train_dataset,\n",
        "    eval_dataset=test_dataset,\n",
        "    tokenizer=tokenizer,\n",
        "    compute_metrics=compute_metrics,\n",
        ")"
      ]
    },
    {
      "cell_type": "code",
      "execution_count": 47,
      "id": "Wqo9lG6Syj9I",
      "metadata": {
        "id": "Wqo9lG6Syj9I",
        "colab": {
          "base_uri": "https://localhost:8080/",
          "height": 237
        },
        "outputId": "c0d0c811-1db6-4929-a37c-e7856d235c5e"
      },
      "outputs": [
        {
          "output_type": "display_data",
          "data": {
            "text/plain": [
              "<IPython.core.display.HTML object>"
            ],
            "text/html": [
              "\n",
              "    <div>\n",
              "      \n",
              "      <progress value='88' max='88' style='width:300px; height:20px; vertical-align: middle;'></progress>\n",
              "      [88/88 04:06, Epoch 4/4]\n",
              "    </div>\n",
              "    <table border=\"1\" class=\"dataframe\">\n",
              "  <thead>\n",
              " <tr style=\"text-align: left;\">\n",
              "      <th>Epoch</th>\n",
              "      <th>Training Loss</th>\n",
              "      <th>Validation Loss</th>\n",
              "      <th>Accuracy</th>\n",
              "      <th>Precision</th>\n",
              "      <th>Recall</th>\n",
              "      <th>F1</th>\n",
              "    </tr>\n",
              "  </thead>\n",
              "  <tbody>\n",
              "    <tr>\n",
              "      <td>1</td>\n",
              "      <td>0.593900</td>\n",
              "      <td>1.340292</td>\n",
              "      <td>0.873333</td>\n",
              "      <td>0.913043</td>\n",
              "      <td>0.947368</td>\n",
              "      <td>0.929889</td>\n",
              "    </tr>\n",
              "    <tr>\n",
              "      <td>2</td>\n",
              "      <td>1.059200</td>\n",
              "      <td>1.128374</td>\n",
              "      <td>0.900000</td>\n",
              "      <td>0.915493</td>\n",
              "      <td>0.977444</td>\n",
              "      <td>0.945455</td>\n",
              "    </tr>\n",
              "    <tr>\n",
              "      <td>3</td>\n",
              "      <td>0.430800</td>\n",
              "      <td>1.147922</td>\n",
              "      <td>0.900000</td>\n",
              "      <td>0.933824</td>\n",
              "      <td>0.954887</td>\n",
              "      <td>0.944238</td>\n",
              "    </tr>\n",
              "    <tr>\n",
              "      <td>4</td>\n",
              "      <td>0.004000</td>\n",
              "      <td>1.255532</td>\n",
              "      <td>0.873333</td>\n",
              "      <td>0.931818</td>\n",
              "      <td>0.924812</td>\n",
              "      <td>0.928302</td>\n",
              "    </tr>\n",
              "  </tbody>\n",
              "</table><p>"
            ]
          },
          "metadata": {}
        },
        {
          "output_type": "execute_result",
          "data": {
            "text/plain": [
              "TrainOutput(global_step=88, training_loss=0.2512591936075213, metrics={'train_runtime': 248.1264, 'train_samples_per_second': 5.642, 'train_steps_per_second': 0.355, 'total_flos': 368355477504000.0, 'train_loss': 0.2512591936075213, 'epoch': 4.0})"
            ]
          },
          "metadata": {},
          "execution_count": 47
        }
      ],
      "source": [
        "trainer_w.train()"
      ]
    },
    {
      "cell_type": "code",
      "execution_count": 48,
      "id": "wiVJ5Q2hP1AQ",
      "metadata": {
        "id": "wiVJ5Q2hP1AQ",
        "colab": {
          "base_uri": "https://localhost:8080/",
          "height": 198
        },
        "outputId": "9521e6f8-552e-4348-86dd-7f715829e0af"
      },
      "outputs": [
        {
          "output_type": "display_data",
          "data": {
            "text/plain": [
              "<IPython.core.display.HTML object>"
            ],
            "text/html": [
              "\n",
              "    <div>\n",
              "      \n",
              "      <progress value='10' max='10' style='width:300px; height:20px; vertical-align: middle;'></progress>\n",
              "      [10/10 00:04]\n",
              "    </div>\n",
              "    "
            ]
          },
          "metadata": {}
        },
        {
          "output_type": "execute_result",
          "data": {
            "text/plain": [
              "{'eval_loss': 1.1283739805221558,\n",
              " 'eval_accuracy': 0.9,\n",
              " 'eval_precision': 0.9154929577464789,\n",
              " 'eval_recall': 0.9774436090225563,\n",
              " 'eval_f1': 0.9454545454545454,\n",
              " 'eval_runtime': 4.8691,\n",
              " 'eval_samples_per_second': 30.807,\n",
              " 'eval_steps_per_second': 2.054,\n",
              " 'epoch': 4.0}"
            ]
          },
          "metadata": {},
          "execution_count": 48
        }
      ],
      "source": [
        "trainer_w.evaluate(test_dataset)"
      ]
    },
    {
      "cell_type": "code",
      "execution_count": 49,
      "id": "txc_KdWj08b3",
      "metadata": {
        "id": "txc_KdWj08b3",
        "colab": {
          "base_uri": "https://localhost:8080/",
          "height": 488
        },
        "outputId": "d7d3f78d-35aa-46cb-be16-ed04fc00492e"
      },
      "outputs": [
        {
          "output_type": "display_data",
          "data": {
            "text/plain": [
              "<IPython.core.display.HTML object>"
            ],
            "text/html": []
          },
          "metadata": {}
        },
        {
          "output_type": "display_data",
          "data": {
            "text/plain": [
              "<Figure size 600x500 with 2 Axes>"
            ],
            "image/png": "[encoded data removed]"
          },
          "metadata": {}
        }
      ],
      "source": [
        "# Predicciones\n",
        "predictions = trainer_w.predict(test_dataset)\n",
        "y_pred = np.argmax(predictions.predictions, axis=1)\n",
        "y_true = predictions.label_ids\n",
        "\n",
        "# Matriz de confusión\n",
        "labels = [\"Control\", \"Ansiedad\"]\n",
        "cm = confusion_matrix(y_true, y_pred)\n",
        "\n",
        "plt.figure(figsize=(6, 5))\n",
        "sns.heatmap(cm, annot=True, fmt='d', cmap=\"Blues\", xticklabels=labels, yticklabels=labels)\n",
        "plt.xlabel(\"Predicción\")\n",
        "plt.ylabel(\"Valor real\")\n",
        "plt.title(\"Matriz de Confusión – BETO con pesos balanceados\")\n",
        "plt.show()"
      ]
    },
    {
      "cell_type": "code",
      "source": [
        "# Reporte\n",
        "print(\"Reporte clasificación:\")\n",
        "print(classification_report(y_true, y_pred, target_names=labels))"
      ],
      "metadata": {
        "id": "ghfYn8WHv2ZX",
        "colab": {
          "base_uri": "https://localhost:8080/"
        },
        "outputId": "c9eb5457-aff1-45b1-e590-8fc94ff3fcd4"
      },
      "id": "ghfYn8WHv2ZX",
      "execution_count": 50,
      "outputs": [
        {
          "output_type": "stream",
          "name": "stdout",
          "text": [
            "Reporte clasificación:\n",
            "              precision    recall  f1-score   support\n",
            "\n",
            "     Control       0.62      0.29      0.40        17\n",
            "    Ansiedad       0.92      0.98      0.95       133\n",
            "\n",
            "    accuracy                           0.90       150\n",
            "   macro avg       0.77      0.64      0.67       150\n",
            "weighted avg       0.88      0.90      0.88       150\n",
            "\n"
          ]
        }
      ]
    },
    {
      "cell_type": "code",
      "source": [
        "# Generar reporte\n",
        "report = classification_report(y_true, y_pred, output_dict=True, zero_division=0)\n",
        "\n",
        "# Guardar la configuración actual y sus métricas\n",
        "resultados_modelo.append({\n",
        "    \"Modelo\": \"RoBERTa\",\n",
        "    \"class_weight\": True,\n",
        "    \"Threshold\": 0.0,\n",
        "    \"F1-Control\": report[\"0\"][\"f1-score\"],\n",
        "    \"F1-Ansiedad\": report[\"1\"][\"f1-score\"],\n",
        "    \"Accuracy\": report[\"accuracy\"]\n",
        "})"
      ],
      "metadata": {
        "id": "3WMr4QgV_OsZ"
      },
      "id": "3WMr4QgV_OsZ",
      "execution_count": 51,
      "outputs": []
    },
    {
      "cell_type": "code",
      "execution_count": 52,
      "id": "_GDrerItPjjS",
      "metadata": {
        "id": "_GDrerItPjjS",
        "colab": {
          "base_uri": "https://localhost:8080/"
        },
        "outputId": "9987ac58-f199-4c13-ed95-ddbd6a2858a5"
      },
      "outputs": [
        {
          "output_type": "execute_result",
          "data": {
            "text/plain": [
              "('./beto-mentalrisk-anxiety-weighted/tokenizer_config.json',\n",
              " './beto-mentalrisk-anxiety-weighted/special_tokens_map.json',\n",
              " './beto-mentalrisk-anxiety-weighted/vocab.json',\n",
              " './beto-mentalrisk-anxiety-weighted/merges.txt',\n",
              " './beto-mentalrisk-anxiety-weighted/added_tokens.json',\n",
              " './beto-mentalrisk-anxiety-weighted/tokenizer.json')"
            ]
          },
          "metadata": {},
          "execution_count": 52
        }
      ],
      "source": [
        "model.save_pretrained(\"./beto-mentalrisk-anxiety-weighted\")\n",
        "tokenizer.save_pretrained(\"./beto-mentalrisk-anxiety-weighted\")"
      ]
    },
    {
      "cell_type": "markdown",
      "id": "Uu_Mjn6Df9Ny",
      "metadata": {
        "id": "Uu_Mjn6Df9Ny"
      },
      "source": [
        "###  Evaluación con ajuste de threshold (modelo con class_weight)\n",
        "\n",
        " La idea es mejorar el balance entre sensibilidad (recall) y precisión, especialmente en la clase Control, aplicando un threshold ajustado al modelo entrenado con class_weight.\n",
        "\n",
        " El ajuste de threshold permite mejorar significativamente el F1-score de la clase `Control`, sin afectar drásticamente el desempeño en la clase `Ansiedad`.\n",
        "\n",
        "Este paso es esencial cuando el modelo tiene una tendencia a sobrepredecir la clase positiva debido al desbalance original del dataset."
      ]
    },
    {
      "cell_type": "code",
      "execution_count": 53,
      "id": "4AYaX_WTgoHG",
      "metadata": {
        "id": "4AYaX_WTgoHG"
      },
      "outputs": [],
      "source": [
        "from scipy.special import softmax\n",
        "\n",
        "logits = predictions.predictions\n",
        "\n",
        "# Probabilidades de clase 1 (Ansiedad)\n",
        "probs = softmax(logits, axis=1)[:, 1]"
      ]
    },
    {
      "cell_type": "code",
      "execution_count": 54,
      "id": "Zmc8w9ExpFv5",
      "metadata": {
        "id": "Zmc8w9ExpFv5",
        "colab": {
          "base_uri": "https://localhost:8080/"
        },
        "outputId": "27a6ebbf-3537-46c9-cc61-7bc00bc1a45e"
      },
      "outputs": [
        {
          "output_type": "stream",
          "name": "stdout",
          "text": [
            "Threshold\tF1-Control\tF1-Ansiedad\tAccuracy\n",
            "0.30\t\t0.400\t\t0.945\t\t0.900\n",
            "0.35\t\t0.400\t\t0.945\t\t0.900\n",
            "0.40\t\t0.400\t\t0.945\t\t0.900\n",
            "0.45\t\t0.400\t\t0.945\t\t0.900\n",
            "0.50\t\t0.400\t\t0.945\t\t0.900\n",
            "0.55\t\t0.400\t\t0.945\t\t0.900\n",
            "0.60\t\t0.400\t\t0.945\t\t0.900\n",
            "0.65\t\t0.385\t\t0.942\t\t0.893\n",
            "0.70\t\t0.385\t\t0.942\t\t0.893\n",
            "0.75\t\t0.429\t\t0.941\t\t0.893\n",
            "0.80\t\t0.429\t\t0.941\t\t0.893\n"
          ]
        }
      ],
      "source": [
        "import numpy as np\n",
        "from sklearn.metrics import classification_report\n",
        "\n",
        "thresholds = np.arange(0.3, 0.85, 0.05)\n",
        "print(\"Threshold\\tF1-Control\\tF1-Ansiedad\\tAccuracy\")\n",
        "\n",
        "for t in thresholds:\n",
        "    preds = (probs >= t).astype(int)\n",
        "    report = classification_report(y_true, preds, output_dict=True, zero_division=0)\n",
        "    f1_0 = report[\"0\"][\"f1-score\"]\n",
        "    f1_1 = report[\"1\"][\"f1-score\"]\n",
        "    acc = report[\"accuracy\"]\n",
        "    print(f\"{t:.2f}\\t\\t{f1_0:.3f}\\t\\t{f1_1:.3f}\\t\\t{acc:.3f}\")"
      ]
    },
    {
      "cell_type": "code",
      "execution_count": 55,
      "id": "HQHa2WdwgvzA",
      "metadata": {
        "id": "HQHa2WdwgvzA",
        "colab": {
          "base_uri": "https://localhost:8080/"
        },
        "outputId": "8c224cb1-e7ad-461e-9143-400b1fb372b5"
      },
      "outputs": [
        {
          "output_type": "stream",
          "name": "stdout",
          "text": [
            "              precision    recall  f1-score   support\n",
            "\n",
            "     Control       0.62      0.29      0.40        17\n",
            "    Ansiedad       0.92      0.98      0.95       133\n",
            "\n",
            "    accuracy                           0.90       150\n",
            "   macro avg       0.77      0.64      0.67       150\n",
            "weighted avg       0.88      0.90      0.88       150\n",
            "\n"
          ]
        }
      ],
      "source": [
        "# Elegimos el threshold óptimo\n",
        "threshold = 0.50\n",
        "y_pred_final = (probs >= threshold).astype(int)\n",
        "\n",
        "# Reporte final\n",
        "print(classification_report(y_true, y_pred_final, target_names=labels))"
      ]
    },
    {
      "cell_type": "code",
      "source": [
        "# Generar reporte\n",
        "report = classification_report(y_true, y_pred, output_dict=True, zero_division=0)\n",
        "\n",
        "# Guardar la configuración actual y sus métricas\n",
        "resultados_modelo.append({\n",
        "    \"Modelo\": \"RoBERTa\",\n",
        "    \"class_weight\": True,\n",
        "    \"Threshold\": threshold,\n",
        "    \"F1-Control\": report[\"0\"][\"f1-score\"],\n",
        "    \"F1-Ansiedad\": report[\"1\"][\"f1-score\"],\n",
        "    \"Accuracy\": report[\"accuracy\"]\n",
        "})"
      ],
      "metadata": {
        "id": "fqwtY_vh_UxF"
      },
      "id": "fqwtY_vh_UxF",
      "execution_count": 56,
      "outputs": []
    },
    {
      "cell_type": "code",
      "execution_count": 57,
      "id": "L8dc3C_kgykn",
      "metadata": {
        "id": "L8dc3C_kgykn",
        "colab": {
          "base_uri": "https://localhost:8080/",
          "height": 472
        },
        "outputId": "c7424728-c46c-4c37-f828-38c9a87cdbdf"
      },
      "outputs": [
        {
          "output_type": "display_data",
          "data": {
            "text/plain": [
              "<Figure size 640x480 with 2 Axes>"
            ],
            "image/png": "[encoded data removed]"
          },
          "metadata": {}
        }
      ],
      "source": [
        "from sklearn.metrics import confusion_matrix\n",
        "import seaborn as sns\n",
        "import matplotlib.pyplot as plt\n",
        "\n",
        "cm = confusion_matrix(y_true, y_pred_final)\n",
        "sns.heatmap(cm, annot=True, fmt=\"d\", cmap=\"Blues\", xticklabels=[\"Control\", \"Ansiedad\"], yticklabels=[\"Control\", \"Ansiedad\"])\n",
        "plt.xlabel(\"Predicción\")\n",
        "plt.ylabel(\"Etiqueta real\")\n",
        "plt.title(f\"Matriz de Confusión con threshold = {threshold}\")\n",
        "plt.show()"
      ]
    },
    {
      "cell_type": "markdown",
      "id": "93DwAnvbhtgf",
      "metadata": {
        "id": "93DwAnvbhtgf"
      },
      "source": [
        "### Evaluaciones manuales (Validación cualitativa del modelo)"
      ]
    },
    {
      "cell_type": "code",
      "execution_count": 58,
      "id": "JS8Dc4FFoqco",
      "metadata": {
        "id": "JS8Dc4FFoqco"
      },
      "outputs": [],
      "source": [
        "import torch\n",
        "from transformers import TextClassificationPipeline\n",
        "\n",
        "# Crear pipeline de clasificación desde el modelo entrenado\n",
        "pipeline_personalizado = TextClassificationPipeline(\n",
        "    model=trainer_w.model,\n",
        "    tokenizer=tokenizer,\n",
        "    return_all_scores=True,\n",
        "    device=0 if torch.cuda.is_available() else -1\n",
        ")"
      ]
    },
    {
      "cell_type": "code",
      "execution_count": 59,
      "id": "PGD00Rqkol1O",
      "metadata": {
        "id": "PGD00Rqkol1O"
      },
      "outputs": [],
      "source": [
        "import pandas as pd\n",
        "\n",
        "textos_prueba = [\n",
        "    \"No puedo dormir, mi corazón late muy rápido por las noches.\",\n",
        "    \"Me sudan las manos cuando estoy solo.\",\n",
        "    \"A veces me falta el aire sin razón aparente.\",\n",
        "    \"Siento que algo malo va a pasar aunque no hay motivo.\",\n",
        "    \"Estoy harto, no sé cómo parar estos pensamientos.\",\n",
        "    \"Hoy me desperté feliz, con muchas ganas de salir.\",\n",
        "    \"Todo está en calma, me siento estable emocionalmente.\",\n",
        "    \"Amo mi trabajo y estoy disfrutando la vida.\",\n",
        "    \"No tengo ansiedad, solo algo de cansancio normal.\",\n",
        "    \"La terapia me ha ayudado mucho, ya no tengo miedo.\",\n",
        "]\n",
        "\n",
        "def evaluar_textos(textos):\n",
        "    resultados = []\n",
        "    for texto in textos:\n",
        "        resultado = pipeline_personalizado(texto)[0]\n",
        "        prob_sufre = resultado[1]['score']\n",
        "        etiqueta = \"Sufre ansiedad\" if prob_sufre >= 0.5 else \"Control (no sufre)\"\n",
        "        resultados.append({\n",
        "            \"Texto\": texto,\n",
        "            \"Predicción\": etiqueta,\n",
        "            \"Prob. Ansiedad\": round(prob_sufre, 4)\n",
        "        })\n",
        "    return pd.DataFrame(resultados).sort_values(by=\"Prob. Ansiedad\", ascending=False)\n",
        "\n",
        "df_resultados = evaluar_textos(textos_prueba)"
      ]
    },
    {
      "cell_type": "code",
      "execution_count": 60,
      "id": "dImwuon5o0H_",
      "metadata": {
        "id": "dImwuon5o0H_",
        "colab": {
          "base_uri": "https://localhost:8080/",
          "height": 363
        },
        "outputId": "892a44ce-6d0d-4345-d28e-a169ca5b5bd1"
      },
      "outputs": [
        {
          "output_type": "execute_result",
          "data": {
            "text/plain": [
              "                                               Texto          Predicción  \\\n",
              "8  No tengo ansiedad, solo algo de cansancio normal.      Sufre ansiedad   \n",
              "0  No puedo dormir, mi corazón late muy rápido po...      Sufre ansiedad   \n",
              "4  Estoy harto, no sé cómo parar estos pensamientos.      Sufre ansiedad   \n",
              "1              Me sudan las manos cuando estoy solo.      Sufre ansiedad   \n",
              "6  Todo está en calma, me siento estable emociona...      Sufre ansiedad   \n",
              "2       A veces me falta el aire sin razón aparente.      Sufre ansiedad   \n",
              "5  Hoy me desperté feliz, con muchas ganas de salir.      Sufre ansiedad   \n",
              "9  La terapia me ha ayudado mucho, ya no tengo mi...  Control (no sufre)   \n",
              "7        Amo mi trabajo y estoy disfrutando la vida.  Control (no sufre)   \n",
              "3  Siento que algo malo va a pasar aunque no hay ...  Control (no sufre)   \n",
              "\n",
              "   Prob. Ansiedad  \n",
              "8          0.9844  \n",
              "0          0.9754  \n",
              "4          0.9724  \n",
              "1          0.9580  \n",
              "6          0.9191  \n",
              "2          0.8806  \n",
              "5          0.5346  \n",
              "9          0.4739  \n",
              "7          0.0569  \n",
              "3          0.0230  "
            ],
            "text/html": [
              "\n",
              "  <div id=\"df-27db8498-3163-4b6e-80fc-9e336b30cbe6\" class=\"colab-df-container\">\n",
              "    <div>\n",
              "<style scoped>\n",
              "    .dataframe tbody tr th:only-of-type {\n",
              "        vertical-align: middle;\n",
              "    }\n",
              "\n",
              "    .dataframe tbody tr th {\n",
              "        vertical-align: top;\n",
              "    }\n",
              "\n",
              "    .dataframe thead th {\n",
              "        text-align: right;\n",
              "    }\n",
              "</style>\n",
              "<table border=\"1\" class=\"dataframe\">\n",
              "  <thead>\n",
              "    <tr style=\"text-align: right;\">\n",
              "      <th></th>\n",
              "      <th>Texto</th>\n",
              "      <th>Predicción</th>\n",
              "      <th>Prob. Ansiedad</th>\n",
              "    </tr>\n",
              "  </thead>\n",
              "  <tbody>\n",
              "    <tr>\n",
              "      <th>8</th>\n",
              "      <td>No tengo ansiedad, solo algo de cansancio normal.</td>\n",
              "      <td>Sufre ansiedad</td>\n",
              "      <td>0.9844</td>\n",
              "    </tr>\n",
              "    <tr>\n",
              "      <th>0</th>\n",
              "      <td>No puedo dormir, mi corazón late muy rápido po...</td>\n",
              "      <td>Sufre ansiedad</td>\n",
              "      <td>0.9754</td>\n",
              "    </tr>\n",
              "    <tr>\n",
              "      <th>4</th>\n",
              "      <td>Estoy harto, no sé cómo parar estos pensamientos.</td>\n",
              "      <td>Sufre ansiedad</td>\n",
              "      <td>0.9724</td>\n",
              "    </tr>\n",
              "    <tr>\n",
              "      <th>1</th>\n",
              "      <td>Me sudan las manos cuando estoy solo.</td>\n",
              "      <td>Sufre ansiedad</td>\n",
              "      <td>0.9580</td>\n",
              "    </tr>\n",
              "    <tr>\n",
              "      <th>6</th>\n",
              "      <td>Todo está en calma, me siento estable emociona...</td>\n",
              "      <td>Sufre ansiedad</td>\n",
              "      <td>0.9191</td>\n",
              "    </tr>\n",
              "    <tr>\n",
              "      <th>2</th>\n",
              "      <td>A veces me falta el aire sin razón aparente.</td>\n",
              "      <td>Sufre ansiedad</td>\n",
              "      <td>0.8806</td>\n",
              "    </tr>\n",
              "    <tr>\n",
              "      <th>5</th>\n",
              "      <td>Hoy me desperté feliz, con muchas ganas de salir.</td>\n",
              "      <td>Sufre ansiedad</td>\n",
              "      <td>0.5346</td>\n",
              "    </tr>\n",
              "    <tr>\n",
              "      <th>9</th>\n",
              "      <td>La terapia me ha ayudado mucho, ya no tengo mi...</td>\n",
              "      <td>Control (no sufre)</td>\n",
              "      <td>0.4739</td>\n",
              "    </tr>\n",
              "    <tr>\n",
              "      <th>7</th>\n",
              "      <td>Amo mi trabajo y estoy disfrutando la vida.</td>\n",
              "      <td>Control (no sufre)</td>\n",
              "      <td>0.0569</td>\n",
              "    </tr>\n",
              "    <tr>\n",
              "      <th>3</th>\n",
              "      <td>Siento que algo malo va a pasar aunque no hay ...</td>\n",
              "      <td>Control (no sufre)</td>\n",
              "      <td>0.0230</td>\n",
              "    </tr>\n",
              "  </tbody>\n",
              "</table>\n",
              "</div>\n",
              "    <div class=\"colab-df-buttons\">\n",
              "\n",
              "  <div class=\"colab-df-container\">\n",
              "    <button class=\"colab-df-convert\" onclick=\"convertToInteractive('df-27db8498-3163-4b6e-80fc-9e336b30cbe6')\"\n",
              "            title=\"Convert this dataframe to an interactive table.\"\n",
              "            style=\"display:none;\">\n",
              "\n",
              "  <svg xmlns=\"http://www.w3.org/2000/svg\" height=\"24px\" viewBox=\"0 -960 960 960\">\n",
              "    <path d=\"M120-120v-720h720v720H120Zm60-500h600v-160H180v160Zm220 220h160v-160H400v160Zm0 220h160v-160H400v160ZM180-400h160v-160H180v160Zm440 0h160v-160H620v160ZM180-180h160v-160H180v160Zm440 0h160v-160H620v160Z\"/>\n",
              "  </svg>\n",
              "    </button>\n",
              "\n",
              "  <style>\n",
              "    .colab-df-container {\n",
              "      display:flex;\n",
              "      gap: 12px;\n",
              "    }\n",
              "\n",
              "    .colab-df-convert {\n",
              "      background-color: #E8F0FE;\n",
              "      border: none;\n",
              "      border-radius: 50%;\n",
              "      cursor: pointer;\n",
              "      display: none;\n",
              "      fill: #1967D2;\n",
              "      height: 32px;\n",
              "      padding: 0 0 0 0;\n",
              "      width: 32px;\n",
              "    }\n",
              "\n",
              "    .colab-df-convert:hover {\n",
              "      background-color: #E2EBFA;\n",
              "      box-shadow: 0px 1px 2px rgba(60, 64, 67, 0.3), 0px 1px 3px 1px rgba(60, 64, 67, 0.15);\n",
              "      fill: #174EA6;\n",
              "    }\n",
              "\n",
              "    .colab-df-buttons div {\n",
              "      margin-bottom: 4px;\n",
              "    }\n",
              "\n",
              "    [theme=dark] .colab-df-convert {\n",
              "      background-color: #3B4455;\n",
              "      fill: #D2E3FC;\n",
              "    }\n",
              "\n",
              "    [theme=dark] .colab-df-convert:hover {\n",
              "      background-color: #434B5C;\n",
              "      box-shadow: 0px 1px 3px 1px rgba(0, 0, 0, 0.15);\n",
              "      filter: drop-shadow(0px 1px 2px rgba(0, 0, 0, 0.3));\n",
              "      fill: #FFFFFF;\n",
              "    }\n",
              "  </style>\n",
              "\n",
              "    <script>\n",
              "      const buttonEl =\n",
              "        document.querySelector('#df-27db8498-3163-4b6e-80fc-9e336b30cbe6 button.colab-df-convert');\n",
              "      buttonEl.style.display =\n",
              "        google.colab.kernel.accessAllowed ? 'block' : 'none';\n",
              "\n",
              "      async function convertToInteractive(key) {\n",
              "        const element = document.querySelector('#df-27db8498-3163-4b6e-80fc-9e336b30cbe6');\n",
              "        const dataTable =\n",
              "          await google.colab.kernel.invokeFunction('convertToInteractive',\n",
              "                                                    [key], {});\n",
              "        if (!dataTable) return;\n",
              "\n",
              "        const docLinkHtml = 'Like what you see? Visit the ' +\n",
              "          '<a target=\"_blank\" href=https://colab.research.google.com/notebooks/data_table.ipynb>data table notebook</a>'\n",
              "          + ' to learn more about interactive tables.';\n",
              "        element.innerHTML = '';\n",
              "        dataTable['output_type'] = 'display_data';\n",
              "        await google.colab.output.renderOutput(dataTable, element);\n",
              "        const docLink = document.createElement('div');\n",
              "        docLink.innerHTML = docLinkHtml;\n",
              "        element.appendChild(docLink);\n",
              "      }\n",
              "    </script>\n",
              "  </div>\n",
              "\n",
              "\n",
              "    <div id=\"df-36fd073c-7078-4a2f-95ba-15e2f3b53453\">\n",
              "      <button class=\"colab-df-quickchart\" onclick=\"quickchart('df-36fd073c-7078-4a2f-95ba-15e2f3b53453')\"\n",
              "                title=\"Suggest charts\"\n",
              "                style=\"display:none;\">\n",
              "\n",
              "<svg xmlns=\"http://www.w3.org/2000/svg\" height=\"24px\"viewBox=\"0 0 24 24\"\n",
              "     width=\"24px\">\n",
              "    <g>\n",
              "        <path d=\"M19 3H5c-1.1 0-2 .9-2 2v14c0 1.1.9 2 2 2h14c1.1 0 2-.9 2-2V5c0-1.1-.9-2-2-2zM9 17H7v-7h2v7zm4 0h-2V7h2v10zm4 0h-2v-4h2v4z\"/>\n",
              "    </g>\n",
              "</svg>\n",
              "      </button>\n",
              "\n",
              "<style>\n",
              "  .colab-df-quickchart {\n",
              "      --bg-color: #E8F0FE;\n",
              "      --fill-color: #1967D2;\n",
              "      --hover-bg-color: #E2EBFA;\n",
              "      --hover-fill-color: #174EA6;\n",
              "      --disabled-fill-color: #AAA;\n",
              "      --disabled-bg-color: #DDD;\n",
              "  }\n",
              "\n",
              "  [theme=dark] .colab-df-quickchart {\n",
              "      --bg-color: #3B4455;\n",
              "      --fill-color: #D2E3FC;\n",
              "      --hover-bg-color: #434B5C;\n",
              "      --hover-fill-color: #FFFFFF;\n",
              "      --disabled-bg-color: #3B4455;\n",
              "      --disabled-fill-color: #666;\n",
              "  }\n",
              "\n",
              "  .colab-df-quickchart {\n",
              "    background-color: var(--bg-color);\n",
              "    border: none;\n",
              "    border-radius: 50%;\n",
              "    cursor: pointer;\n",
              "    display: none;\n",
              "    fill: var(--fill-color);\n",
              "    height: 32px;\n",
              "    padding: 0;\n",
              "    width: 32px;\n",
              "  }\n",
              "\n",
              "  .colab-df-quickchart:hover {\n",
              "    background-color: var(--hover-bg-color);\n",
              "    box-shadow: 0 1px 2px rgba(60, 64, 67, 0.3), 0 1px 3px 1px rgba(60, 64, 67, 0.15);\n",
              "    fill: var(--button-hover-fill-color);\n",
              "  }\n",
              "\n",
              "  .colab-df-quickchart-complete:disabled,\n",
              "  .colab-df-quickchart-complete:disabled:hover {\n",
              "    background-color: var(--disabled-bg-color);\n",
              "    fill: var(--disabled-fill-color);\n",
              "    box-shadow: none;\n",
              "  }\n",
              "\n",
              "  .colab-df-spinner {\n",
              "    border: 2px solid var(--fill-color);\n",
              "    border-color: transparent;\n",
              "    border-bottom-color: var(--fill-color);\n",
              "    animation:\n",
              "      spin 1s steps(1) infinite;\n",
              "  }\n",
              "\n",
              "  @keyframes spin {\n",
              "    0% {\n",
              "      border-color: transparent;\n",
              "      border-bottom-color: var(--fill-color);\n",
              "      border-left-color: var(--fill-color);\n",
              "    }\n",
              "    20% {\n",
              "      border-color: transparent;\n",
              "      border-left-color: var(--fill-color);\n",
              "      border-top-color: var(--fill-color);\n",
              "    }\n",
              "    30% {\n",
              "      border-color: transparent;\n",
              "      border-left-color: var(--fill-color);\n",
              "      border-top-color: var(--fill-color);\n",
              "      border-right-color: var(--fill-color);\n",
              "    }\n",
              "    40% {\n",
              "      border-color: transparent;\n",
              "      border-right-color: var(--fill-color);\n",
              "      border-top-color: var(--fill-color);\n",
              "    }\n",
              "    60% {\n",
              "      border-color: transparent;\n",
              "      border-right-color: var(--fill-color);\n",
              "    }\n",
              "    80% {\n",
              "      border-color: transparent;\n",
              "      border-right-color: var(--fill-color);\n",
              "      border-bottom-color: var(--fill-color);\n",
              "    }\n",
              "    90% {\n",
              "      border-color: transparent;\n",
              "      border-bottom-color: var(--fill-color);\n",
              "    }\n",
              "  }\n",
              "</style>\n",
              "\n",
              "      <script>\n",
              "        async function quickchart(key) {\n",
              "          const quickchartButtonEl =\n",
              "            document.querySelector('#' + key + ' button');\n",
              "          quickchartButtonEl.disabled = true;  // To prevent multiple clicks.\n",
              "          quickchartButtonEl.classList.add('colab-df-spinner');\n",
              "          try {\n",
              "            const charts = await google.colab.kernel.invokeFunction(\n",
              "                'suggestCharts', [key], {});\n",
              "          } catch (error) {\n",
              "            console.error('Error during call to suggestCharts:', error);\n",
              "          }\n",
              "          quickchartButtonEl.classList.remove('colab-df-spinner');\n",
              "          quickchartButtonEl.classList.add('colab-df-quickchart-complete');\n",
              "        }\n",
              "        (() => {\n",
              "          let quickchartButtonEl =\n",
              "            document.querySelector('#df-36fd073c-7078-4a2f-95ba-15e2f3b53453 button');\n",
              "          quickchartButtonEl.style.display =\n",
              "            google.colab.kernel.accessAllowed ? 'block' : 'none';\n",
              "        })();\n",
              "      </script>\n",
              "    </div>\n",
              "\n",
              "  <div id=\"id_4b791449-016e-4f0c-827c-24230a5741b4\">\n",
              "    <style>\n",
              "      .colab-df-generate {\n",
              "        background-color: #E8F0FE;\n",
              "        border: none;\n",
              "        border-radius: 50%;\n",
              "        cursor: pointer;\n",
              "        display: none;\n",
              "        fill: #1967D2;\n",
              "        height: 32px;\n",
              "        padding: 0 0 0 0;\n",
              "        width: 32px;\n",
              "      }\n",
              "\n",
              "      .colab-df-generate:hover {\n",
              "        background-color: #E2EBFA;\n",
              "        box-shadow: 0px 1px 2px rgba(60, 64, 67, 0.3), 0px 1px 3px 1px rgba(60, 64, 67, 0.15);\n",
              "        fill: #174EA6;\n",
              "      }\n",
              "\n",
              "      [theme=dark] .colab-df-generate {\n",
              "        background-color: #3B4455;\n",
              "        fill: #D2E3FC;\n",
              "      }\n",
              "\n",
              "      [theme=dark] .colab-df-generate:hover {\n",
              "        background-color: #434B5C;\n",
              "        box-shadow: 0px 1px 3px 1px rgba(0, 0, 0, 0.15);\n",
              "        filter: drop-shadow(0px 1px 2px rgba(0, 0, 0, 0.3));\n",
              "        fill: #FFFFFF;\n",
              "      }\n",
              "    </style>\n",
              "    <button class=\"colab-df-generate\" onclick=\"generateWithVariable('df_resultados')\"\n",
              "            title=\"Generate code using this dataframe.\"\n",
              "            style=\"display:none;\">\n",
              "\n",
              "  <svg xmlns=\"http://www.w3.org/2000/svg\" height=\"24px\"viewBox=\"0 0 24 24\"\n",
              "       width=\"24px\">\n",
              "    <path d=\"M7,19H8.4L18.45,9,17,7.55,7,17.6ZM5,21V16.75L18.45,3.32a2,2,0,0,1,2.83,0l1.4,1.43a1.91,1.91,0,0,1,.58,1.4,1.91,1.91,0,0,1-.58,1.4L9.25,21ZM18.45,9,17,7.55Zm-12,3A5.31,5.31,0,0,0,4.9,8.1,5.31,5.31,0,0,0,1,6.5,5.31,5.31,0,0,0,4.9,4.9,5.31,5.31,0,0,0,6.5,1,5.31,5.31,0,0,0,8.1,4.9,5.31,5.31,0,0,0,12,6.5,5.46,5.46,0,0,0,6.5,12Z\"/>\n",
              "  </svg>\n",
              "    </button>\n",
              "    <script>\n",
              "      (() => {\n",
              "      const buttonEl =\n",
              "        document.querySelector('#id_4b791449-016e-4f0c-827c-24230a5741b4 button.colab-df-generate');\n",
              "      buttonEl.style.display =\n",
              "        google.colab.kernel.accessAllowed ? 'block' : 'none';\n",
              "\n",
              "      buttonEl.onclick = () => {\n",
              "        google.colab.notebook.generateWithVariable('df_resultados');\n",
              "      }\n",
              "      })();\n",
              "    </script>\n",
              "  </div>\n",
              "\n",
              "    </div>\n",
              "  </div>\n"
            ],
            "application/vnd.google.colaboratory.intrinsic+json": {
              "type": "dataframe",
              "variable_name": "df_resultados",
              "summary": "{\n  \"name\": \"df_resultados\",\n  \"rows\": 10,\n  \"fields\": [\n    {\n      \"column\": \"Texto\",\n      \"properties\": {\n        \"dtype\": \"string\",\n        \"num_unique_values\": 10,\n        \"samples\": [\n          \"Amo mi trabajo y estoy disfrutando la vida.\",\n          \"No puedo dormir, mi coraz\\u00f3n late muy r\\u00e1pido por las noches.\",\n          \"A veces me falta el aire sin raz\\u00f3n aparente.\"\n        ],\n        \"semantic_type\": \"\",\n        \"description\": \"\"\n      }\n    },\n    {\n      \"column\": \"Predicci\\u00f3n\",\n      \"properties\": {\n        \"dtype\": \"category\",\n        \"num_unique_values\": 2,\n        \"samples\": [\n          \"Control (no sufre)\",\n          \"Sufre ansiedad\"\n        ],\n        \"semantic_type\": \"\",\n        \"description\": \"\"\n      }\n    },\n    {\n      \"column\": \"Prob. Ansiedad\",\n      \"properties\": {\n        \"dtype\": \"number\",\n        \"std\": 0.3834905968715386,\n        \"min\": 0.023,\n        \"max\": 0.9844,\n        \"num_unique_values\": 10,\n        \"samples\": [\n          0.0569,\n          0.9754\n        ],\n        \"semantic_type\": \"\",\n        \"description\": \"\"\n      }\n    }\n  ]\n}"
            }
          },
          "metadata": {},
          "execution_count": 60
        }
      ],
      "source": [
        "df_resultados"
      ]
    },
    {
      "cell_type": "markdown",
      "id": "Ui5XPA3riewj",
      "metadata": {
        "id": "Ui5XPA3riewj"
      },
      "source": [
        "📌 Esta evaluación cualitativa muestra que el modelo:\n",
        "- Asigna alta probabilidad de ansiedad a frases con síntomas explícitos.\n",
        "- Clasifica correctamente textos neutros o positivos como `Control`.\n",
        "- Permite interpretar sus predicciones gracias a las probabilidades de salida.\n"
      ]
    },
    {
      "cell_type": "markdown",
      "source": [
        "### Comparación de resultados"
      ],
      "metadata": {
        "id": "4hib7ig3-atW"
      },
      "id": "4hib7ig3-atW"
    },
    {
      "cell_type": "code",
      "source": [
        "import pandas as pd\n",
        "\n",
        "df_resultadosTabla = pd.DataFrame(resultados_modelo)\n",
        "df_resultadosTabla = df_resultadosTabla.sort_values(by=\"F1-Control\", ascending=False).reset_index(drop=True)\n",
        "print(df_resultadosTabla)"
      ],
      "metadata": {
        "id": "gW01TVpT-d3b",
        "colab": {
          "base_uri": "https://localhost:8080/"
        },
        "outputId": "58fb133d-2834-4828-9b9b-9ab62aaa9153"
      },
      "id": "gW01TVpT-d3b",
      "execution_count": 61,
      "outputs": [
        {
          "output_type": "stream",
          "name": "stdout",
          "text": [
            "    Modelo  class_weight  Threshold  F1-Control  F1-Ansiedad  Accuracy\n",
            "0  RoBERTa          True        0.5         0.4     0.945455  0.900000\n",
            "1  RoBERTa          True        0.0         0.4     0.945455  0.900000\n",
            "2  RoBERTa         False        0.8         0.2     0.942857  0.893333\n",
            "3  RoBERTa         False        0.0         0.2     0.942857  0.893333\n"
          ]
        }
      ]
    }
  ],
  "metadata": {
    "accelerator": "GPU",
    "colab": {
      "provenance": [],
      "toc_visible": true
    },
    "kernelspec": {
      "display_name": "Python 3",
      "name": "python3"
    },
    "language_info": {
      "codemirror_mode": {
        "name": "ipython",
        "version": 3
      },
      "file_extension": ".py",
      "mimetype": "text/x-python",
      "name": "python",
      "nbconvert_exporter": "python",
      "pygments_lexer": "ipython3",
      "version": "3.8.5"
    },
    "widgets": {
      "application/vnd.jupyter.widget-state+json": {
        "cb40697a407247c8a0755eb1a8c8f804": {
          "model_module": "@jupyter-widgets/controls",
          "model_name": "HBoxModel",
          "model_module_version": "1.5.0",
          "state": {
            "_dom_classes": [],
            "_model_module": "@jupyter-widgets/controls",
            "_model_module_version": "1.5.0",
            "_model_name": "HBoxModel",
            "_view_count": null,
            "_view_module": "@jupyter-widgets/controls",
            "_view_module_version": "1.5.0",
            "_view_name": "HBoxView",
            "box_style": "",
            "children": [
              "IPY_MODEL_8557363a261d4935bb7474540c5ca804",
              "IPY_MODEL_5d35e7e90158463d8f56f5e8628cdee3",
              "IPY_MODEL_6a359e0baa214631922c49297c35163e"
            ],
            "layout": "IPY_MODEL_2c53835bbde94402811cf5ec2f983f89"
          }
        },
        "8557363a261d4935bb7474540c5ca804": {
          "model_module": "@jupyter-widgets/controls",
          "model_name": "HTMLModel",
          "model_module_version": "1.5.0",
          "state": {
            "_dom_classes": [],
            "_model_module": "@jupyter-widgets/controls",
            "_model_module_version": "1.5.0",
            "_model_name": "HTMLModel",
            "_view_count": null,
            "_view_module": "@jupyter-widgets/controls",
            "_view_module_version": "1.5.0",
            "_view_name": "HTMLView",
            "description": "",
            "description_tooltip": null,
            "layout": "IPY_MODEL_078dd6c62775416a88254646974e0bd4",
            "placeholder": "​",
            "style": "IPY_MODEL_414de25c945a4b06a59b7c5444aa1e9c",
            "value": "tokenizer_config.json: 100%"
          }
        },
        "5d35e7e90158463d8f56f5e8628cdee3": {
          "model_module": "@jupyter-widgets/controls",
          "model_name": "FloatProgressModel",
          "model_module_version": "1.5.0",
          "state": {
            "_dom_classes": [],
            "_model_module": "@jupyter-widgets/controls",
            "_model_module_version": "1.5.0",
            "_model_name": "FloatProgressModel",
            "_view_count": null,
            "_view_module": "@jupyter-widgets/controls",
            "_view_module_version": "1.5.0",
            "_view_name": "ProgressView",
            "bar_style": "success",
            "description": "",
            "description_tooltip": null,
            "layout": "IPY_MODEL_e491cd1aab5548aa9a96f204a5dd124f",
            "max": 1391,
            "min": 0,
            "orientation": "horizontal",
            "style": "IPY_MODEL_2907514c6e9742419ed73dee2087381e",
            "value": 1391
          }
        },
        "6a359e0baa214631922c49297c35163e": {
          "model_module": "@jupyter-widgets/controls",
          "model_name": "HTMLModel",
          "model_module_version": "1.5.0",
          "state": {
            "_dom_classes": [],
            "_model_module": "@jupyter-widgets/controls",
            "_model_module_version": "1.5.0",
            "_model_name": "HTMLModel",
            "_view_count": null,
            "_view_module": "@jupyter-widgets/controls",
            "_view_module_version": "1.5.0",
            "_view_name": "HTMLView",
            "description": "",
            "description_tooltip": null,
            "layout": "IPY_MODEL_b4ff7fb5bc714299a49cf785318f32ea",
            "placeholder": "​",
            "style": "IPY_MODEL_3d75f31dbc9943b88dc849c02898b79c",
            "value": " 1.39k/1.39k [00:00&lt;00:00, 105kB/s]"
          }
        },
        "2c53835bbde94402811cf5ec2f983f89": {
          "model_module": "@jupyter-widgets/base",
          "model_name": "LayoutModel",
          "model_module_version": "1.2.0",
          "state": {
            "_model_module": "@jupyter-widgets/base",
            "_model_module_version": "1.2.0",
            "_model_name": "LayoutModel",
            "_view_count": null,
            "_view_module": "@jupyter-widgets/base",
            "_view_module_version": "1.2.0",
            "_view_name": "LayoutView",
            "align_content": null,
            "align_items": null,
            "align_self": null,
            "border": null,
            "bottom": null,
            "display": null,
            "flex": null,
            "flex_flow": null,
            "grid_area": null,
            "grid_auto_columns": null,
            "grid_auto_flow": null,
            "grid_auto_rows": null,
            "grid_column": null,
            "grid_gap": null,
            "grid_row": null,
            "grid_template_areas": null,
            "grid_template_columns": null,
            "grid_template_rows": null,
            "height": null,
            "justify_content": null,
            "justify_items": null,
            "left": null,
            "margin": null,
            "max_height": null,
            "max_width": null,
            "min_height": null,
            "min_width": null,
            "object_fit": null,
            "object_position": null,
            "order": null,
            "overflow": null,
            "overflow_x": null,
            "overflow_y": null,
            "padding": null,
            "right": null,
            "top": null,
            "visibility": null,
            "width": null
          }
        },
        "078dd6c62775416a88254646974e0bd4": {
          "model_module": "@jupyter-widgets/base",
          "model_name": "LayoutModel",
          "model_module_version": "1.2.0",
          "state": {
            "_model_module": "@jupyter-widgets/base",
            "_model_module_version": "1.2.0",
            "_model_name": "LayoutModel",
            "_view_count": null,
            "_view_module": "@jupyter-widgets/base",
            "_view_module_version": "1.2.0",
            "_view_name": "LayoutView",
            "align_content": null,
            "align_items": null,
            "align_self": null,
            "border": null,
            "bottom": null,
            "display": null,
            "flex": null,
            "flex_flow": null,
            "grid_area": null,
            "grid_auto_columns": null,
            "grid_auto_flow": null,
            "grid_auto_rows": null,
            "grid_column": null,
            "grid_gap": null,
            "grid_row": null,
            "grid_template_areas": null,
            "grid_template_columns": null,
            "grid_template_rows": null,
            "height": null,
            "justify_content": null,
            "justify_items": null,
            "left": null,
            "margin": null,
            "max_height": null,
            "max_width": null,
            "min_height": null,
            "min_width": null,
            "object_fit": null,
            "object_position": null,
            "order": null,
            "overflow": null,
            "overflow_x": null,
            "overflow_y": null,
            "padding": null,
            "right": null,
            "top": null,
            "visibility": null,
            "width": null
          }
        },
        "414de25c945a4b06a59b7c5444aa1e9c": {
          "model_module": "@jupyter-widgets/controls",
          "model_name": "DescriptionStyleModel",
          "model_module_version": "1.5.0",
          "state": {
            "_model_module": "@jupyter-widgets/controls",
            "_model_module_version": "1.5.0",
            "_model_name": "DescriptionStyleModel",
            "_view_count": null,
            "_view_module": "@jupyter-widgets/base",
            "_view_module_version": "1.2.0",
            "_view_name": "StyleView",
            "description_width": ""
          }
        },
        "e491cd1aab5548aa9a96f204a5dd124f": {
          "model_module": "@jupyter-widgets/base",
          "model_name": "LayoutModel",
          "model_module_version": "1.2.0",
          "state": {
            "_model_module": "@jupyter-widgets/base",
            "_model_module_version": "1.2.0",
            "_model_name": "LayoutModel",
            "_view_count": null,
            "_view_module": "@jupyter-widgets/base",
            "_view_module_version": "1.2.0",
            "_view_name": "LayoutView",
            "align_content": null,
            "align_items": null,
            "align_self": null,
            "border": null,
            "bottom": null,
            "display": null,
            "flex": null,
            "flex_flow": null,
            "grid_area": null,
            "grid_auto_columns": null,
            "grid_auto_flow": null,
            "grid_auto_rows": null,
            "grid_column": null,
            "grid_gap": null,
            "grid_row": null,
            "grid_template_areas": null,
            "grid_template_columns": null,
            "grid_template_rows": null,
            "height": null,
            "justify_content": null,
            "justify_items": null,
            "left": null,
            "margin": null,
            "max_height": null,
            "max_width": null,
            "min_height": null,
            "min_width": null,
            "object_fit": null,
            "object_position": null,
            "order": null,
            "overflow": null,
            "overflow_x": null,
            "overflow_y": null,
            "padding": null,
            "right": null,
            "top": null,
            "visibility": null,
            "width": null
          }
        },
        "2907514c6e9742419ed73dee2087381e": {
          "model_module": "@jupyter-widgets/controls",
          "model_name": "ProgressStyleModel",
          "model_module_version": "1.5.0",
          "state": {
            "_model_module": "@jupyter-widgets/controls",
            "_model_module_version": "1.5.0",
            "_model_name": "ProgressStyleModel",
            "_view_count": null,
            "_view_module": "@jupyter-widgets/base",
            "_view_module_version": "1.2.0",
            "_view_name": "StyleView",
            "bar_color": null,
            "description_width": ""
          }
        },
        "b4ff7fb5bc714299a49cf785318f32ea": {
          "model_module": "@jupyter-widgets/base",
          "model_name": "LayoutModel",
          "model_module_version": "1.2.0",
          "state": {
            "_model_module": "@jupyter-widgets/base",
            "_model_module_version": "1.2.0",
            "_model_name": "LayoutModel",
            "_view_count": null,
            "_view_module": "@jupyter-widgets/base",
            "_view_module_version": "1.2.0",
            "_view_name": "LayoutView",
            "align_content": null,
            "align_items": null,
            "align_self": null,
            "border": null,
            "bottom": null,
            "display": null,
            "flex": null,
            "flex_flow": null,
            "grid_area": null,
            "grid_auto_columns": null,
            "grid_auto_flow": null,
            "grid_auto_rows": null,
            "grid_column": null,
            "grid_gap": null,
            "grid_row": null,
            "grid_template_areas": null,
            "grid_template_columns": null,
            "grid_template_rows": null,
            "height": null,
            "justify_content": null,
            "justify_items": null,
            "left": null,
            "margin": null,
            "max_height": null,
            "max_width": null,
            "min_height": null,
            "min_width": null,
            "object_fit": null,
            "object_position": null,
            "order": null,
            "overflow": null,
            "overflow_x": null,
            "overflow_y": null,
            "padding": null,
            "right": null,
            "top": null,
            "visibility": null,
            "width": null
          }
        },
        "3d75f31dbc9943b88dc849c02898b79c": {
          "model_module": "@jupyter-widgets/controls",
          "model_name": "DescriptionStyleModel",
          "model_module_version": "1.5.0",
          "state": {
            "_model_module": "@jupyter-widgets/controls",
            "_model_module_version": "1.5.0",
            "_model_name": "DescriptionStyleModel",
            "_view_count": null,
            "_view_module": "@jupyter-widgets/base",
            "_view_module_version": "1.2.0",
            "_view_name": "StyleView",
            "description_width": ""
          }
        },
        "c11b3de003d0436dbc70c18389e0ac3a": {
          "model_module": "@jupyter-widgets/controls",
          "model_name": "HBoxModel",
          "model_module_version": "1.5.0",
          "state": {
            "_dom_classes": [],
            "_model_module": "@jupyter-widgets/controls",
            "_model_module_version": "1.5.0",
            "_model_name": "HBoxModel",
            "_view_count": null,
            "_view_module": "@jupyter-widgets/controls",
            "_view_module_version": "1.5.0",
            "_view_name": "HBoxView",
            "box_style": "",
            "children": [
              "IPY_MODEL_425a48254cb347bd865ca00dbac7d6ca",
              "IPY_MODEL_4adab72499cd4719b95a2cb3f177b73a",
              "IPY_MODEL_591c889595b54ce4a55ef0ddc9a0bb11"
            ],
            "layout": "IPY_MODEL_7d41480632f94a60b183e7a448241366"
          }
        },
        "425a48254cb347bd865ca00dbac7d6ca": {
          "model_module": "@jupyter-widgets/controls",
          "model_name": "HTMLModel",
          "model_module_version": "1.5.0",
          "state": {
            "_dom_classes": [],
            "_model_module": "@jupyter-widgets/controls",
            "_model_module_version": "1.5.0",
            "_model_name": "HTMLModel",
            "_view_count": null,
            "_view_module": "@jupyter-widgets/controls",
            "_view_module_version": "1.5.0",
            "_view_name": "HTMLView",
            "description": "",
            "description_tooltip": null,
            "layout": "IPY_MODEL_634b182dbfff459191de8a13cb98a3a0",
            "placeholder": "​",
            "style": "IPY_MODEL_442cb06c33cb425b89f99e0f615b736b",
            "value": "vocab.json: 100%"
          }
        },
        "4adab72499cd4719b95a2cb3f177b73a": {
          "model_module": "@jupyter-widgets/controls",
          "model_name": "FloatProgressModel",
          "model_module_version": "1.5.0",
          "state": {
            "_dom_classes": [],
            "_model_module": "@jupyter-widgets/controls",
            "_model_module_version": "1.5.0",
            "_model_name": "FloatProgressModel",
            "_view_count": null,
            "_view_module": "@jupyter-widgets/controls",
            "_view_module_version": "1.5.0",
            "_view_name": "ProgressView",
            "bar_style": "success",
            "description": "",
            "description_tooltip": null,
            "layout": "IPY_MODEL_abc5e59b4e384310aa233f889cb44d21",
            "max": 851290,
            "min": 0,
            "orientation": "horizontal",
            "style": "IPY_MODEL_d84f0c1e5e2e409f8f9618efd9671540",
            "value": 851290
          }
        },
        "591c889595b54ce4a55ef0ddc9a0bb11": {
          "model_module": "@jupyter-widgets/controls",
          "model_name": "HTMLModel",
          "model_module_version": "1.5.0",
          "state": {
            "_dom_classes": [],
            "_model_module": "@jupyter-widgets/controls",
            "_model_module_version": "1.5.0",
            "_model_name": "HTMLModel",
            "_view_count": null,
            "_view_module": "@jupyter-widgets/controls",
            "_view_module_version": "1.5.0",
            "_view_name": "HTMLView",
            "description": "",
            "description_tooltip": null,
            "layout": "IPY_MODEL_0e1c4c859e1d4af682665384713dc5db",
            "placeholder": "​",
            "style": "IPY_MODEL_8d834c116a624a8eb16a5889eee78399",
            "value": " 851k/851k [00:00&lt;00:00, 8.13MB/s]"
          }
        },
        "7d41480632f94a60b183e7a448241366": {
          "model_module": "@jupyter-widgets/base",
          "model_name": "LayoutModel",
          "model_module_version": "1.2.0",
          "state": {
            "_model_module": "@jupyter-widgets/base",
            "_model_module_version": "1.2.0",
            "_model_name": "LayoutModel",
            "_view_count": null,
            "_view_module": "@jupyter-widgets/base",
            "_view_module_version": "1.2.0",
            "_view_name": "LayoutView",
            "align_content": null,
            "align_items": null,
            "align_self": null,
            "border": null,
            "bottom": null,
            "display": null,
            "flex": null,
            "flex_flow": null,
            "grid_area": null,
            "grid_auto_columns": null,
            "grid_auto_flow": null,
            "grid_auto_rows": null,
            "grid_column": null,
            "grid_gap": null,
            "grid_row": null,
            "grid_template_areas": null,
            "grid_template_columns": null,
            "grid_template_rows": null,
            "height": null,
            "justify_content": null,
            "justify_items": null,
            "left": null,
            "margin": null,
            "max_height": null,
            "max_width": null,
            "min_height": null,
            "min_width": null,
            "object_fit": null,
            "object_position": null,
            "order": null,
            "overflow": null,
            "overflow_x": null,
            "overflow_y": null,
            "padding": null,
            "right": null,
            "top": null,
            "visibility": null,
            "width": null
          }
        },
        "634b182dbfff459191de8a13cb98a3a0": {
          "model_module": "@jupyter-widgets/base",
          "model_name": "LayoutModel",
          "model_module_version": "1.2.0",
          "state": {
            "_model_module": "@jupyter-widgets/base",
            "_model_module_version": "1.2.0",
            "_model_name": "LayoutModel",
            "_view_count": null,
            "_view_module": "@jupyter-widgets/base",
            "_view_module_version": "1.2.0",
            "_view_name": "LayoutView",
            "align_content": null,
            "align_items": null,
            "align_self": null,
            "border": null,
            "bottom": null,
            "display": null,
            "flex": null,
            "flex_flow": null,
            "grid_area": null,
            "grid_auto_columns": null,
            "grid_auto_flow": null,
            "grid_auto_rows": null,
            "grid_column": null,
            "grid_gap": null,
            "grid_row": null,
            "grid_template_areas": null,
            "grid_template_columns": null,
            "grid_template_rows": null,
            "height": null,
            "justify_content": null,
            "justify_items": null,
            "left": null,
            "margin": null,
            "max_height": null,
            "max_width": null,
            "min_height": null,
            "min_width": null,
            "object_fit": null,
            "object_position": null,
            "order": null,
            "overflow": null,
            "overflow_x": null,
            "overflow_y": null,
            "padding": null,
            "right": null,
            "top": null,
            "visibility": null,
            "width": null
          }
        },
        "442cb06c33cb425b89f99e0f615b736b": {
          "model_module": "@jupyter-widgets/controls",
          "model_name": "DescriptionStyleModel",
          "model_module_version": "1.5.0",
          "state": {
            "_model_module": "@jupyter-widgets/controls",
            "_model_module_version": "1.5.0",
            "_model_name": "DescriptionStyleModel",
            "_view_count": null,
            "_view_module": "@jupyter-widgets/base",
            "_view_module_version": "1.2.0",
            "_view_name": "StyleView",
            "description_width": ""
          }
        },
        "abc5e59b4e384310aa233f889cb44d21": {
          "model_module": "@jupyter-widgets/base",
          "model_name": "LayoutModel",
          "model_module_version": "1.2.0",
          "state": {
            "_model_module": "@jupyter-widgets/base",
            "_model_module_version": "1.2.0",
            "_model_name": "LayoutModel",
            "_view_count": null,
            "_view_module": "@jupyter-widgets/base",
            "_view_module_version": "1.2.0",
            "_view_name": "LayoutView",
            "align_content": null,
            "align_items": null,
            "align_self": null,
            "border": null,
            "bottom": null,
            "display": null,
            "flex": null,
            "flex_flow": null,
            "grid_area": null,
            "grid_auto_columns": null,
            "grid_auto_flow": null,
            "grid_auto_rows": null,
            "grid_column": null,
            "grid_gap": null,
            "grid_row": null,
            "grid_template_areas": null,
            "grid_template_columns": null,
            "grid_template_rows": null,
            "height": null,
            "justify_content": null,
            "justify_items": null,
            "left": null,
            "margin": null,
            "max_height": null,
            "max_width": null,
            "min_height": null,
            "min_width": null,
            "object_fit": null,
            "object_position": null,
            "order": null,
            "overflow": null,
            "overflow_x": null,
            "overflow_y": null,
            "padding": null,
            "right": null,
            "top": null,
            "visibility": null,
            "width": null
          }
        },
        "d84f0c1e5e2e409f8f9618efd9671540": {
          "model_module": "@jupyter-widgets/controls",
          "model_name": "ProgressStyleModel",
          "model_module_version": "1.5.0",
          "state": {
            "_model_module": "@jupyter-widgets/controls",
            "_model_module_version": "1.5.0",
            "_model_name": "ProgressStyleModel",
            "_view_count": null,
            "_view_module": "@jupyter-widgets/base",
            "_view_module_version": "1.2.0",
            "_view_name": "StyleView",
            "bar_color": null,
            "description_width": ""
          }
        },
        "0e1c4c859e1d4af682665384713dc5db": {
          "model_module": "@jupyter-widgets/base",
          "model_name": "LayoutModel",
          "model_module_version": "1.2.0",
          "state": {
            "_model_module": "@jupyter-widgets/base",
            "_model_module_version": "1.2.0",
            "_model_name": "LayoutModel",
            "_view_count": null,
            "_view_module": "@jupyter-widgets/base",
            "_view_module_version": "1.2.0",
            "_view_name": "LayoutView",
            "align_content": null,
            "align_items": null,
            "align_self": null,
            "border": null,
            "bottom": null,
            "display": null,
            "flex": null,
            "flex_flow": null,
            "grid_area": null,
            "grid_auto_columns": null,
            "grid_auto_flow": null,
            "grid_auto_rows": null,
            "grid_column": null,
            "grid_gap": null,
            "grid_row": null,
            "grid_template_areas": null,
            "grid_template_columns": null,
            "grid_template_rows": null,
            "height": null,
            "justify_content": null,
            "justify_items": null,
            "left": null,
            "margin": null,
            "max_height": null,
            "max_width": null,
            "min_height": null,
            "min_width": null,
            "object_fit": null,
            "object_position": null,
            "order": null,
            "overflow": null,
            "overflow_x": null,
            "overflow_y": null,
            "padding": null,
            "right": null,
            "top": null,
            "visibility": null,
            "width": null
          }
        },
        "8d834c116a624a8eb16a5889eee78399": {
          "model_module": "@jupyter-widgets/controls",
          "model_name": "DescriptionStyleModel",
          "model_module_version": "1.5.0",
          "state": {
            "_model_module": "@jupyter-widgets/controls",
            "_model_module_version": "1.5.0",
            "_model_name": "DescriptionStyleModel",
            "_view_count": null,
            "_view_module": "@jupyter-widgets/base",
            "_view_module_version": "1.2.0",
            "_view_name": "StyleView",
            "description_width": ""
          }
        },
        "516dd864d5a2429a98f4b9848fd15336": {
          "model_module": "@jupyter-widgets/controls",
          "model_name": "HBoxModel",
          "model_module_version": "1.5.0",
          "state": {
            "_dom_classes": [],
            "_model_module": "@jupyter-widgets/controls",
            "_model_module_version": "1.5.0",
            "_model_name": "HBoxModel",
            "_view_count": null,
            "_view_module": "@jupyter-widgets/controls",
            "_view_module_version": "1.5.0",
            "_view_name": "HBoxView",
            "box_style": "",
            "children": [
              "IPY_MODEL_394c6f6ca308476ebae9cb209a115a8e",
              "IPY_MODEL_dfdff3326fef47faae51e73ca15ff48a",
              "IPY_MODEL_4863d8ef60db4027bd6abf5b4ff36e0d"
            ],
            "layout": "IPY_MODEL_1bdc2f3be5db4339a495f7b11bf51fcd"
          }
        },
        "394c6f6ca308476ebae9cb209a115a8e": {
          "model_module": "@jupyter-widgets/controls",
          "model_name": "HTMLModel",
          "model_module_version": "1.5.0",
          "state": {
            "_dom_classes": [],
            "_model_module": "@jupyter-widgets/controls",
            "_model_module_version": "1.5.0",
            "_model_name": "HTMLModel",
            "_view_count": null,
            "_view_module": "@jupyter-widgets/controls",
            "_view_module_version": "1.5.0",
            "_view_name": "HTMLView",
            "description": "",
            "description_tooltip": null,
            "layout": "IPY_MODEL_4e2da504561b4b67a1a06b3dc475059d",
            "placeholder": "​",
            "style": "IPY_MODEL_21c7b52da1a642a7a5583c8cc550a8be",
            "value": "merges.txt: 100%"
          }
        },
        "dfdff3326fef47faae51e73ca15ff48a": {
          "model_module": "@jupyter-widgets/controls",
          "model_name": "FloatProgressModel",
          "model_module_version": "1.5.0",
          "state": {
            "_dom_classes": [],
            "_model_module": "@jupyter-widgets/controls",
            "_model_module_version": "1.5.0",
            "_model_name": "FloatProgressModel",
            "_view_count": null,
            "_view_module": "@jupyter-widgets/controls",
            "_view_module_version": "1.5.0",
            "_view_name": "ProgressView",
            "bar_style": "success",
            "description": "",
            "description_tooltip": null,
            "layout": "IPY_MODEL_86d9eae9a5bd4d758294629aab0c0f05",
            "max": 508942,
            "min": 0,
            "orientation": "horizontal",
            "style": "IPY_MODEL_f403fe79eb0149dc96ac99e9108e8d8a",
            "value": 508942
          }
        },
        "4863d8ef60db4027bd6abf5b4ff36e0d": {
          "model_module": "@jupyter-widgets/controls",
          "model_name": "HTMLModel",
          "model_module_version": "1.5.0",
          "state": {
            "_dom_classes": [],
            "_model_module": "@jupyter-widgets/controls",
            "_model_module_version": "1.5.0",
            "_model_name": "HTMLModel",
            "_view_count": null,
            "_view_module": "@jupyter-widgets/controls",
            "_view_module_version": "1.5.0",
            "_view_name": "HTMLView",
            "description": "",
            "description_tooltip": null,
            "layout": "IPY_MODEL_9be46e9f68f94f298c58c95acd2d20cf",
            "placeholder": "​",
            "style": "IPY_MODEL_0cf693b18ce04f87b44447ebbcd3d4c0",
            "value": " 509k/509k [00:00&lt;00:00, 6.45MB/s]"
          }
        },
        "1bdc2f3be5db4339a495f7b11bf51fcd": {
          "model_module": "@jupyter-widgets/base",
          "model_name": "LayoutModel",
          "model_module_version": "1.2.0",
          "state": {
            "_model_module": "@jupyter-widgets/base",
            "_model_module_version": "1.2.0",
            "_model_name": "LayoutModel",
            "_view_count": null,
            "_view_module": "@jupyter-widgets/base",
            "_view_module_version": "1.2.0",
            "_view_name": "LayoutView",
            "align_content": null,
            "align_items": null,
            "align_self": null,
            "border": null,
            "bottom": null,
            "display": null,
            "flex": null,
            "flex_flow": null,
            "grid_area": null,
            "grid_auto_columns": null,
            "grid_auto_flow": null,
            "grid_auto_rows": null,
            "grid_column": null,
            "grid_gap": null,
            "grid_row": null,
            "grid_template_areas": null,
            "grid_template_columns": null,
            "grid_template_rows": null,
            "height": null,
            "justify_content": null,
            "justify_items": null,
            "left": null,
            "margin": null,
            "max_height": null,
            "max_width": null,
            "min_height": null,
            "min_width": null,
            "object_fit": null,
            "object_position": null,
            "order": null,
            "overflow": null,
            "overflow_x": null,
            "overflow_y": null,
            "padding": null,
            "right": null,
            "top": null,
            "visibility": null,
            "width": null
          }
        },
        "4e2da504561b4b67a1a06b3dc475059d": {
          "model_module": "@jupyter-widgets/base",
          "model_name": "LayoutModel",
          "model_module_version": "1.2.0",
          "state": {
            "_model_module": "@jupyter-widgets/base",
            "_model_module_version": "1.2.0",
            "_model_name": "LayoutModel",
            "_view_count": null,
            "_view_module": "@jupyter-widgets/base",
            "_view_module_version": "1.2.0",
            "_view_name": "LayoutView",
            "align_content": null,
            "align_items": null,
            "align_self": null,
            "border": null,
            "bottom": null,
            "display": null,
            "flex": null,
            "flex_flow": null,
            "grid_area": null,
            "grid_auto_columns": null,
            "grid_auto_flow": null,
            "grid_auto_rows": null,
            "grid_column": null,
            "grid_gap": null,
            "grid_row": null,
            "grid_template_areas": null,
            "grid_template_columns": null,
            "grid_template_rows": null,
            "height": null,
            "justify_content": null,
            "justify_items": null,
            "left": null,
            "margin": null,
            "max_height": null,
            "max_width": null,
            "min_height": null,
            "min_width": null,
            "object_fit": null,
            "object_position": null,
            "order": null,
            "overflow": null,
            "overflow_x": null,
            "overflow_y": null,
            "padding": null,
            "right": null,
            "top": null,
            "visibility": null,
            "width": null
          }
        },
        "21c7b52da1a642a7a5583c8cc550a8be": {
          "model_module": "@jupyter-widgets/controls",
          "model_name": "DescriptionStyleModel",
          "model_module_version": "1.5.0",
          "state": {
            "_model_module": "@jupyter-widgets/controls",
            "_model_module_version": "1.5.0",
            "_model_name": "DescriptionStyleModel",
            "_view_count": null,
            "_view_module": "@jupyter-widgets/base",
            "_view_module_version": "1.2.0",
            "_view_name": "StyleView",
            "description_width": ""
          }
        },
        "86d9eae9a5bd4d758294629aab0c0f05": {
          "model_module": "@jupyter-widgets/base",
          "model_name": "LayoutModel",
          "model_module_version": "1.2.0",
          "state": {
            "_model_module": "@jupyter-widgets/base",
            "_model_module_version": "1.2.0",
            "_model_name": "LayoutModel",
            "_view_count": null,
            "_view_module": "@jupyter-widgets/base",
            "_view_module_version": "1.2.0",
            "_view_name": "LayoutView",
            "align_content": null,
            "align_items": null,
            "align_self": null,
            "border": null,
            "bottom": null,
            "display": null,
            "flex": null,
            "flex_flow": null,
            "grid_area": null,
            "grid_auto_columns": null,
            "grid_auto_flow": null,
            "grid_auto_rows": null,
            "grid_column": null,
            "grid_gap": null,
            "grid_row": null,
            "grid_template_areas": null,
            "grid_template_columns": null,
            "grid_template_rows": null,
            "height": null,
            "justify_content": null,
            "justify_items": null,
            "left": null,
            "margin": null,
            "max_height": null,
            "max_width": null,
            "min_height": null,
            "min_width": null,
            "object_fit": null,
            "object_position": null,
            "order": null,
            "overflow": null,
            "overflow_x": null,
            "overflow_y": null,
            "padding": null,
            "right": null,
            "top": null,
            "visibility": null,
            "width": null
          }
        },
        "f403fe79eb0149dc96ac99e9108e8d8a": {
          "model_module": "@jupyter-widgets/controls",
          "model_name": "ProgressStyleModel",
          "model_module_version": "1.5.0",
          "state": {
            "_model_module": "@jupyter-widgets/controls",
            "_model_module_version": "1.5.0",
            "_model_name": "ProgressStyleModel",
            "_view_count": null,
            "_view_module": "@jupyter-widgets/base",
            "_view_module_version": "1.2.0",
            "_view_name": "StyleView",
            "bar_color": null,
            "description_width": ""
          }
        },
        "9be46e9f68f94f298c58c95acd2d20cf": {
          "model_module": "@jupyter-widgets/base",
          "model_name": "LayoutModel",
          "model_module_version": "1.2.0",
          "state": {
            "_model_module": "@jupyter-widgets/base",
            "_model_module_version": "1.2.0",
            "_model_name": "LayoutModel",
            "_view_count": null,
            "_view_module": "@jupyter-widgets/base",
            "_view_module_version": "1.2.0",
            "_view_name": "LayoutView",
            "align_content": null,
            "align_items": null,
            "align_self": null,
            "border": null,
            "bottom": null,
            "display": null,
            "flex": null,
            "flex_flow": null,
            "grid_area": null,
            "grid_auto_columns": null,
            "grid_auto_flow": null,
            "grid_auto_rows": null,
            "grid_column": null,
            "grid_gap": null,
            "grid_row": null,
            "grid_template_areas": null,
            "grid_template_columns": null,
            "grid_template_rows": null,
            "height": null,
            "justify_content": null,
            "justify_items": null,
            "left": null,
            "margin": null,
            "max_height": null,
            "max_width": null,
            "min_height": null,
            "min_width": null,
            "object_fit": null,
            "object_position": null,
            "order": null,
            "overflow": null,
            "overflow_x": null,
            "overflow_y": null,
            "padding": null,
            "right": null,
            "top": null,
            "visibility": null,
            "width": null
          }
        },
        "0cf693b18ce04f87b44447ebbcd3d4c0": {
          "model_module": "@jupyter-widgets/controls",
          "model_name": "DescriptionStyleModel",
          "model_module_version": "1.5.0",
          "state": {
            "_model_module": "@jupyter-widgets/controls",
            "_model_module_version": "1.5.0",
            "_model_name": "DescriptionStyleModel",
            "_view_count": null,
            "_view_module": "@jupyter-widgets/base",
            "_view_module_version": "1.2.0",
            "_view_name": "StyleView",
            "description_width": ""
          }
        },
        "c060862894754b6fa83fd7131cb4505e": {
          "model_module": "@jupyter-widgets/controls",
          "model_name": "HBoxModel",
          "model_module_version": "1.5.0",
          "state": {
            "_dom_classes": [],
            "_model_module": "@jupyter-widgets/controls",
            "_model_module_version": "1.5.0",
            "_model_name": "HBoxModel",
            "_view_count": null,
            "_view_module": "@jupyter-widgets/controls",
            "_view_module_version": "1.5.0",
            "_view_name": "HBoxView",
            "box_style": "",
            "children": [
              "IPY_MODEL_f2c156e5c1b843c8ac147cc3b0919317",
              "IPY_MODEL_b397fae00bbb48bd93d47fda4245e3f6",
              "IPY_MODEL_0166262a7e574139a50e294072547cc8"
            ],
            "layout": "IPY_MODEL_e441acc1b92f4fc09da37af9b219968a"
          }
        },
        "f2c156e5c1b843c8ac147cc3b0919317": {
          "model_module": "@jupyter-widgets/controls",
          "model_name": "HTMLModel",
          "model_module_version": "1.5.0",
          "state": {
            "_dom_classes": [],
            "_model_module": "@jupyter-widgets/controls",
            "_model_module_version": "1.5.0",
            "_model_name": "HTMLModel",
            "_view_count": null,
            "_view_module": "@jupyter-widgets/controls",
            "_view_module_version": "1.5.0",
            "_view_name": "HTMLView",
            "description": "",
            "description_tooltip": null,
            "layout": "IPY_MODEL_bbcb1624a2434d24a2a6ba3fa3b3e3cd",
            "placeholder": "​",
            "style": "IPY_MODEL_a2db590977ad4539bbdca98348c1f37f",
            "value": "tokenizer.json: 100%"
          }
        },
        "b397fae00bbb48bd93d47fda4245e3f6": {
          "model_module": "@jupyter-widgets/controls",
          "model_name": "FloatProgressModel",
          "model_module_version": "1.5.0",
          "state": {
            "_dom_classes": [],
            "_model_module": "@jupyter-widgets/controls",
            "_model_module_version": "1.5.0",
            "_model_name": "FloatProgressModel",
            "_view_count": null,
            "_view_module": "@jupyter-widgets/controls",
            "_view_module_version": "1.5.0",
            "_view_name": "ProgressView",
            "bar_style": "success",
            "description": "",
            "description_tooltip": null,
            "layout": "IPY_MODEL_59c04d820dfd42beb2ff70ad9ca9e868",
            "max": 2213555,
            "min": 0,
            "orientation": "horizontal",
            "style": "IPY_MODEL_5e36e0d0f5714366a2ce606971282b81",
            "value": 2213555
          }
        },
        "0166262a7e574139a50e294072547cc8": {
          "model_module": "@jupyter-widgets/controls",
          "model_name": "HTMLModel",
          "model_module_version": "1.5.0",
          "state": {
            "_dom_classes": [],
            "_model_module": "@jupyter-widgets/controls",
            "_model_module_version": "1.5.0",
            "_model_name": "HTMLModel",
            "_view_count": null,
            "_view_module": "@jupyter-widgets/controls",
            "_view_module_version": "1.5.0",
            "_view_name": "HTMLView",
            "description": "",
            "description_tooltip": null,
            "layout": "IPY_MODEL_afe7105686bc408581d0d6de5a7c9b26",
            "placeholder": "​",
            "style": "IPY_MODEL_5e3f12bf55884738920dce63561b8688",
            "value": " 2.21M/2.21M [00:00&lt;00:00, 9.96MB/s]"
          }
        },
        "e441acc1b92f4fc09da37af9b219968a": {
          "model_module": "@jupyter-widgets/base",
          "model_name": "LayoutModel",
          "model_module_version": "1.2.0",
          "state": {
            "_model_module": "@jupyter-widgets/base",
            "_model_module_version": "1.2.0",
            "_model_name": "LayoutModel",
            "_view_count": null,
            "_view_module": "@jupyter-widgets/base",
            "_view_module_version": "1.2.0",
            "_view_name": "LayoutView",
            "align_content": null,
            "align_items": null,
            "align_self": null,
            "border": null,
            "bottom": null,
            "display": null,
            "flex": null,
            "flex_flow": null,
            "grid_area": null,
            "grid_auto_columns": null,
            "grid_auto_flow": null,
            "grid_auto_rows": null,
            "grid_column": null,
            "grid_gap": null,
            "grid_row": null,
            "grid_template_areas": null,
            "grid_template_columns": null,
            "grid_template_rows": null,
            "height": null,
            "justify_content": null,
            "justify_items": null,
            "left": null,
            "margin": null,
            "max_height": null,
            "max_width": null,
            "min_height": null,
            "min_width": null,
            "object_fit": null,
            "object_position": null,
            "order": null,
            "overflow": null,
            "overflow_x": null,
            "overflow_y": null,
            "padding": null,
            "right": null,
            "top": null,
            "visibility": null,
            "width": null
          }
        },
        "bbcb1624a2434d24a2a6ba3fa3b3e3cd": {
          "model_module": "@jupyter-widgets/base",
          "model_name": "LayoutModel",
          "model_module_version": "1.2.0",
          "state": {
            "_model_module": "@jupyter-widgets/base",
            "_model_module_version": "1.2.0",
            "_model_name": "LayoutModel",
            "_view_count": null,
            "_view_module": "@jupyter-widgets/base",
            "_view_module_version": "1.2.0",
            "_view_name": "LayoutView",
            "align_content": null,
            "align_items": null,
            "align_self": null,
            "border": null,
            "bottom": null,
            "display": null,
            "flex": null,
            "flex_flow": null,
            "grid_area": null,
            "grid_auto_columns": null,
            "grid_auto_flow": null,
            "grid_auto_rows": null,
            "grid_column": null,
            "grid_gap": null,
            "grid_row": null,
            "grid_template_areas": null,
            "grid_template_columns": null,
            "grid_template_rows": null,
            "height": null,
            "justify_content": null,
            "justify_items": null,
            "left": null,
            "margin": null,
            "max_height": null,
            "max_width": null,
            "min_height": null,
            "min_width": null,
            "object_fit": null,
            "object_position": null,
            "order": null,
            "overflow": null,
            "overflow_x": null,
            "overflow_y": null,
            "padding": null,
            "right": null,
            "top": null,
            "visibility": null,
            "width": null
          }
        },
        "a2db590977ad4539bbdca98348c1f37f": {
          "model_module": "@jupyter-widgets/controls",
          "model_name": "DescriptionStyleModel",
          "model_module_version": "1.5.0",
          "state": {
            "_model_module": "@jupyter-widgets/controls",
            "_model_module_version": "1.5.0",
            "_model_name": "DescriptionStyleModel",
            "_view_count": null,
            "_view_module": "@jupyter-widgets/base",
            "_view_module_version": "1.2.0",
            "_view_name": "StyleView",
            "description_width": ""
          }
        },
        "59c04d820dfd42beb2ff70ad9ca9e868": {
          "model_module": "@jupyter-widgets/base",
          "model_name": "LayoutModel",
          "model_module_version": "1.2.0",
          "state": {
            "_model_module": "@jupyter-widgets/base",
            "_model_module_version": "1.2.0",
            "_model_name": "LayoutModel",
            "_view_count": null,
            "_view_module": "@jupyter-widgets/base",
            "_view_module_version": "1.2.0",
            "_view_name": "LayoutView",
            "align_content": null,
            "align_items": null,
            "align_self": null,
            "border": null,
            "bottom": null,
            "display": null,
            "flex": null,
            "flex_flow": null,
            "grid_area": null,
            "grid_auto_columns": null,
            "grid_auto_flow": null,
            "grid_auto_rows": null,
            "grid_column": null,
            "grid_gap": null,
            "grid_row": null,
            "grid_template_areas": null,
            "grid_template_columns": null,
            "grid_template_rows": null,
            "height": null,
            "justify_content": null,
            "justify_items": null,
            "left": null,
            "margin": null,
            "max_height": null,
            "max_width": null,
            "min_height": null,
            "min_width": null,
            "object_fit": null,
            "object_position": null,
            "order": null,
            "overflow": null,
            "overflow_x": null,
            "overflow_y": null,
            "padding": null,
            "right": null,
            "top": null,
            "visibility": null,
            "width": null
          }
        },
        "5e36e0d0f5714366a2ce606971282b81": {
          "model_module": "@jupyter-widgets/controls",
          "model_name": "ProgressStyleModel",
          "model_module_version": "1.5.0",
          "state": {
            "_model_module": "@jupyter-widgets/controls",
            "_model_module_version": "1.5.0",
            "_model_name": "ProgressStyleModel",
            "_view_count": null,
            "_view_module": "@jupyter-widgets/base",
            "_view_module_version": "1.2.0",
            "_view_name": "StyleView",
            "bar_color": null,
            "description_width": ""
          }
        },
        "afe7105686bc408581d0d6de5a7c9b26": {
          "model_module": "@jupyter-widgets/base",
          "model_name": "LayoutModel",
          "model_module_version": "1.2.0",
          "state": {
            "_model_module": "@jupyter-widgets/base",
            "_model_module_version": "1.2.0",
            "_model_name": "LayoutModel",
            "_view_count": null,
            "_view_module": "@jupyter-widgets/base",
            "_view_module_version": "1.2.0",
            "_view_name": "LayoutView",
            "align_content": null,
            "align_items": null,
            "align_self": null,
            "border": null,
            "bottom": null,
            "display": null,
            "flex": null,
            "flex_flow": null,
            "grid_area": null,
            "grid_auto_columns": null,
            "grid_auto_flow": null,
            "grid_auto_rows": null,
            "grid_column": null,
            "grid_gap": null,
            "grid_row": null,
            "grid_template_areas": null,
            "grid_template_columns": null,
            "grid_template_rows": null,
            "height": null,
            "justify_content": null,
            "justify_items": null,
            "left": null,
            "margin": null,
            "max_height": null,
            "max_width": null,
            "min_height": null,
            "min_width": null,
            "object_fit": null,
            "object_position": null,
            "order": null,
            "overflow": null,
            "overflow_x": null,
            "overflow_y": null,
            "padding": null,
            "right": null,
            "top": null,
            "visibility": null,
            "width": null
          }
        },
        "5e3f12bf55884738920dce63561b8688": {
          "model_module": "@jupyter-widgets/controls",
          "model_name": "DescriptionStyleModel",
          "model_module_version": "1.5.0",
          "state": {
            "_model_module": "@jupyter-widgets/controls",
            "_model_module_version": "1.5.0",
            "_model_name": "DescriptionStyleModel",
            "_view_count": null,
            "_view_module": "@jupyter-widgets/base",
            "_view_module_version": "1.2.0",
            "_view_name": "StyleView",
            "description_width": ""
          }
        },
        "e869d40faeb94367a86f3b24f330ee2e": {
          "model_module": "@jupyter-widgets/controls",
          "model_name": "HBoxModel",
          "model_module_version": "1.5.0",
          "state": {
            "_dom_classes": [],
            "_model_module": "@jupyter-widgets/controls",
            "_model_module_version": "1.5.0",
            "_model_name": "HBoxModel",
            "_view_count": null,
            "_view_module": "@jupyter-widgets/controls",
            "_view_module_version": "1.5.0",
            "_view_name": "HBoxView",
            "box_style": "",
            "children": [
              "IPY_MODEL_d6fdaf50d9a74c009d7b82e5ceac528f",
              "IPY_MODEL_a6269288fc3e4cab9d033527ce58c0dd",
              "IPY_MODEL_30e4e1d0f01445398163885e9bed3855"
            ],
            "layout": "IPY_MODEL_ab1c2d70ccbe40698b11a410c7024d38"
          }
        },
        "d6fdaf50d9a74c009d7b82e5ceac528f": {
          "model_module": "@jupyter-widgets/controls",
          "model_name": "HTMLModel",
          "model_module_version": "1.5.0",
          "state": {
            "_dom_classes": [],
            "_model_module": "@jupyter-widgets/controls",
            "_model_module_version": "1.5.0",
            "_model_name": "HTMLModel",
            "_view_count": null,
            "_view_module": "@jupyter-widgets/controls",
            "_view_module_version": "1.5.0",
            "_view_name": "HTMLView",
            "description": "",
            "description_tooltip": null,
            "layout": "IPY_MODEL_e04e5dcfd1fd4a328ad86c7ac3f3ee49",
            "placeholder": "​",
            "style": "IPY_MODEL_7ebc4edf970e4035aad5bb65aba1796a",
            "value": "special_tokens_map.json: 100%"
          }
        },
        "a6269288fc3e4cab9d033527ce58c0dd": {
          "model_module": "@jupyter-widgets/controls",
          "model_name": "FloatProgressModel",
          "model_module_version": "1.5.0",
          "state": {
            "_dom_classes": [],
            "_model_module": "@jupyter-widgets/controls",
            "_model_module_version": "1.5.0",
            "_model_name": "FloatProgressModel",
            "_view_count": null,
            "_view_module": "@jupyter-widgets/controls",
            "_view_module_version": "1.5.0",
            "_view_name": "ProgressView",
            "bar_style": "success",
            "description": "",
            "description_tooltip": null,
            "layout": "IPY_MODEL_111db38e298d402c997eb21f5e6765d2",
            "max": 957,
            "min": 0,
            "orientation": "horizontal",
            "style": "IPY_MODEL_64b726ccc7dd420fa89841c6baf74284",
            "value": 957
          }
        },
        "30e4e1d0f01445398163885e9bed3855": {
          "model_module": "@jupyter-widgets/controls",
          "model_name": "HTMLModel",
          "model_module_version": "1.5.0",
          "state": {
            "_dom_classes": [],
            "_model_module": "@jupyter-widgets/controls",
            "_model_module_version": "1.5.0",
            "_model_name": "HTMLModel",
            "_view_count": null,
            "_view_module": "@jupyter-widgets/controls",
            "_view_module_version": "1.5.0",
            "_view_name": "HTMLView",
            "description": "",
            "description_tooltip": null,
            "layout": "IPY_MODEL_e3d610b1237345afba9fd1ec33a978ee",
            "placeholder": "​",
            "style": "IPY_MODEL_5e588dd46084421ea7488d6d89493714",
            "value": " 957/957 [00:00&lt;00:00, 91.9kB/s]"
          }
        },
        "ab1c2d70ccbe40698b11a410c7024d38": {
          "model_module": "@jupyter-widgets/base",
          "model_name": "LayoutModel",
          "model_module_version": "1.2.0",
          "state": {
            "_model_module": "@jupyter-widgets/base",
            "_model_module_version": "1.2.0",
            "_model_name": "LayoutModel",
            "_view_count": null,
            "_view_module": "@jupyter-widgets/base",
            "_view_module_version": "1.2.0",
            "_view_name": "LayoutView",
            "align_content": null,
            "align_items": null,
            "align_self": null,
            "border": null,
            "bottom": null,
            "display": null,
            "flex": null,
            "flex_flow": null,
            "grid_area": null,
            "grid_auto_columns": null,
            "grid_auto_flow": null,
            "grid_auto_rows": null,
            "grid_column": null,
            "grid_gap": null,
            "grid_row": null,
            "grid_template_areas": null,
            "grid_template_columns": null,
            "grid_template_rows": null,
            "height": null,
            "justify_content": null,
            "justify_items": null,
            "left": null,
            "margin": null,
            "max_height": null,
            "max_width": null,
            "min_height": null,
            "min_width": null,
            "object_fit": null,
            "object_position": null,
            "order": null,
            "overflow": null,
            "overflow_x": null,
            "overflow_y": null,
            "padding": null,
            "right": null,
            "top": null,
            "visibility": null,
            "width": null
          }
        },
        "e04e5dcfd1fd4a328ad86c7ac3f3ee49": {
          "model_module": "@jupyter-widgets/base",
          "model_name": "LayoutModel",
          "model_module_version": "1.2.0",
          "state": {
            "_model_module": "@jupyter-widgets/base",
            "_model_module_version": "1.2.0",
            "_model_name": "LayoutModel",
            "_view_count": null,
            "_view_module": "@jupyter-widgets/base",
            "_view_module_version": "1.2.0",
            "_view_name": "LayoutView",
            "align_content": null,
            "align_items": null,
            "align_self": null,
            "border": null,
            "bottom": null,
            "display": null,
            "flex": null,
            "flex_flow": null,
            "grid_area": null,
            "grid_auto_columns": null,
            "grid_auto_flow": null,
            "grid_auto_rows": null,
            "grid_column": null,
            "grid_gap": null,
            "grid_row": null,
            "grid_template_areas": null,
            "grid_template_columns": null,
            "grid_template_rows": null,
            "height": null,
            "justify_content": null,
            "justify_items": null,
            "left": null,
            "margin": null,
            "max_height": null,
            "max_width": null,
            "min_height": null,
            "min_width": null,
            "object_fit": null,
            "object_position": null,
            "order": null,
            "overflow": null,
            "overflow_x": null,
            "overflow_y": null,
            "padding": null,
            "right": null,
            "top": null,
            "visibility": null,
            "width": null
          }
        },
        "7ebc4edf970e4035aad5bb65aba1796a": {
          "model_module": "@jupyter-widgets/controls",
          "model_name": "DescriptionStyleModel",
          "model_module_version": "1.5.0",
          "state": {
            "_model_module": "@jupyter-widgets/controls",
            "_model_module_version": "1.5.0",
            "_model_name": "DescriptionStyleModel",
            "_view_count": null,
            "_view_module": "@jupyter-widgets/base",
            "_view_module_version": "1.2.0",
            "_view_name": "StyleView",
            "description_width": ""
          }
        },
        "111db38e298d402c997eb21f5e6765d2": {
          "model_module": "@jupyter-widgets/base",
          "model_name": "LayoutModel",
          "model_module_version": "1.2.0",
          "state": {
            "_model_module": "@jupyter-widgets/base",
            "_model_module_version": "1.2.0",
            "_model_name": "LayoutModel",
            "_view_count": null,
            "_view_module": "@jupyter-widgets/base",
            "_view_module_version": "1.2.0",
            "_view_name": "LayoutView",
            "align_content": null,
            "align_items": null,
            "align_self": null,
            "border": null,
            "bottom": null,
            "display": null,
            "flex": null,
            "flex_flow": null,
            "grid_area": null,
            "grid_auto_columns": null,
            "grid_auto_flow": null,
            "grid_auto_rows": null,
            "grid_column": null,
            "grid_gap": null,
            "grid_row": null,
            "grid_template_areas": null,
            "grid_template_columns": null,
            "grid_template_rows": null,
            "height": null,
            "justify_content": null,
            "justify_items": null,
            "left": null,
            "margin": null,
            "max_height": null,
            "max_width": null,
            "min_height": null,
            "min_width": null,
            "object_fit": null,
            "object_position": null,
            "order": null,
            "overflow": null,
            "overflow_x": null,
            "overflow_y": null,
            "padding": null,
            "right": null,
            "top": null,
            "visibility": null,
            "width": null
          }
        },
        "64b726ccc7dd420fa89841c6baf74284": {
          "model_module": "@jupyter-widgets/controls",
          "model_name": "ProgressStyleModel",
          "model_module_version": "1.5.0",
          "state": {
            "_model_module": "@jupyter-widgets/controls",
            "_model_module_version": "1.5.0",
            "_model_name": "ProgressStyleModel",
            "_view_count": null,
            "_view_module": "@jupyter-widgets/base",
            "_view_module_version": "1.2.0",
            "_view_name": "StyleView",
            "bar_color": null,
            "description_width": ""
          }
        },
        "e3d610b1237345afba9fd1ec33a978ee": {
          "model_module": "@jupyter-widgets/base",
          "model_name": "LayoutModel",
          "model_module_version": "1.2.0",
          "state": {
            "_model_module": "@jupyter-widgets/base",
            "_model_module_version": "1.2.0",
            "_model_name": "LayoutModel",
            "_view_count": null,
            "_view_module": "@jupyter-widgets/base",
            "_view_module_version": "1.2.0",
            "_view_name": "LayoutView",
            "align_content": null,
            "align_items": null,
            "align_self": null,
            "border": null,
            "bottom": null,
            "display": null,
            "flex": null,
            "flex_flow": null,
            "grid_area": null,
            "grid_auto_columns": null,
            "grid_auto_flow": null,
            "grid_auto_rows": null,
            "grid_column": null,
            "grid_gap": null,
            "grid_row": null,
            "grid_template_areas": null,
            "grid_template_columns": null,
            "grid_template_rows": null,
            "height": null,
            "justify_content": null,
            "justify_items": null,
            "left": null,
            "margin": null,
            "max_height": null,
            "max_width": null,
            "min_height": null,
            "min_width": null,
            "object_fit": null,
            "object_position": null,
            "order": null,
            "overflow": null,
            "overflow_x": null,
            "overflow_y": null,
            "padding": null,
            "right": null,
            "top": null,
            "visibility": null,
            "width": null
          }
        },
        "5e588dd46084421ea7488d6d89493714": {
          "model_module": "@jupyter-widgets/controls",
          "model_name": "DescriptionStyleModel",
          "model_module_version": "1.5.0",
          "state": {
            "_model_module": "@jupyter-widgets/controls",
            "_model_module_version": "1.5.0",
            "_model_name": "DescriptionStyleModel",
            "_view_count": null,
            "_view_module": "@jupyter-widgets/base",
            "_view_module_version": "1.2.0",
            "_view_name": "StyleView",
            "description_width": ""
          }
        },
        "da0dead4c4974670aec35c38090d9797": {
          "model_module": "@jupyter-widgets/controls",
          "model_name": "HBoxModel",
          "model_module_version": "1.5.0",
          "state": {
            "_dom_classes": [],
            "_model_module": "@jupyter-widgets/controls",
            "_model_module_version": "1.5.0",
            "_model_name": "HBoxModel",
            "_view_count": null,
            "_view_module": "@jupyter-widgets/controls",
            "_view_module_version": "1.5.0",
            "_view_name": "HBoxView",
            "box_style": "",
            "children": [
              "IPY_MODEL_14e99f6952074153a150f4bc8e0fb111",
              "IPY_MODEL_565b389b489445c9b90ea136af070510",
              "IPY_MODEL_4329f58cfc28486db6ffd922534642bd"
            ],
            "layout": "IPY_MODEL_e58abf7f7de5443ca478eec9ce3e5e0d"
          }
        },
        "14e99f6952074153a150f4bc8e0fb111": {
          "model_module": "@jupyter-widgets/controls",
          "model_name": "HTMLModel",
          "model_module_version": "1.5.0",
          "state": {
            "_dom_classes": [],
            "_model_module": "@jupyter-widgets/controls",
            "_model_module_version": "1.5.0",
            "_model_name": "HTMLModel",
            "_view_count": null,
            "_view_module": "@jupyter-widgets/controls",
            "_view_module_version": "1.5.0",
            "_view_name": "HTMLView",
            "description": "",
            "description_tooltip": null,
            "layout": "IPY_MODEL_93027bf3636f433590f7825f6e3769e4",
            "placeholder": "​",
            "style": "IPY_MODEL_4d1a2695a9e54f698509729f9827c0fa",
            "value": "Map: 100%"
          }
        },
        "565b389b489445c9b90ea136af070510": {
          "model_module": "@jupyter-widgets/controls",
          "model_name": "FloatProgressModel",
          "model_module_version": "1.5.0",
          "state": {
            "_dom_classes": [],
            "_model_module": "@jupyter-widgets/controls",
            "_model_module_version": "1.5.0",
            "_model_name": "FloatProgressModel",
            "_view_count": null,
            "_view_module": "@jupyter-widgets/controls",
            "_view_module_version": "1.5.0",
            "_view_name": "ProgressView",
            "bar_style": "success",
            "description": "",
            "description_tooltip": null,
            "layout": "IPY_MODEL_68231e3253674ca4b5285289ce1755ef",
            "max": 350,
            "min": 0,
            "orientation": "horizontal",
            "style": "IPY_MODEL_7f2b53b735fd4ab38fb4b12c3fe09a46",
            "value": 350
          }
        },
        "4329f58cfc28486db6ffd922534642bd": {
          "model_module": "@jupyter-widgets/controls",
          "model_name": "HTMLModel",
          "model_module_version": "1.5.0",
          "state": {
            "_dom_classes": [],
            "_model_module": "@jupyter-widgets/controls",
            "_model_module_version": "1.5.0",
            "_model_name": "HTMLModel",
            "_view_count": null,
            "_view_module": "@jupyter-widgets/controls",
            "_view_module_version": "1.5.0",
            "_view_name": "HTMLView",
            "description": "",
            "description_tooltip": null,
            "layout": "IPY_MODEL_51c3339f67854d2cb435fbe0b23e06d4",
            "placeholder": "​",
            "style": "IPY_MODEL_ca64db14abb54393b20260d196d23183",
            "value": " 350/350 [00:00&lt;00:00, 618.60 examples/s]"
          }
        },
        "e58abf7f7de5443ca478eec9ce3e5e0d": {
          "model_module": "@jupyter-widgets/base",
          "model_name": "LayoutModel",
          "model_module_version": "1.2.0",
          "state": {
            "_model_module": "@jupyter-widgets/base",
            "_model_module_version": "1.2.0",
            "_model_name": "LayoutModel",
            "_view_count": null,
            "_view_module": "@jupyter-widgets/base",
            "_view_module_version": "1.2.0",
            "_view_name": "LayoutView",
            "align_content": null,
            "align_items": null,
            "align_self": null,
            "border": null,
            "bottom": null,
            "display": null,
            "flex": null,
            "flex_flow": null,
            "grid_area": null,
            "grid_auto_columns": null,
            "grid_auto_flow": null,
            "grid_auto_rows": null,
            "grid_column": null,
            "grid_gap": null,
            "grid_row": null,
            "grid_template_areas": null,
            "grid_template_columns": null,
            "grid_template_rows": null,
            "height": null,
            "justify_content": null,
            "justify_items": null,
            "left": null,
            "margin": null,
            "max_height": null,
            "max_width": null,
            "min_height": null,
            "min_width": null,
            "object_fit": null,
            "object_position": null,
            "order": null,
            "overflow": null,
            "overflow_x": null,
            "overflow_y": null,
            "padding": null,
            "right": null,
            "top": null,
            "visibility": null,
            "width": null
          }
        },
        "93027bf3636f433590f7825f6e3769e4": {
          "model_module": "@jupyter-widgets/base",
          "model_name": "LayoutModel",
          "model_module_version": "1.2.0",
          "state": {
            "_model_module": "@jupyter-widgets/base",
            "_model_module_version": "1.2.0",
            "_model_name": "LayoutModel",
            "_view_count": null,
            "_view_module": "@jupyter-widgets/base",
            "_view_module_version": "1.2.0",
            "_view_name": "LayoutView",
            "align_content": null,
            "align_items": null,
            "align_self": null,
            "border": null,
            "bottom": null,
            "display": null,
            "flex": null,
            "flex_flow": null,
            "grid_area": null,
            "grid_auto_columns": null,
            "grid_auto_flow": null,
            "grid_auto_rows": null,
            "grid_column": null,
            "grid_gap": null,
            "grid_row": null,
            "grid_template_areas": null,
            "grid_template_columns": null,
            "grid_template_rows": null,
            "height": null,
            "justify_content": null,
            "justify_items": null,
            "left": null,
            "margin": null,
            "max_height": null,
            "max_width": null,
            "min_height": null,
            "min_width": null,
            "object_fit": null,
            "object_position": null,
            "order": null,
            "overflow": null,
            "overflow_x": null,
            "overflow_y": null,
            "padding": null,
            "right": null,
            "top": null,
            "visibility": null,
            "width": null
          }
        },
        "4d1a2695a9e54f698509729f9827c0fa": {
          "model_module": "@jupyter-widgets/controls",
          "model_name": "DescriptionStyleModel",
          "model_module_version": "1.5.0",
          "state": {
            "_model_module": "@jupyter-widgets/controls",
            "_model_module_version": "1.5.0",
            "_model_name": "DescriptionStyleModel",
            "_view_count": null,
            "_view_module": "@jupyter-widgets/base",
            "_view_module_version": "1.2.0",
            "_view_name": "StyleView",
            "description_width": ""
          }
        },
        "68231e3253674ca4b5285289ce1755ef": {
          "model_module": "@jupyter-widgets/base",
          "model_name": "LayoutModel",
          "model_module_version": "1.2.0",
          "state": {
            "_model_module": "@jupyter-widgets/base",
            "_model_module_version": "1.2.0",
            "_model_name": "LayoutModel",
            "_view_count": null,
            "_view_module": "@jupyter-widgets/base",
            "_view_module_version": "1.2.0",
            "_view_name": "LayoutView",
            "align_content": null,
            "align_items": null,
            "align_self": null,
            "border": null,
            "bottom": null,
            "display": null,
            "flex": null,
            "flex_flow": null,
            "grid_area": null,
            "grid_auto_columns": null,
            "grid_auto_flow": null,
            "grid_auto_rows": null,
            "grid_column": null,
            "grid_gap": null,
            "grid_row": null,
            "grid_template_areas": null,
            "grid_template_columns": null,
            "grid_template_rows": null,
            "height": null,
            "justify_content": null,
            "justify_items": null,
            "left": null,
            "margin": null,
            "max_height": null,
            "max_width": null,
            "min_height": null,
            "min_width": null,
            "object_fit": null,
            "object_position": null,
            "order": null,
            "overflow": null,
            "overflow_x": null,
            "overflow_y": null,
            "padding": null,
            "right": null,
            "top": null,
            "visibility": null,
            "width": null
          }
        },
        "7f2b53b735fd4ab38fb4b12c3fe09a46": {
          "model_module": "@jupyter-widgets/controls",
          "model_name": "ProgressStyleModel",
          "model_module_version": "1.5.0",
          "state": {
            "_model_module": "@jupyter-widgets/controls",
            "_model_module_version": "1.5.0",
            "_model_name": "ProgressStyleModel",
            "_view_count": null,
            "_view_module": "@jupyter-widgets/base",
            "_view_module_version": "1.2.0",
            "_view_name": "StyleView",
            "bar_color": null,
            "description_width": ""
          }
        },
        "51c3339f67854d2cb435fbe0b23e06d4": {
          "model_module": "@jupyter-widgets/base",
          "model_name": "LayoutModel",
          "model_module_version": "1.2.0",
          "state": {
            "_model_module": "@jupyter-widgets/base",
            "_model_module_version": "1.2.0",
            "_model_name": "LayoutModel",
            "_view_count": null,
            "_view_module": "@jupyter-widgets/base",
            "_view_module_version": "1.2.0",
            "_view_name": "LayoutView",
            "align_content": null,
            "align_items": null,
            "align_self": null,
            "border": null,
            "bottom": null,
            "display": null,
            "flex": null,
            "flex_flow": null,
            "grid_area": null,
            "grid_auto_columns": null,
            "grid_auto_flow": null,
            "grid_auto_rows": null,
            "grid_column": null,
            "grid_gap": null,
            "grid_row": null,
            "grid_template_areas": null,
            "grid_template_columns": null,
            "grid_template_rows": null,
            "height": null,
            "justify_content": null,
            "justify_items": null,
            "left": null,
            "margin": null,
            "max_height": null,
            "max_width": null,
            "min_height": null,
            "min_width": null,
            "object_fit": null,
            "object_position": null,
            "order": null,
            "overflow": null,
            "overflow_x": null,
            "overflow_y": null,
            "padding": null,
            "right": null,
            "top": null,
            "visibility": null,
            "width": null
          }
        },
        "ca64db14abb54393b20260d196d23183": {
          "model_module": "@jupyter-widgets/controls",
          "model_name": "DescriptionStyleModel",
          "model_module_version": "1.5.0",
          "state": {
            "_model_module": "@jupyter-widgets/controls",
            "_model_module_version": "1.5.0",
            "_model_name": "DescriptionStyleModel",
            "_view_count": null,
            "_view_module": "@jupyter-widgets/base",
            "_view_module_version": "1.2.0",
            "_view_name": "StyleView",
            "description_width": ""
          }
        },
        "fa00e4358799452eb67075f31caa90f2": {
          "model_module": "@jupyter-widgets/controls",
          "model_name": "HBoxModel",
          "model_module_version": "1.5.0",
          "state": {
            "_dom_classes": [],
            "_model_module": "@jupyter-widgets/controls",
            "_model_module_version": "1.5.0",
            "_model_name": "HBoxModel",
            "_view_count": null,
            "_view_module": "@jupyter-widgets/controls",
            "_view_module_version": "1.5.0",
            "_view_name": "HBoxView",
            "box_style": "",
            "children": [
              "IPY_MODEL_49b1b6cc51c94ef2bd1001a2be64ae27",
              "IPY_MODEL_ca38ddf6a3fe4a20b528d53e624fe555",
              "IPY_MODEL_b1bc4d48b0ff4f4fabc291e30480b07b"
            ],
            "layout": "IPY_MODEL_fe8c2d75bace4eeb9e70c4eea2eaa743"
          }
        },
        "49b1b6cc51c94ef2bd1001a2be64ae27": {
          "model_module": "@jupyter-widgets/controls",
          "model_name": "HTMLModel",
          "model_module_version": "1.5.0",
          "state": {
            "_dom_classes": [],
            "_model_module": "@jupyter-widgets/controls",
            "_model_module_version": "1.5.0",
            "_model_name": "HTMLModel",
            "_view_count": null,
            "_view_module": "@jupyter-widgets/controls",
            "_view_module_version": "1.5.0",
            "_view_name": "HTMLView",
            "description": "",
            "description_tooltip": null,
            "layout": "IPY_MODEL_ffd60bc272754a46a6b9ac8736c01e75",
            "placeholder": "​",
            "style": "IPY_MODEL_71697003cd4b491daae849c0196547e8",
            "value": "Map: 100%"
          }
        },
        "ca38ddf6a3fe4a20b528d53e624fe555": {
          "model_module": "@jupyter-widgets/controls",
          "model_name": "FloatProgressModel",
          "model_module_version": "1.5.0",
          "state": {
            "_dom_classes": [],
            "_model_module": "@jupyter-widgets/controls",
            "_model_module_version": "1.5.0",
            "_model_name": "FloatProgressModel",
            "_view_count": null,
            "_view_module": "@jupyter-widgets/controls",
            "_view_module_version": "1.5.0",
            "_view_name": "ProgressView",
            "bar_style": "success",
            "description": "",
            "description_tooltip": null,
            "layout": "IPY_MODEL_7220e0d3f3824c5cbaea5306a49ce683",
            "max": 150,
            "min": 0,
            "orientation": "horizontal",
            "style": "IPY_MODEL_6b4e5233294541e9814a439bbfc15bb0",
            "value": 150
          }
        },
        "b1bc4d48b0ff4f4fabc291e30480b07b": {
          "model_module": "@jupyter-widgets/controls",
          "model_name": "HTMLModel",
          "model_module_version": "1.5.0",
          "state": {
            "_dom_classes": [],
            "_model_module": "@jupyter-widgets/controls",
            "_model_module_version": "1.5.0",
            "_model_name": "HTMLModel",
            "_view_count": null,
            "_view_module": "@jupyter-widgets/controls",
            "_view_module_version": "1.5.0",
            "_view_name": "HTMLView",
            "description": "",
            "description_tooltip": null,
            "layout": "IPY_MODEL_ec673658f3a04875843b2a379db688ac",
            "placeholder": "​",
            "style": "IPY_MODEL_774531cc7dc7478e98d1327cc2817085",
            "value": " 150/150 [00:00&lt;00:00, 609.58 examples/s]"
          }
        },
        "fe8c2d75bace4eeb9e70c4eea2eaa743": {
          "model_module": "@jupyter-widgets/base",
          "model_name": "LayoutModel",
          "model_module_version": "1.2.0",
          "state": {
            "_model_module": "@jupyter-widgets/base",
            "_model_module_version": "1.2.0",
            "_model_name": "LayoutModel",
            "_view_count": null,
            "_view_module": "@jupyter-widgets/base",
            "_view_module_version": "1.2.0",
            "_view_name": "LayoutView",
            "align_content": null,
            "align_items": null,
            "align_self": null,
            "border": null,
            "bottom": null,
            "display": null,
            "flex": null,
            "flex_flow": null,
            "grid_area": null,
            "grid_auto_columns": null,
            "grid_auto_flow": null,
            "grid_auto_rows": null,
            "grid_column": null,
            "grid_gap": null,
            "grid_row": null,
            "grid_template_areas": null,
            "grid_template_columns": null,
            "grid_template_rows": null,
            "height": null,
            "justify_content": null,
            "justify_items": null,
            "left": null,
            "margin": null,
            "max_height": null,
            "max_width": null,
            "min_height": null,
            "min_width": null,
            "object_fit": null,
            "object_position": null,
            "order": null,
            "overflow": null,
            "overflow_x": null,
            "overflow_y": null,
            "padding": null,
            "right": null,
            "top": null,
            "visibility": null,
            "width": null
          }
        },
        "ffd60bc272754a46a6b9ac8736c01e75": {
          "model_module": "@jupyter-widgets/base",
          "model_name": "LayoutModel",
          "model_module_version": "1.2.0",
          "state": {
            "_model_module": "@jupyter-widgets/base",
            "_model_module_version": "1.2.0",
            "_model_name": "LayoutModel",
            "_view_count": null,
            "_view_module": "@jupyter-widgets/base",
            "_view_module_version": "1.2.0",
            "_view_name": "LayoutView",
            "align_content": null,
            "align_items": null,
            "align_self": null,
            "border": null,
            "bottom": null,
            "display": null,
            "flex": null,
            "flex_flow": null,
            "grid_area": null,
            "grid_auto_columns": null,
            "grid_auto_flow": null,
            "grid_auto_rows": null,
            "grid_column": null,
            "grid_gap": null,
            "grid_row": null,
            "grid_template_areas": null,
            "grid_template_columns": null,
            "grid_template_rows": null,
            "height": null,
            "justify_content": null,
            "justify_items": null,
            "left": null,
            "margin": null,
            "max_height": null,
            "max_width": null,
            "min_height": null,
            "min_width": null,
            "object_fit": null,
            "object_position": null,
            "order": null,
            "overflow": null,
            "overflow_x": null,
            "overflow_y": null,
            "padding": null,
            "right": null,
            "top": null,
            "visibility": null,
            "width": null
          }
        },
        "71697003cd4b491daae849c0196547e8": {
          "model_module": "@jupyter-widgets/controls",
          "model_name": "DescriptionStyleModel",
          "model_module_version": "1.5.0",
          "state": {
            "_model_module": "@jupyter-widgets/controls",
            "_model_module_version": "1.5.0",
            "_model_name": "DescriptionStyleModel",
            "_view_count": null,
            "_view_module": "@jupyter-widgets/base",
            "_view_module_version": "1.2.0",
            "_view_name": "StyleView",
            "description_width": ""
          }
        },
        "7220e0d3f3824c5cbaea5306a49ce683": {
          "model_module": "@jupyter-widgets/base",
          "model_name": "LayoutModel",
          "model_module_version": "1.2.0",
          "state": {
            "_model_module": "@jupyter-widgets/base",
            "_model_module_version": "1.2.0",
            "_model_name": "LayoutModel",
            "_view_count": null,
            "_view_module": "@jupyter-widgets/base",
            "_view_module_version": "1.2.0",
            "_view_name": "LayoutView",
            "align_content": null,
            "align_items": null,
            "align_self": null,
            "border": null,
            "bottom": null,
            "display": null,
            "flex": null,
            "flex_flow": null,
            "grid_area": null,
            "grid_auto_columns": null,
            "grid_auto_flow": null,
            "grid_auto_rows": null,
            "grid_column": null,
            "grid_gap": null,
            "grid_row": null,
            "grid_template_areas": null,
            "grid_template_columns": null,
            "grid_template_rows": null,
            "height": null,
            "justify_content": null,
            "justify_items": null,
            "left": null,
            "margin": null,
            "max_height": null,
            "max_width": null,
            "min_height": null,
            "min_width": null,
            "object_fit": null,
            "object_position": null,
            "order": null,
            "overflow": null,
            "overflow_x": null,
            "overflow_y": null,
            "padding": null,
            "right": null,
            "top": null,
            "visibility": null,
            "width": null
          }
        },
        "6b4e5233294541e9814a439bbfc15bb0": {
          "model_module": "@jupyter-widgets/controls",
          "model_name": "ProgressStyleModel",
          "model_module_version": "1.5.0",
          "state": {
            "_model_module": "@jupyter-widgets/controls",
            "_model_module_version": "1.5.0",
            "_model_name": "ProgressStyleModel",
            "_view_count": null,
            "_view_module": "@jupyter-widgets/base",
            "_view_module_version": "1.2.0",
            "_view_name": "StyleView",
            "bar_color": null,
            "description_width": ""
          }
        },
        "ec673658f3a04875843b2a379db688ac": {
          "model_module": "@jupyter-widgets/base",
          "model_name": "LayoutModel",
          "model_module_version": "1.2.0",
          "state": {
            "_model_module": "@jupyter-widgets/base",
            "_model_module_version": "1.2.0",
            "_model_name": "LayoutModel",
            "_view_count": null,
            "_view_module": "@jupyter-widgets/base",
            "_view_module_version": "1.2.0",
            "_view_name": "LayoutView",
            "align_content": null,
            "align_items": null,
            "align_self": null,
            "border": null,
            "bottom": null,
            "display": null,
            "flex": null,
            "flex_flow": null,
            "grid_area": null,
            "grid_auto_columns": null,
            "grid_auto_flow": null,
            "grid_auto_rows": null,
            "grid_column": null,
            "grid_gap": null,
            "grid_row": null,
            "grid_template_areas": null,
            "grid_template_columns": null,
            "grid_template_rows": null,
            "height": null,
            "justify_content": null,
            "justify_items": null,
            "left": null,
            "margin": null,
            "max_height": null,
            "max_width": null,
            "min_height": null,
            "min_width": null,
            "object_fit": null,
            "object_position": null,
            "order": null,
            "overflow": null,
            "overflow_x": null,
            "overflow_y": null,
            "padding": null,
            "right": null,
            "top": null,
            "visibility": null,
            "width": null
          }
        },
        "774531cc7dc7478e98d1327cc2817085": {
          "model_module": "@jupyter-widgets/controls",
          "model_name": "DescriptionStyleModel",
          "model_module_version": "1.5.0",
          "state": {
            "_model_module": "@jupyter-widgets/controls",
            "_model_module_version": "1.5.0",
            "_model_name": "DescriptionStyleModel",
            "_view_count": null,
            "_view_module": "@jupyter-widgets/base",
            "_view_module_version": "1.2.0",
            "_view_name": "StyleView",
            "description_width": ""
          }
        },
        "2a833f9efddb42b9a69f62a1e9904c59": {
          "model_module": "@jupyter-widgets/controls",
          "model_name": "HBoxModel",
          "model_module_version": "1.5.0",
          "state": {
            "_dom_classes": [],
            "_model_module": "@jupyter-widgets/controls",
            "_model_module_version": "1.5.0",
            "_model_name": "HBoxModel",
            "_view_count": null,
            "_view_module": "@jupyter-widgets/controls",
            "_view_module_version": "1.5.0",
            "_view_name": "HBoxView",
            "box_style": "",
            "children": [
              "IPY_MODEL_c4eae0c9585e4c828f0351dfa4c60269",
              "IPY_MODEL_4c92d7025de04617b94c1700cd0b24b4",
              "IPY_MODEL_113255d8dbba425b8dd213104d3a76ab"
            ],
            "layout": "IPY_MODEL_3fcca3beaf8d4c0c8729cbf42ae90d28"
          }
        },
        "c4eae0c9585e4c828f0351dfa4c60269": {
          "model_module": "@jupyter-widgets/controls",
          "model_name": "HTMLModel",
          "model_module_version": "1.5.0",
          "state": {
            "_dom_classes": [],
            "_model_module": "@jupyter-widgets/controls",
            "_model_module_version": "1.5.0",
            "_model_name": "HTMLModel",
            "_view_count": null,
            "_view_module": "@jupyter-widgets/controls",
            "_view_module_version": "1.5.0",
            "_view_name": "HTMLView",
            "description": "",
            "description_tooltip": null,
            "layout": "IPY_MODEL_7b74469180bc4f9192ae471ca9edfeaa",
            "placeholder": "​",
            "style": "IPY_MODEL_b5c981328bff470f820dbbf179c547f4",
            "value": "config.json: 100%"
          }
        },
        "4c92d7025de04617b94c1700cd0b24b4": {
          "model_module": "@jupyter-widgets/controls",
          "model_name": "FloatProgressModel",
          "model_module_version": "1.5.0",
          "state": {
            "_dom_classes": [],
            "_model_module": "@jupyter-widgets/controls",
            "_model_module_version": "1.5.0",
            "_model_name": "FloatProgressModel",
            "_view_count": null,
            "_view_module": "@jupyter-widgets/controls",
            "_view_module_version": "1.5.0",
            "_view_name": "ProgressView",
            "bar_style": "success",
            "description": "",
            "description_tooltip": null,
            "layout": "IPY_MODEL_30f78638117d46c9a63fe9a32344f08c",
            "max": 613,
            "min": 0,
            "orientation": "horizontal",
            "style": "IPY_MODEL_14f001e06af446b2904e7dd7b60bb3f4",
            "value": 613
          }
        },
        "113255d8dbba425b8dd213104d3a76ab": {
          "model_module": "@jupyter-widgets/controls",
          "model_name": "HTMLModel",
          "model_module_version": "1.5.0",
          "state": {
            "_dom_classes": [],
            "_model_module": "@jupyter-widgets/controls",
            "_model_module_version": "1.5.0",
            "_model_name": "HTMLModel",
            "_view_count": null,
            "_view_module": "@jupyter-widgets/controls",
            "_view_module_version": "1.5.0",
            "_view_name": "HTMLView",
            "description": "",
            "description_tooltip": null,
            "layout": "IPY_MODEL_3f63a6cdd6024515b1bebd6000f7a6ca",
            "placeholder": "​",
            "style": "IPY_MODEL_db4cb63e4fce4b2c911ba04a3a24e228",
            "value": " 613/613 [00:00&lt;00:00, 60.1kB/s]"
          }
        },
        "3fcca3beaf8d4c0c8729cbf42ae90d28": {
          "model_module": "@jupyter-widgets/base",
          "model_name": "LayoutModel",
          "model_module_version": "1.2.0",
          "state": {
            "_model_module": "@jupyter-widgets/base",
            "_model_module_version": "1.2.0",
            "_model_name": "LayoutModel",
            "_view_count": null,
            "_view_module": "@jupyter-widgets/base",
            "_view_module_version": "1.2.0",
            "_view_name": "LayoutView",
            "align_content": null,
            "align_items": null,
            "align_self": null,
            "border": null,
            "bottom": null,
            "display": null,
            "flex": null,
            "flex_flow": null,
            "grid_area": null,
            "grid_auto_columns": null,
            "grid_auto_flow": null,
            "grid_auto_rows": null,
            "grid_column": null,
            "grid_gap": null,
            "grid_row": null,
            "grid_template_areas": null,
            "grid_template_columns": null,
            "grid_template_rows": null,
            "height": null,
            "justify_content": null,
            "justify_items": null,
            "left": null,
            "margin": null,
            "max_height": null,
            "max_width": null,
            "min_height": null,
            "min_width": null,
            "object_fit": null,
            "object_position": null,
            "order": null,
            "overflow": null,
            "overflow_x": null,
            "overflow_y": null,
            "padding": null,
            "right": null,
            "top": null,
            "visibility": null,
            "width": null
          }
        },
        "7b74469180bc4f9192ae471ca9edfeaa": {
          "model_module": "@jupyter-widgets/base",
          "model_name": "LayoutModel",
          "model_module_version": "1.2.0",
          "state": {
            "_model_module": "@jupyter-widgets/base",
            "_model_module_version": "1.2.0",
            "_model_name": "LayoutModel",
            "_view_count": null,
            "_view_module": "@jupyter-widgets/base",
            "_view_module_version": "1.2.0",
            "_view_name": "LayoutView",
            "align_content": null,
            "align_items": null,
            "align_self": null,
            "border": null,
            "bottom": null,
            "display": null,
            "flex": null,
            "flex_flow": null,
            "grid_area": null,
            "grid_auto_columns": null,
            "grid_auto_flow": null,
            "grid_auto_rows": null,
            "grid_column": null,
            "grid_gap": null,
            "grid_row": null,
            "grid_template_areas": null,
            "grid_template_columns": null,
            "grid_template_rows": null,
            "height": null,
            "justify_content": null,
            "justify_items": null,
            "left": null,
            "margin": null,
            "max_height": null,
            "max_width": null,
            "min_height": null,
            "min_width": null,
            "object_fit": null,
            "object_position": null,
            "order": null,
            "overflow": null,
            "overflow_x": null,
            "overflow_y": null,
            "padding": null,
            "right": null,
            "top": null,
            "visibility": null,
            "width": null
          }
        },
        "b5c981328bff470f820dbbf179c547f4": {
          "model_module": "@jupyter-widgets/controls",
          "model_name": "DescriptionStyleModel",
          "model_module_version": "1.5.0",
          "state": {
            "_model_module": "@jupyter-widgets/controls",
            "_model_module_version": "1.5.0",
            "_model_name": "DescriptionStyleModel",
            "_view_count": null,
            "_view_module": "@jupyter-widgets/base",
            "_view_module_version": "1.2.0",
            "_view_name": "StyleView",
            "description_width": ""
          }
        },
        "30f78638117d46c9a63fe9a32344f08c": {
          "model_module": "@jupyter-widgets/base",
          "model_name": "LayoutModel",
          "model_module_version": "1.2.0",
          "state": {
            "_model_module": "@jupyter-widgets/base",
            "_model_module_version": "1.2.0",
            "_model_name": "LayoutModel",
            "_view_count": null,
            "_view_module": "@jupyter-widgets/base",
            "_view_module_version": "1.2.0",
            "_view_name": "LayoutView",
            "align_content": null,
            "align_items": null,
            "align_self": null,
            "border": null,
            "bottom": null,
            "display": null,
            "flex": null,
            "flex_flow": null,
            "grid_area": null,
            "grid_auto_columns": null,
            "grid_auto_flow": null,
            "grid_auto_rows": null,
            "grid_column": null,
            "grid_gap": null,
            "grid_row": null,
            "grid_template_areas": null,
            "grid_template_columns": null,
            "grid_template_rows": null,
            "height": null,
            "justify_content": null,
            "justify_items": null,
            "left": null,
            "margin": null,
            "max_height": null,
            "max_width": null,
            "min_height": null,
            "min_width": null,
            "object_fit": null,
            "object_position": null,
            "order": null,
            "overflow": null,
            "overflow_x": null,
            "overflow_y": null,
            "padding": null,
            "right": null,
            "top": null,
            "visibility": null,
            "width": null
          }
        },
        "14f001e06af446b2904e7dd7b60bb3f4": {
          "model_module": "@jupyter-widgets/controls",
          "model_name": "ProgressStyleModel",
          "model_module_version": "1.5.0",
          "state": {
            "_model_module": "@jupyter-widgets/controls",
            "_model_module_version": "1.5.0",
            "_model_name": "ProgressStyleModel",
            "_view_count": null,
            "_view_module": "@jupyter-widgets/base",
            "_view_module_version": "1.2.0",
            "_view_name": "StyleView",
            "bar_color": null,
            "description_width": ""
          }
        },
        "3f63a6cdd6024515b1bebd6000f7a6ca": {
          "model_module": "@jupyter-widgets/base",
          "model_name": "LayoutModel",
          "model_module_version": "1.2.0",
          "state": {
            "_model_module": "@jupyter-widgets/base",
            "_model_module_version": "1.2.0",
            "_model_name": "LayoutModel",
            "_view_count": null,
            "_view_module": "@jupyter-widgets/base",
            "_view_module_version": "1.2.0",
            "_view_name": "LayoutView",
            "align_content": null,
            "align_items": null,
            "align_self": null,
            "border": null,
            "bottom": null,
            "display": null,
            "flex": null,
            "flex_flow": null,
            "grid_area": null,
            "grid_auto_columns": null,
            "grid_auto_flow": null,
            "grid_auto_rows": null,
            "grid_column": null,
            "grid_gap": null,
            "grid_row": null,
            "grid_template_areas": null,
            "grid_template_columns": null,
            "grid_template_rows": null,
            "height": null,
            "justify_content": null,
            "justify_items": null,
            "left": null,
            "margin": null,
            "max_height": null,
            "max_width": null,
            "min_height": null,
            "min_width": null,
            "object_fit": null,
            "object_position": null,
            "order": null,
            "overflow": null,
            "overflow_x": null,
            "overflow_y": null,
            "padding": null,
            "right": null,
            "top": null,
            "visibility": null,
            "width": null
          }
        },
        "db4cb63e4fce4b2c911ba04a3a24e228": {
          "model_module": "@jupyter-widgets/controls",
          "model_name": "DescriptionStyleModel",
          "model_module_version": "1.5.0",
          "state": {
            "_model_module": "@jupyter-widgets/controls",
            "_model_module_version": "1.5.0",
            "_model_name": "DescriptionStyleModel",
            "_view_count": null,
            "_view_module": "@jupyter-widgets/base",
            "_view_module_version": "1.2.0",
            "_view_name": "StyleView",
            "description_width": ""
          }
        },
        "fac33218610e4724a0f88b9136929a1e": {
          "model_module": "@jupyter-widgets/controls",
          "model_name": "HBoxModel",
          "model_module_version": "1.5.0",
          "state": {
            "_dom_classes": [],
            "_model_module": "@jupyter-widgets/controls",
            "_model_module_version": "1.5.0",
            "_model_name": "HBoxModel",
            "_view_count": null,
            "_view_module": "@jupyter-widgets/controls",
            "_view_module_version": "1.5.0",
            "_view_name": "HBoxView",
            "box_style": "",
            "children": [
              "IPY_MODEL_4bb18fc71f62406191d6f8191f9c1e2e",
              "IPY_MODEL_4cabc58f27504986bdc792b15343acee",
              "IPY_MODEL_a1a304e052e04419980bfd0d0448cfed"
            ],
            "layout": "IPY_MODEL_9fed5036252649be8cf2a3a523da409e"
          }
        },
        "4bb18fc71f62406191d6f8191f9c1e2e": {
          "model_module": "@jupyter-widgets/controls",
          "model_name": "HTMLModel",
          "model_module_version": "1.5.0",
          "state": {
            "_dom_classes": [],
            "_model_module": "@jupyter-widgets/controls",
            "_model_module_version": "1.5.0",
            "_model_name": "HTMLModel",
            "_view_count": null,
            "_view_module": "@jupyter-widgets/controls",
            "_view_module_version": "1.5.0",
            "_view_name": "HTMLView",
            "description": "",
            "description_tooltip": null,
            "layout": "IPY_MODEL_45ff262735944e3cb34d9e7c28b78f4f",
            "placeholder": "​",
            "style": "IPY_MODEL_8fd7885984534c159c76bf56b9ddf833",
            "value": "pytorch_model.bin: 100%"
          }
        },
        "4cabc58f27504986bdc792b15343acee": {
          "model_module": "@jupyter-widgets/controls",
          "model_name": "FloatProgressModel",
          "model_module_version": "1.5.0",
          "state": {
            "_dom_classes": [],
            "_model_module": "@jupyter-widgets/controls",
            "_model_module_version": "1.5.0",
            "_model_name": "FloatProgressModel",
            "_view_count": null,
            "_view_module": "@jupyter-widgets/controls",
            "_view_module_version": "1.5.0",
            "_view_name": "ProgressView",
            "bar_style": "success",
            "description": "",
            "description_tooltip": null,
            "layout": "IPY_MODEL_d9421efe3408474b9f65193f298952b2",
            "max": 499069583,
            "min": 0,
            "orientation": "horizontal",
            "style": "IPY_MODEL_b0a98ecf58db4bc6b59311fa5801d4e5",
            "value": 499069583
          }
        },
        "a1a304e052e04419980bfd0d0448cfed": {
          "model_module": "@jupyter-widgets/controls",
          "model_name": "HTMLModel",
          "model_module_version": "1.5.0",
          "state": {
            "_dom_classes": [],
            "_model_module": "@jupyter-widgets/controls",
            "_model_module_version": "1.5.0",
            "_model_name": "HTMLModel",
            "_view_count": null,
            "_view_module": "@jupyter-widgets/controls",
            "_view_module_version": "1.5.0",
            "_view_name": "HTMLView",
            "description": "",
            "description_tooltip": null,
            "layout": "IPY_MODEL_3f73fd0cc48c42f798fd9bb6c707ca12",
            "placeholder": "​",
            "style": "IPY_MODEL_86a91c234c264697a7d947e590936ce6",
            "value": " 499M/499M [00:03&lt;00:00, 196MB/s]"
          }
        },
        "9fed5036252649be8cf2a3a523da409e": {
          "model_module": "@jupyter-widgets/base",
          "model_name": "LayoutModel",
          "model_module_version": "1.2.0",
          "state": {
            "_model_module": "@jupyter-widgets/base",
            "_model_module_version": "1.2.0",
            "_model_name": "LayoutModel",
            "_view_count": null,
            "_view_module": "@jupyter-widgets/base",
            "_view_module_version": "1.2.0",
            "_view_name": "LayoutView",
            "align_content": null,
            "align_items": null,
            "align_self": null,
            "border": null,
            "bottom": null,
            "display": null,
            "flex": null,
            "flex_flow": null,
            "grid_area": null,
            "grid_auto_columns": null,
            "grid_auto_flow": null,
            "grid_auto_rows": null,
            "grid_column": null,
            "grid_gap": null,
            "grid_row": null,
            "grid_template_areas": null,
            "grid_template_columns": null,
            "grid_template_rows": null,
            "height": null,
            "justify_content": null,
            "justify_items": null,
            "left": null,
            "margin": null,
            "max_height": null,
            "max_width": null,
            "min_height": null,
            "min_width": null,
            "object_fit": null,
            "object_position": null,
            "order": null,
            "overflow": null,
            "overflow_x": null,
            "overflow_y": null,
            "padding": null,
            "right": null,
            "top": null,
            "visibility": null,
            "width": null
          }
        },
        "45ff262735944e3cb34d9e7c28b78f4f": {
          "model_module": "@jupyter-widgets/base",
          "model_name": "LayoutModel",
          "model_module_version": "1.2.0",
          "state": {
            "_model_module": "@jupyter-widgets/base",
            "_model_module_version": "1.2.0",
            "_model_name": "LayoutModel",
            "_view_count": null,
            "_view_module": "@jupyter-widgets/base",
            "_view_module_version": "1.2.0",
            "_view_name": "LayoutView",
            "align_content": null,
            "align_items": null,
            "align_self": null,
            "border": null,
            "bottom": null,
            "display": null,
            "flex": null,
            "flex_flow": null,
            "grid_area": null,
            "grid_auto_columns": null,
            "grid_auto_flow": null,
            "grid_auto_rows": null,
            "grid_column": null,
            "grid_gap": null,
            "grid_row": null,
            "grid_template_areas": null,
            "grid_template_columns": null,
            "grid_template_rows": null,
            "height": null,
            "justify_content": null,
            "justify_items": null,
            "left": null,
            "margin": null,
            "max_height": null,
            "max_width": null,
            "min_height": null,
            "min_width": null,
            "object_fit": null,
            "object_position": null,
            "order": null,
            "overflow": null,
            "overflow_x": null,
            "overflow_y": null,
            "padding": null,
            "right": null,
            "top": null,
            "visibility": null,
            "width": null
          }
        },
        "8fd7885984534c159c76bf56b9ddf833": {
          "model_module": "@jupyter-widgets/controls",
          "model_name": "DescriptionStyleModel",
          "model_module_version": "1.5.0",
          "state": {
            "_model_module": "@jupyter-widgets/controls",
            "_model_module_version": "1.5.0",
            "_model_name": "DescriptionStyleModel",
            "_view_count": null,
            "_view_module": "@jupyter-widgets/base",
            "_view_module_version": "1.2.0",
            "_view_name": "StyleView",
            "description_width": ""
          }
        },
        "d9421efe3408474b9f65193f298952b2": {
          "model_module": "@jupyter-widgets/base",
          "model_name": "LayoutModel",
          "model_module_version": "1.2.0",
          "state": {
            "_model_module": "@jupyter-widgets/base",
            "_model_module_version": "1.2.0",
            "_model_name": "LayoutModel",
            "_view_count": null,
            "_view_module": "@jupyter-widgets/base",
            "_view_module_version": "1.2.0",
            "_view_name": "LayoutView",
            "align_content": null,
            "align_items": null,
            "align_self": null,
            "border": null,
            "bottom": null,
            "display": null,
            "flex": null,
            "flex_flow": null,
            "grid_area": null,
            "grid_auto_columns": null,
            "grid_auto_flow": null,
            "grid_auto_rows": null,
            "grid_column": null,
            "grid_gap": null,
            "grid_row": null,
            "grid_template_areas": null,
            "grid_template_columns": null,
            "grid_template_rows": null,
            "height": null,
            "justify_content": null,
            "justify_items": null,
            "left": null,
            "margin": null,
            "max_height": null,
            "max_width": null,
            "min_height": null,
            "min_width": null,
            "object_fit": null,
            "object_position": null,
            "order": null,
            "overflow": null,
            "overflow_x": null,
            "overflow_y": null,
            "padding": null,
            "right": null,
            "top": null,
            "visibility": null,
            "width": null
          }
        },
        "b0a98ecf58db4bc6b59311fa5801d4e5": {
          "model_module": "@jupyter-widgets/controls",
          "model_name": "ProgressStyleModel",
          "model_module_version": "1.5.0",
          "state": {
            "_model_module": "@jupyter-widgets/controls",
            "_model_module_version": "1.5.0",
            "_model_name": "ProgressStyleModel",
            "_view_count": null,
            "_view_module": "@jupyter-widgets/base",
            "_view_module_version": "1.2.0",
            "_view_name": "StyleView",
            "bar_color": null,
            "description_width": ""
          }
        },
        "3f73fd0cc48c42f798fd9bb6c707ca12": {
          "model_module": "@jupyter-widgets/base",
          "model_name": "LayoutModel",
          "model_module_version": "1.2.0",
          "state": {
            "_model_module": "@jupyter-widgets/base",
            "_model_module_version": "1.2.0",
            "_model_name": "LayoutModel",
            "_view_count": null,
            "_view_module": "@jupyter-widgets/base",
            "_view_module_version": "1.2.0",
            "_view_name": "LayoutView",
            "align_content": null,
            "align_items": null,
            "align_self": null,
            "border": null,
            "bottom": null,
            "display": null,
            "flex": null,
            "flex_flow": null,
            "grid_area": null,
            "grid_auto_columns": null,
            "grid_auto_flow": null,
            "grid_auto_rows": null,
            "grid_column": null,
            "grid_gap": null,
            "grid_row": null,
            "grid_template_areas": null,
            "grid_template_columns": null,
            "grid_template_rows": null,
            "height": null,
            "justify_content": null,
            "justify_items": null,
            "left": null,
            "margin": null,
            "max_height": null,
            "max_width": null,
            "min_height": null,
            "min_width": null,
            "object_fit": null,
            "object_position": null,
            "order": null,
            "overflow": null,
            "overflow_x": null,
            "overflow_y": null,
            "padding": null,
            "right": null,
            "top": null,
            "visibility": null,
            "width": null
          }
        },
        "86a91c234c264697a7d947e590936ce6": {
          "model_module": "@jupyter-widgets/controls",
          "model_name": "DescriptionStyleModel",
          "model_module_version": "1.5.0",
          "state": {
            "_model_module": "@jupyter-widgets/controls",
            "_model_module_version": "1.5.0",
            "_model_name": "DescriptionStyleModel",
            "_view_count": null,
            "_view_module": "@jupyter-widgets/base",
            "_view_module_version": "1.2.0",
            "_view_name": "StyleView",
            "description_width": ""
          }
        }
      }
    }
  },
  "nbformat": 4,
  "nbformat_minor": 5
}